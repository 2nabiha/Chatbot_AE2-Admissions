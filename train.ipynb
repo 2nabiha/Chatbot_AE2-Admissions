{
 "cells": [
  {
   "cell_type": "markdown",
   "id": "734815fbac8b2b68",
   "metadata": {
    "collapsed": false
   },
   "source": [
    "# TRAINING A CHATBOT INTENT CLASSIFIER"
   ]
  },
  {
   "cell_type": "markdown",
   "id": "b3cd4710065b851",
   "metadata": {
    "collapsed": false
   },
   "source": [
    "# 1. Importing the libraries"
   ]
  },
  {
   "cell_type": "code",
   "execution_count": 1,
   "id": "initial_id",
   "metadata": {
    "ExecuteTime": {
     "end_time": "2024-01-07T22:00:48.857087300Z",
     "start_time": "2024-01-07T22:00:39.977968400Z"
    }
   },
   "outputs": [
    {
     "name": "stdout",
     "output_type": "stream",
     "text": [
      "WARNING:tensorflow:From D:\\Users\\dagbo\\OneDrive\\ChatbotAE2\\.venv\\lib\\site-packages\\keras\\src\\losses.py:2976: The name tf.losses.sparse_softmax_cross_entropy is deprecated. Please use tf.compat.v1.losses.sparse_softmax_cross_entropy instead.\n"
     ]
    }
   ],
   "source": [
    "import nltk\n",
    "import numpy as np\n",
    "import random\n",
    "\n",
    "from nltk.stem import WordNetLemmatizer\n",
    "from nltk.tokenize import word_tokenize\n",
    "from nltk.corpus import stopwords\n",
    "\n",
    "from tensorflow.keras.models import Sequential\n",
    "from tensorflow.keras.layers import Dense, Activation, Dropout\n",
    "from tensorflow.keras.optimizers import SGD\n"
   ]
  },
  {
   "cell_type": "markdown",
   "id": "a0b8231bbee48d53",
   "metadata": {
    "collapsed": false
   },
   "source": [
    "# 2. Downloading the NLTK packages"
   ]
  },
  {
   "cell_type": "code",
   "execution_count": 2,
   "id": "4527ea109c19738d",
   "metadata": {
    "collapsed": false,
    "ExecuteTime": {
     "end_time": "2024-01-07T22:00:49.022780200Z",
     "start_time": "2024-01-07T22:00:48.859856700Z"
    }
   },
   "outputs": [
    {
     "name": "stderr",
     "output_type": "stream",
     "text": [
      "[nltk_data] Downloading package wordnet to\n",
      "[nltk_data]     C:\\Users\\dagbo_b40tnyc\\AppData\\Roaming\\nltk_data...\n",
      "[nltk_data]   Package wordnet is already up-to-date!\n",
      "[nltk_data] Downloading package stopwords to\n",
      "[nltk_data]     C:\\Users\\dagbo_b40tnyc\\AppData\\Roaming\\nltk_data...\n",
      "[nltk_data]   Package stopwords is already up-to-date!\n",
      "[nltk_data] Downloading package punkt to\n",
      "[nltk_data]     C:\\Users\\dagbo_b40tnyc\\AppData\\Roaming\\nltk_data...\n",
      "[nltk_data]   Package punkt is already up-to-date!\n"
     ]
    },
    {
     "data": {
      "text/plain": "True"
     },
     "execution_count": 2,
     "metadata": {},
     "output_type": "execute_result"
    }
   ],
   "source": [
    "# download the wordnet and stopwords corpus\n",
    "nltk.download('wordnet') # wordnet is a lexical database for the English language\n",
    "nltk.download('stopwords') # stopwords means words like 'the', 'a', 'an', 'is', 'are', etc.\n",
    "nltk.download('punkt') # punkt means punctuations"
   ]
  },
  {
   "cell_type": "markdown",
   "id": "2df36a839a3b36fc",
   "metadata": {
    "collapsed": false
   },
   "source": [
    "# 3. Importing the intents.json file"
   ]
  },
  {
   "cell_type": "code",
   "execution_count": 3,
   "id": "a0903109b6aef2ec",
   "metadata": {
    "collapsed": false,
    "ExecuteTime": {
     "end_time": "2024-01-07T22:00:49.023757400Z",
     "start_time": "2024-01-07T22:00:49.016128200Z"
    }
   },
   "outputs": [],
   "source": [
    "# import intents file\n",
    "import json\n",
    "\n",
    "def load_intents():\n",
    "    with open('intents.json') as file:\n",
    "        intents = json.load(file)\n",
    "    return intents\n",
    "\n",
    "intents = load_intents()\n",
    "    "
   ]
  },
  {
   "cell_type": "markdown",
   "id": "d37c5c26f7298f46",
   "metadata": {
    "collapsed": false
   },
   "source": [
    "# 4. using nltk techniques to preprocess the data for training"
   ]
  },
  {
   "cell_type": "code",
   "execution_count": 4,
   "id": "b8545efe3805e21d",
   "metadata": {
    "collapsed": false,
    "ExecuteTime": {
     "end_time": "2024-01-07T22:00:50.785766100Z",
     "start_time": "2024-01-07T22:00:49.022780200Z"
    }
   },
   "outputs": [
    {
     "ename": "KeyboardInterrupt",
     "evalue": "",
     "output_type": "error",
     "traceback": [
      "\u001B[1;31m---------------------------------------------------------------------------\u001B[0m",
      "\u001B[1;31mKeyboardInterrupt\u001B[0m                         Traceback (most recent call last)",
      "Cell \u001B[1;32mIn[4], line 38\u001B[0m\n\u001B[0;32m     35\u001B[0m     classes \u001B[38;5;241m=\u001B[39m \u001B[38;5;28msorted\u001B[39m(\u001B[38;5;28mlist\u001B[39m(\u001B[38;5;28mset\u001B[39m(classes)))\n\u001B[0;32m     36\u001B[0m     \u001B[38;5;28;01mreturn\u001B[39;00m documents, classes, words\n\u001B[1;32m---> 38\u001B[0m documents, classes, words \u001B[38;5;241m=\u001B[39m \u001B[43mpreprocess_intents\u001B[49m\u001B[43m(\u001B[49m\u001B[43mintents\u001B[49m\u001B[43m)\u001B[49m\n",
      "Cell \u001B[1;32mIn[4], line 23\u001B[0m, in \u001B[0;36mpreprocess_intents\u001B[1;34m(intents)\u001B[0m\n\u001B[0;32m     21\u001B[0m word \u001B[38;5;241m=\u001B[39m nltk\u001B[38;5;241m.\u001B[39mword_tokenize(pattern) \n\u001B[0;32m     22\u001B[0m \u001B[38;5;66;03m# lemmatize each word and convert into lowercase\u001B[39;00m\n\u001B[1;32m---> 23\u001B[0m word \u001B[38;5;241m=\u001B[39m [lemmatizer\u001B[38;5;241m.\u001B[39mlemmatize(w\u001B[38;5;241m.\u001B[39mlower()) \u001B[38;5;28;01mfor\u001B[39;00m w \u001B[38;5;129;01min\u001B[39;00m word \u001B[38;5;28;01mif\u001B[39;00m w \u001B[38;5;129;01mnot\u001B[39;00m \u001B[38;5;129;01min\u001B[39;00m stop_words \u001B[38;5;129;01mand\u001B[39;00m w \u001B[38;5;129;01mnot\u001B[39;00m \u001B[38;5;129;01min\u001B[39;00m ignore_letters]\n\u001B[0;32m     24\u001B[0m \u001B[38;5;66;03m# add word to the word list\u001B[39;00m\n\u001B[0;32m     25\u001B[0m words\u001B[38;5;241m.\u001B[39mextend(word) \u001B[38;5;66;03m# extend means add to the list and append means add to the end of the list\u001B[39;00m\n",
      "Cell \u001B[1;32mIn[4], line 23\u001B[0m, in \u001B[0;36m<listcomp>\u001B[1;34m(.0)\u001B[0m\n\u001B[0;32m     21\u001B[0m word \u001B[38;5;241m=\u001B[39m nltk\u001B[38;5;241m.\u001B[39mword_tokenize(pattern) \n\u001B[0;32m     22\u001B[0m \u001B[38;5;66;03m# lemmatize each word and convert into lowercase\u001B[39;00m\n\u001B[1;32m---> 23\u001B[0m word \u001B[38;5;241m=\u001B[39m [\u001B[43mlemmatizer\u001B[49m\u001B[38;5;241;43m.\u001B[39;49m\u001B[43mlemmatize\u001B[49m\u001B[43m(\u001B[49m\u001B[43mw\u001B[49m\u001B[38;5;241;43m.\u001B[39;49m\u001B[43mlower\u001B[49m\u001B[43m(\u001B[49m\u001B[43m)\u001B[49m\u001B[43m)\u001B[49m \u001B[38;5;28;01mfor\u001B[39;00m w \u001B[38;5;129;01min\u001B[39;00m word \u001B[38;5;28;01mif\u001B[39;00m w \u001B[38;5;129;01mnot\u001B[39;00m \u001B[38;5;129;01min\u001B[39;00m stop_words \u001B[38;5;129;01mand\u001B[39;00m w \u001B[38;5;129;01mnot\u001B[39;00m \u001B[38;5;129;01min\u001B[39;00m ignore_letters]\n\u001B[0;32m     24\u001B[0m \u001B[38;5;66;03m# add word to the word list\u001B[39;00m\n\u001B[0;32m     25\u001B[0m words\u001B[38;5;241m.\u001B[39mextend(word) \u001B[38;5;66;03m# extend means add to the list and append means add to the end of the list\u001B[39;00m\n",
      "File \u001B[1;32mD:\\Users\\dagbo\\OneDrive\\ChatbotAE2\\.venv\\lib\\site-packages\\nltk\\stem\\wordnet.py:45\u001B[0m, in \u001B[0;36mWordNetLemmatizer.lemmatize\u001B[1;34m(self, word, pos)\u001B[0m\n\u001B[0;32m     33\u001B[0m \u001B[38;5;28;01mdef\u001B[39;00m \u001B[38;5;21mlemmatize\u001B[39m(\u001B[38;5;28mself\u001B[39m, word: \u001B[38;5;28mstr\u001B[39m, pos: \u001B[38;5;28mstr\u001B[39m \u001B[38;5;241m=\u001B[39m \u001B[38;5;124m\"\u001B[39m\u001B[38;5;124mn\u001B[39m\u001B[38;5;124m\"\u001B[39m) \u001B[38;5;241m-\u001B[39m\u001B[38;5;241m>\u001B[39m \u001B[38;5;28mstr\u001B[39m:\n\u001B[0;32m     34\u001B[0m \u001B[38;5;250m    \u001B[39m\u001B[38;5;124;03m\"\"\"Lemmatize `word` using WordNet's built-in morphy function.\u001B[39;00m\n\u001B[0;32m     35\u001B[0m \u001B[38;5;124;03m    Returns the input word unchanged if it cannot be found in WordNet.\u001B[39;00m\n\u001B[0;32m     36\u001B[0m \n\u001B[1;32m   (...)\u001B[0m\n\u001B[0;32m     43\u001B[0m \u001B[38;5;124;03m    :return: The lemma of `word`, for the given `pos`.\u001B[39;00m\n\u001B[0;32m     44\u001B[0m \u001B[38;5;124;03m    \"\"\"\u001B[39;00m\n\u001B[1;32m---> 45\u001B[0m     lemmas \u001B[38;5;241m=\u001B[39m \u001B[43mwn\u001B[49m\u001B[38;5;241;43m.\u001B[39;49m\u001B[43m_morphy\u001B[49m(word, pos)\n\u001B[0;32m     46\u001B[0m     \u001B[38;5;28;01mreturn\u001B[39;00m \u001B[38;5;28mmin\u001B[39m(lemmas, key\u001B[38;5;241m=\u001B[39m\u001B[38;5;28mlen\u001B[39m) \u001B[38;5;28;01mif\u001B[39;00m lemmas \u001B[38;5;28;01melse\u001B[39;00m word\n",
      "File \u001B[1;32mD:\\Users\\dagbo\\OneDrive\\ChatbotAE2\\.venv\\lib\\site-packages\\nltk\\corpus\\util.py:121\u001B[0m, in \u001B[0;36mLazyCorpusLoader.__getattr__\u001B[1;34m(self, attr)\u001B[0m\n\u001B[0;32m    118\u001B[0m \u001B[38;5;28;01mif\u001B[39;00m attr \u001B[38;5;241m==\u001B[39m \u001B[38;5;124m\"\u001B[39m\u001B[38;5;124m__bases__\u001B[39m\u001B[38;5;124m\"\u001B[39m:\n\u001B[0;32m    119\u001B[0m     \u001B[38;5;28;01mraise\u001B[39;00m \u001B[38;5;167;01mAttributeError\u001B[39;00m(\u001B[38;5;124m\"\u001B[39m\u001B[38;5;124mLazyCorpusLoader object has no attribute \u001B[39m\u001B[38;5;124m'\u001B[39m\u001B[38;5;124m__bases__\u001B[39m\u001B[38;5;124m'\u001B[39m\u001B[38;5;124m\"\u001B[39m)\n\u001B[1;32m--> 121\u001B[0m \u001B[38;5;28;43mself\u001B[39;49m\u001B[38;5;241;43m.\u001B[39;49m\u001B[43m__load\u001B[49m\u001B[43m(\u001B[49m\u001B[43m)\u001B[49m\n\u001B[0;32m    122\u001B[0m \u001B[38;5;66;03m# This looks circular, but its not, since __load() changes our\u001B[39;00m\n\u001B[0;32m    123\u001B[0m \u001B[38;5;66;03m# __class__ to something new:\u001B[39;00m\n\u001B[0;32m    124\u001B[0m \u001B[38;5;28;01mreturn\u001B[39;00m \u001B[38;5;28mgetattr\u001B[39m(\u001B[38;5;28mself\u001B[39m, attr)\n",
      "File \u001B[1;32mD:\\Users\\dagbo\\OneDrive\\ChatbotAE2\\.venv\\lib\\site-packages\\nltk\\corpus\\util.py:89\u001B[0m, in \u001B[0;36mLazyCorpusLoader.__load\u001B[1;34m(self)\u001B[0m\n\u001B[0;32m     86\u001B[0m             \u001B[38;5;28;01mraise\u001B[39;00m e\n\u001B[0;32m     88\u001B[0m \u001B[38;5;66;03m# Load the corpus.\u001B[39;00m\n\u001B[1;32m---> 89\u001B[0m corpus \u001B[38;5;241m=\u001B[39m \u001B[38;5;28mself\u001B[39m\u001B[38;5;241m.\u001B[39m__reader_cls(root, \u001B[38;5;241m*\u001B[39m\u001B[38;5;28mself\u001B[39m\u001B[38;5;241m.\u001B[39m__args, \u001B[38;5;241m*\u001B[39m\u001B[38;5;241m*\u001B[39m\u001B[38;5;28mself\u001B[39m\u001B[38;5;241m.\u001B[39m__kwargs)\n\u001B[0;32m     91\u001B[0m \u001B[38;5;66;03m# This is where the magic happens!  Transform ourselves into\u001B[39;00m\n\u001B[0;32m     92\u001B[0m \u001B[38;5;66;03m# the corpus by modifying our own __dict__ and __class__ to\u001B[39;00m\n\u001B[0;32m     93\u001B[0m \u001B[38;5;66;03m# match that of the corpus.\u001B[39;00m\n\u001B[0;32m     95\u001B[0m args, kwargs \u001B[38;5;241m=\u001B[39m \u001B[38;5;28mself\u001B[39m\u001B[38;5;241m.\u001B[39m__args, \u001B[38;5;28mself\u001B[39m\u001B[38;5;241m.\u001B[39m__kwargs\n",
      "File \u001B[1;32mD:\\Users\\dagbo\\OneDrive\\ChatbotAE2\\.venv\\lib\\site-packages\\nltk\\corpus\\reader\\wordnet.py:1206\u001B[0m, in \u001B[0;36mWordNetCorpusReader.__init__\u001B[1;34m(self, root, omw_reader)\u001B[0m\n\u001B[0;32m   1203\u001B[0m         \u001B[38;5;28mself\u001B[39m\u001B[38;5;241m.\u001B[39m_lexnames\u001B[38;5;241m.\u001B[39mappend(lexname)\n\u001B[0;32m   1205\u001B[0m \u001B[38;5;66;03m# Load the indices for lemmas and synset offsets\u001B[39;00m\n\u001B[1;32m-> 1206\u001B[0m \u001B[38;5;28;43mself\u001B[39;49m\u001B[38;5;241;43m.\u001B[39;49m\u001B[43m_load_lemma_pos_offset_map\u001B[49m\u001B[43m(\u001B[49m\u001B[43m)\u001B[49m\n\u001B[0;32m   1208\u001B[0m \u001B[38;5;66;03m# load the exception file data into memory\u001B[39;00m\n\u001B[0;32m   1209\u001B[0m \u001B[38;5;28mself\u001B[39m\u001B[38;5;241m.\u001B[39m_load_exception_map()\n",
      "File \u001B[1;32mD:\\Users\\dagbo\\OneDrive\\ChatbotAE2\\.venv\\lib\\site-packages\\nltk\\corpus\\reader\\wordnet.py:1378\u001B[0m, in \u001B[0;36mWordNetCorpusReader._load_lemma_pos_offset_map\u001B[1;34m(self)\u001B[0m\n\u001B[0;32m   1373\u001B[0m     \u001B[38;5;28;01mreturn\u001B[39;00m \u001B[38;5;28mnext\u001B[39m(_iter)\n\u001B[0;32m   1375\u001B[0m \u001B[38;5;28;01mtry\u001B[39;00m:\n\u001B[0;32m   1376\u001B[0m \n\u001B[0;32m   1377\u001B[0m     \u001B[38;5;66;03m# get the lemma and part-of-speech\u001B[39;00m\n\u001B[1;32m-> 1378\u001B[0m     lemma \u001B[38;5;241m=\u001B[39m \u001B[43m_next_token\u001B[49m\u001B[43m(\u001B[49m\u001B[43m)\u001B[49m\n\u001B[0;32m   1379\u001B[0m     pos \u001B[38;5;241m=\u001B[39m _next_token()\n\u001B[0;32m   1381\u001B[0m     \u001B[38;5;66;03m# get the number of synsets for this lemma\u001B[39;00m\n",
      "File \u001B[1;32mD:\\Users\\dagbo\\OneDrive\\ChatbotAE2\\.venv\\lib\\site-packages\\nltk\\corpus\\reader\\wordnet.py:1372\u001B[0m, in \u001B[0;36mWordNetCorpusReader._load_lemma_pos_offset_map.<locals>._next_token\u001B[1;34m()\u001B[0m\n\u001B[0;32m   1368\u001B[0m     \u001B[38;5;28;01mcontinue\u001B[39;00m\n\u001B[0;32m   1370\u001B[0m _iter \u001B[38;5;241m=\u001B[39m \u001B[38;5;28miter\u001B[39m(line\u001B[38;5;241m.\u001B[39msplit())\n\u001B[1;32m-> 1372\u001B[0m \u001B[38;5;28;01mdef\u001B[39;00m \u001B[38;5;21m_next_token\u001B[39m():\n\u001B[0;32m   1373\u001B[0m     \u001B[38;5;28;01mreturn\u001B[39;00m \u001B[38;5;28mnext\u001B[39m(_iter)\n\u001B[0;32m   1375\u001B[0m \u001B[38;5;28;01mtry\u001B[39;00m:\n\u001B[0;32m   1376\u001B[0m \n\u001B[0;32m   1377\u001B[0m     \u001B[38;5;66;03m# get the lemma and part-of-speech\u001B[39;00m\n",
      "\u001B[1;31mKeyboardInterrupt\u001B[0m: "
     ]
    }
   ],
   "source": [
    "# initialize lemmatizer to get stem of words\n",
    "lemmatizer = WordNetLemmatizer() # lemma is the root form of the word and it is very accurate than stemming\n",
    "\n",
    "\n",
    "# loop through each sentence in the intent's patterns\n",
    "def preprocess_intents(intents):\n",
    "    # create empty lists for documents, classes and words\n",
    "    documents = [] # documents means patterns\n",
    "    classes = [] # classes means tags\n",
    "    words = [] # words means vocabulary\n",
    "    ignore_letters = ['!', '?', ',', '.'] # ignore these letters\n",
    "    stop_words = set(stopwords.words('english')) # stop words are words like 'the', 'a', 'an', 'is', 'are', etc.\n",
    "\n",
    "\n",
    "    for intent in intents['intents']:\n",
    "        \n",
    "        # debug for keyerror @ 'patterns'\n",
    "        # print(intent['patterns'])\n",
    "        for pattern in intent['patterns']:\n",
    "            # tokenize each and every word in the sentence\n",
    "            word = nltk.word_tokenize(pattern) \n",
    "            # lemmatize each word and convert into lowercase\n",
    "            word = [lemmatizer.lemmatize(w.lower()) for w in word if w not in stop_words and w not in ignore_letters]\n",
    "            # add word to the word list\n",
    "            words.extend(word) # extend means add to the list and append means add to the end of the list\n",
    "            # add word(s) to documents\n",
    "            documents.append((word, intent['tag'])) #\n",
    "            # add tags to our classes list\n",
    "            if intent['tag'] not in classes: # if tag is not in classes list\n",
    "                classes.append(intent['tag']) # then add it to the classes list\n",
    "                \n",
    "    # sort words and remove duplicates\n",
    "    words = sorted(list(set(words)))\n",
    "    # sort classes\n",
    "    classes = sorted(list(set(classes)))\n",
    "    return documents, classes, words\n",
    "\n",
    "documents, classes, words = preprocess_intents(intents)\n"
   ]
  },
  {
   "cell_type": "code",
   "execution_count": null,
   "id": "fc4c08e3757e725a",
   "metadata": {
    "collapsed": false,
    "ExecuteTime": {
     "start_time": "2024-01-07T22:00:50.789936300Z"
    }
   },
   "outputs": [],
   "source": [
    "from tensorflow.keras.preprocessing.text import Tokenizer\n",
    "from tensorflow.keras.preprocessing.sequence import pad_sequences\n",
    "from sklearn.preprocessing import LabelEncoder\n",
    "from tensorflow.keras.utils import to_categorical\n",
    "from sklearn.model_selection import train_test_split\n",
    "\n",
    "def preprocess_data_for_lstm(documents, words, classes, max_sequence_len=None):\n",
    "    tokenizer = Tokenizer(num_words=len(words))\n",
    "    tokenizer.fit_on_texts(words)\n",
    "\n",
    "    X = tokenizer.texts_to_sequences([' '.join(doc[0]) for doc in documents])\n",
    "    \n",
    "    if not max_sequence_len:\n",
    "        max_sequence_len = max([len(x) for x in X])\n",
    "    \n",
    "    X_padded = pad_sequences(X, maxlen=max_sequence_len, padding='post')\n",
    "\n",
    "    encoder = LabelEncoder()\n",
    "    Y = encoder.fit_transform([doc[1] for doc in documents])\n",
    "    Y_categorical = to_categorical(Y)\n",
    "\n",
    "    train_x, test_x, train_y, test_y = train_test_split(X_padded, Y_categorical, test_size=0.3, random_state=42)\n",
    "\n",
    "    return train_x, test_x, train_y, test_y, max_sequence_len, tokenizer, encoder\n"
   ]
  },
  {
   "cell_type": "code",
   "execution_count": null,
   "id": "39c9f03a7e0fc5eb",
   "metadata": {
    "collapsed": false,
    "ExecuteTime": {
     "end_time": "2024-01-07T22:00:50.799363200Z",
     "start_time": "2024-01-07T22:00:50.794825100Z"
    }
   },
   "outputs": [],
   "source": [
    "from tensorflow.keras.models import Sequential\n",
    "from tensorflow.keras.layers import LSTM, Dense, Embedding, Dropout\n",
    "\n",
    "def create_and_train_lstm(train_x, train_y, test_x, test_y, max_sequence_len, num_words, num_classes):\n",
    "    model = Sequential()\n",
    "    model.add(Embedding(input_dim=num_words, output_dim=64, input_length=max_sequence_len)) # embedding layer is used to convert words to vectors\n",
    "    model.add(LSTM(128, return_sequences=True)) \n",
    "    model.add(Dropout(0.5)) # dropout is a regularization technique to prevent overfitting\n",
    "    model.add(LSTM(64)) # l2 is a regularization technique to prevent overfitting\n",
    "    model.add(Dropout(0.5))\n",
    "    model.add(Dense(num_classes, activation='softmax'))\n",
    "    \n",
    "    \n",
    "    model.compile(loss='categorical_crossentropy', optimizer='adam', metrics=['accuracy'])\n",
    "\n",
    "    model.fit(train_x, train_y, epochs=200, batch_size=5, verbose=1) \n",
    "\n",
    "\n",
    "    return model\n"
   ]
  },
  {
   "cell_type": "code",
   "execution_count": null,
   "id": "568e9dc1da8742a3",
   "metadata": {
    "collapsed": false,
    "scrolled": true,
    "ExecuteTime": {
     "start_time": "2024-01-07T22:00:50.798337700Z"
    }
   },
   "outputs": [],
   "source": [
    "train_x, test_x, train_y, test_y, max_len, tokenizer, encoder = preprocess_data_for_lstm(documents, words, classes)\n",
    "\n",
    "# The number of words and classes\n",
    "num_words = len(tokenizer.word_index) + 1\n",
    "num_classes = len(classes)\n",
    "\n",
    "model = create_and_train_lstm(train_x, train_y, test_x, test_y, max_len, num_words, num_classes)\n"
   ]
  },
  {
   "cell_type": "code",
   "execution_count": null,
   "id": "15dc3e57b439b9d8",
   "metadata": {
    "collapsed": false,
    "ExecuteTime": {
     "start_time": "2024-01-07T22:00:50.802334100Z"
    }
   },
   "outputs": [],
   "source": [
    "def evaluate_model(model, tokenizer, encoder, max_len):\n",
    "    while True:\n",
    "        message = input(\"Enter a message (type 'quit' to exit): \")\n",
    "        if message.lower() == \"quit\":\n",
    "            break\n",
    "\n",
    "        processed_message = nltk.word_tokenize(message)\n",
    "        processed_message = [lemmatizer.lemmatize(word.lower()) for word in processed_message if word.lower() not in stopwords.words('english')]\n",
    "\n",
    "        if not processed_message:\n",
    "            print(\"Couldn't process the input. Try again.\")\n",
    "            continue\n",
    "\n",
    "        message_sequence = tokenizer.texts_to_sequences([processed_message])\n",
    "        message_padded = pad_sequences(message_sequence, maxlen=max_len, padding='post')\n",
    "\n",
    "        predictions = model.predict(message_padded)\n",
    "        class_index = np.argmax(predictions, axis=1)[0]\n",
    "        class_name = encoder.classes_[class_index]\n",
    "\n",
    "        print(f\"Predicted Class: {class_name} (Index: {class_index}, Confidence: {predictions[0][class_index]:.2f})\")\n",
    "\n",
    "evaluate_model(model, tokenizer, encoder, max_len)\n"
   ]
  },
  {
   "cell_type": "code",
   "execution_count": null,
   "outputs": [],
   "source": [
    "# save the model\n",
    "model.save('chatbot_model.keras', model)"
   ],
   "metadata": {
    "collapsed": false,
    "ExecuteTime": {
     "start_time": "2024-01-07T22:00:50.805558Z"
    }
   },
   "id": "b0d45da0cab0cba4"
  },
  {
   "cell_type": "code",
   "execution_count": null,
   "outputs": [],
   "source": [
    "# save the tokenizer\n",
    "import pickle\n",
    "with open('tokenizer.pickle', 'wb') as handle:\n",
    "    pickle.dump(tokenizer, handle, protocol=pickle.HIGHEST_PROTOCOL)\n",
    "    \n",
    "\n",
    "    "
   ],
   "metadata": {
    "collapsed": false,
    "ExecuteTime": {
     "start_time": "2024-01-07T22:00:50.808435700Z"
    }
   },
   "id": "4bdafd5139063097"
  },
  {
   "cell_type": "code",
   "execution_count": null,
   "outputs": [],
   "source": [
    "# save the encoder\n",
    "with open('encoder.pickle', 'wb') as handle:\n",
    "    pickle.dump(encoder, handle, protocol=pickle.HIGHEST_PROTOCOL)"
   ],
   "metadata": {
    "collapsed": false,
    "ExecuteTime": {
     "end_time": "2024-01-07T22:00:50.810475100Z",
     "start_time": "2024-01-07T22:00:50.810475100Z"
    }
   },
   "id": "3547c2400a92b003"
  },
  {
   "cell_type": "code",
   "execution_count": null,
   "outputs": [],
   "source": [],
   "metadata": {
    "collapsed": false,
    "ExecuteTime": {
     "start_time": "2024-01-07T22:00:50.811452Z"
    }
   },
   "id": "95d30b533d4b4182"
  }
 ],
 "metadata": {
  "kernelspec": {
   "display_name": "Python 3 (ipykernel)",
   "language": "python",
   "name": "python3"
  },
  "language_info": {
   "codemirror_mode": {
    "name": "ipython",
    "version": 3
   },
   "file_extension": ".py",
   "mimetype": "text/x-python",
   "name": "python",
   "nbconvert_exporter": "python",
   "pygments_lexer": "ipython3",
   "version": "3.10.11"
  }
 },
 "nbformat": 4,
 "nbformat_minor": 5
}
