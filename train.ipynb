{
 "cells": [
  {
   "cell_type": "markdown",
   "source": [
    "# TRAINING A CHATBOT INTENT CLASSIFIER"
   ],
   "metadata": {
    "collapsed": false
   },
   "id": "734815fbac8b2b68"
  },
  {
   "cell_type": "markdown",
   "source": [
    "# 1. Importing the libraries"
   ],
   "metadata": {
    "collapsed": false
   },
   "id": "b3cd4710065b851"
  },
  {
   "cell_type": "code",
   "execution_count": 42,
   "id": "initial_id",
   "metadata": {
    "collapsed": true,
    "ExecuteTime": {
     "end_time": "2023-12-15T21:26:45.010598300Z",
     "start_time": "2023-12-15T21:26:44.993079800Z"
    }
   },
   "outputs": [],
   "source": [
    "import nltk\n",
    "import numpy as np\n",
    "import random\n",
    "\n",
    "from nltk.stem import WordNetLemmatizer\n",
    "from nltk.tokenize import word_tokenize\n",
    "from nltk.corpus import stopwords\n",
    "\n",
    "from tensorflow.keras.models import Sequential\n",
    "from tensorflow.keras.layers import Dense, Activation, Dropout\n",
    "from tensorflow.keras.optimizers import SGD\n"
   ]
  },
  {
   "cell_type": "markdown",
   "source": [
    "# 2. Downloading the NLTK packages"
   ],
   "metadata": {
    "collapsed": false
   },
   "id": "a0b8231bbee48d53"
  },
  {
   "cell_type": "code",
   "execution_count": 43,
   "outputs": [
    {
     "name": "stderr",
     "output_type": "stream",
     "text": [
      "[nltk_data] Downloading package wordnet to\n",
      "[nltk_data]     C:\\Users\\dagbo_b40tnyc\\AppData\\Roaming\\nltk_data...\n",
      "[nltk_data]   Package wordnet is already up-to-date!\n",
      "[nltk_data] Downloading package stopwords to\n",
      "[nltk_data]     C:\\Users\\dagbo_b40tnyc\\AppData\\Roaming\\nltk_data...\n",
      "[nltk_data]   Package stopwords is already up-to-date!\n",
      "[nltk_data] Downloading package punkt to\n",
      "[nltk_data]     C:\\Users\\dagbo_b40tnyc\\AppData\\Roaming\\nltk_data...\n",
      "[nltk_data]   Package punkt is already up-to-date!\n"
     ]
    },
    {
     "data": {
      "text/plain": "True"
     },
     "execution_count": 43,
     "metadata": {},
     "output_type": "execute_result"
    }
   ],
   "source": [
    "# download the wordnet and stopwords corpus\n",
    "nltk.download('wordnet') # wordnet is a lexical database for the English language\n",
    "nltk.download('stopwords') # stopwords means words like 'the', 'a', 'an', 'is', 'are', etc.\n",
    "nltk.download('punkt') # punkt means punctuations"
   ],
   "metadata": {
    "collapsed": false,
    "ExecuteTime": {
     "end_time": "2023-12-15T21:26:45.071812200Z",
     "start_time": "2023-12-15T21:26:45.016953Z"
    }
   },
   "id": "4527ea109c19738d"
  },
  {
   "cell_type": "markdown",
   "source": [
    "# 3. Importing the intents.json file"
   ],
   "metadata": {
    "collapsed": false
   },
   "id": "2df36a839a3b36fc"
  },
  {
   "cell_type": "code",
   "execution_count": 44,
   "outputs": [],
   "source": [
    "# import intents file\n",
    "import json\n",
    "\n",
    "def load_intents():\n",
    "    with open('intents.json') as file:\n",
    "        intents = json.load(file)\n",
    "    return intents\n",
    "\n",
    "intents = load_intents()\n",
    "    "
   ],
   "metadata": {
    "collapsed": false,
    "ExecuteTime": {
     "end_time": "2023-12-15T21:26:45.072814Z",
     "start_time": "2023-12-15T21:26:45.026033600Z"
    }
   },
   "id": "a0903109b6aef2ec"
  },
  {
   "cell_type": "markdown",
   "source": [
    "# 4. using nltk techniques to preprocess the data for training"
   ],
   "metadata": {
    "collapsed": false
   },
   "id": "d37c5c26f7298f46"
  },
  {
   "cell_type": "code",
   "execution_count": 45,
   "outputs": [],
   "source": [
    "# initialize lemmatizer to get stem of words\n",
    "lemmatizer = WordNetLemmatizer() # lemma is the root form of the word and it is very accurate than stemming\n",
    "\n",
    "\n",
    "# loop through each sentence in the intent's patterns\n",
    "def preprocess_intents(intents):\n",
    "    # create empty lists for documents, classes and words\n",
    "    documents = [] # documents means patterns\n",
    "    classes = [] # classes means tags\n",
    "    words = [] # words means vocabulary\n",
    "    ignore_letters = ['!', '?', ',', '.'] # ignore these letters\n",
    "    stop_words = set(stopwords.words('english')) # stop words are words like 'the', 'a', 'an', 'is', 'are', etc.\n",
    "\n",
    "\n",
    "    for intent in intents['intents']:\n",
    "        \n",
    "        # debug for keyerror @ 'patterns'\n",
    "        # print(intent['patterns'])\n",
    "        for pattern in intent['patterns']:\n",
    "            # tokenize each and every word in the sentence\n",
    "            word = nltk.word_tokenize(pattern) \n",
    "            # lemmatize each word and convert into lowercase\n",
    "            word = [lemmatizer.lemmatize(w.lower()) for w in word if w not in stop_words and w not in ignore_letters]\n",
    "            # add word to the word list\n",
    "            words.extend(word) # extend means add to the list and append means add to the end of the list\n",
    "            # add word(s) to documents\n",
    "            documents.append((word, intent['tag'])) #\n",
    "            # add tags to our classes list\n",
    "            if intent['tag'] not in classes: # if tag is not in classes list\n",
    "                classes.append(intent['tag']) # then add it to the classes list\n",
    "                \n",
    "    # sort words and remove duplicates\n",
    "    words = sorted(list(set(words)))\n",
    "    # sort classes\n",
    "    classes = sorted(list(set(classes)))\n",
    "    return documents, classes, words\n",
    "\n",
    "documents, classes, words = preprocess_intents(intents)\n"
   ],
   "metadata": {
    "collapsed": false,
    "ExecuteTime": {
     "end_time": "2023-12-15T21:26:45.074276300Z",
     "start_time": "2023-12-15T21:26:45.044161300Z"
    }
   },
   "id": "b8545efe3805e21d"
  },
  {
   "cell_type": "markdown",
   "source": [
    "# 5. Creating training and testing data using bag of words technique or term frequency"
   ],
   "metadata": {
    "collapsed": false
   },
   "id": "d39823c82283bbc"
  },
  {
   "cell_type": "code",
   "execution_count": 57,
   "outputs": [
    {
     "name": "stdout",
     "output_type": "stream",
     "text": [
      "(232,) (232,) (78,) (78,)\n"
     ]
    }
   ],
   "source": [
    "import numpy\n",
    "from sklearn.model_selection import train_test_split\n",
    "# create training and testing data and also convert the words to numbers using bag of words technique\n",
    "def create_training_testing_data(documents, classes, words):\n",
    "    training = [] \n",
    "    # using one hot encoding for our training data with a bag of words\n",
    "    output_empty = [0] * len(classes) # output is a '0' for each tag and '1' for the current tag (for each pattern)\n",
    "    # create a training set, bag of words for each sentence\n",
    "    for doc in documents:\n",
    "        # initialize a bag of words\n",
    "        bag = []\n",
    "        # list of tokenized words for the pattern\n",
    "        word_patterns = doc[0]\n",
    "        # lemmatize each word - create base word, in an attempt to represent related words\n",
    "        word_patterns = [lemmatizer.lemmatize(word.lower()) for word in word_patterns]\n",
    "        # create our bag of words arrays with 1 if word matches found in a current pattern\n",
    "        for word in words:\n",
    "            bag.append(1) if word in word_patterns else bag.append(0)\n",
    "            \n",
    "        # output is a '0' for each tag and '1' for the current tag (for each pattern)\n",
    "        output_row = list(output_empty)\n",
    "        output_row[classes.index(doc[1])] = 1\n",
    "        \n",
    "        training.append([bag, output_row])\n",
    "        \n",
    "    # shuffle the features and make numpy array\n",
    "    random.shuffle(training)\n",
    "    training = np.array(training, dtype=object)\n",
    "    \n",
    "    \n",
    "    # Splitting features and target (label) for training and testing using sklearn\n",
    "    train_x, test_x, train_y, test_y = train_test_split(training[:,0], training[:,1], test_size=0.25)\n",
    "    return numpy.array(train_x), numpy.array(train_y), numpy.array(test_x), numpy.array(test_y)\n",
    "\n",
    "# test the function\n",
    "train_x, train_y, test_x, test_y = create_training_testing_data(documents, classes, words)\n",
    "print(train_x.shape, train_y.shape, test_x.shape, test_y.shape)\n"
   ],
   "metadata": {
    "collapsed": false,
    "ExecuteTime": {
     "end_time": "2023-12-15T21:46:41.376416900Z",
     "start_time": "2023-12-15T21:46:41.344883600Z"
    }
   },
   "id": "f9403a18f3ccf496"
  },
  {
   "cell_type": "code",
   "execution_count": 46,
   "outputs": [],
   "source": [],
   "metadata": {
    "collapsed": false,
    "ExecuteTime": {
     "end_time": "2023-12-15T21:26:45.105044900Z",
     "start_time": "2023-12-15T21:26:45.081509700Z"
    }
   },
   "id": "396acba8d63a41a8"
  }
 ],
 "metadata": {
  "kernelspec": {
   "display_name": "Python 3",
   "language": "python",
   "name": "python3"
  },
  "language_info": {
   "codemirror_mode": {
    "name": "ipython",
    "version": 2
   },
   "file_extension": ".py",
   "mimetype": "text/x-python",
   "name": "python",
   "nbconvert_exporter": "python",
   "pygments_lexer": "ipython2",
   "version": "2.7.6"
  }
 },
 "nbformat": 4,
 "nbformat_minor": 5
}
