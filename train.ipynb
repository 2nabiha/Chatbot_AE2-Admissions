{
 "cells": [
  {
   "cell_type": "markdown",
   "source": [
    "# TRAINING A CHATBOT INTENT CLASSIFIER"
   ],
   "metadata": {
    "collapsed": false
   },
   "id": "734815fbac8b2b68"
  },
  {
   "cell_type": "markdown",
   "source": [
    "# 1. Importing the libraries"
   ],
   "metadata": {
    "collapsed": false
   },
   "id": "b3cd4710065b851"
  },
  {
   "cell_type": "code",
   "execution_count": 2,
   "id": "initial_id",
   "metadata": {
    "collapsed": true,
    "ExecuteTime": {
     "end_time": "2023-12-15T17:03:39.847991900Z",
     "start_time": "2023-12-15T17:03:23.691994400Z"
    }
   },
   "outputs": [
    {
     "name": "stdout",
     "output_type": "stream",
     "text": [
      "WARNING:tensorflow:From C:\\Users\\dagbo_b40tnyc\\AppData\\Local\\Programs\\Python\\Python311\\Lib\\site-packages\\keras\\src\\losses.py:2976: The name tf.losses.sparse_softmax_cross_entropy is deprecated. Please use tf.compat.v1.losses.sparse_softmax_cross_entropy instead.\n"
     ]
    }
   ],
   "source": [
    "import nltk\n",
    "import numpy as np\n",
    "import random\n",
    "\n",
    "from nltk.stem import WordNetLemmatizer\n",
    "from nltk.tokenize import word_tokenize\n",
    "from nltk.corpus import stopwords\n",
    "\n",
    "from tensorflow.keras.models import Sequential\n",
    "from tensorflow.keras.layers import Dense, Activation, Dropout\n",
    "from tensorflow.keras.optimizers import SGD\n"
   ]
  },
  {
   "cell_type": "markdown",
   "source": [
    "# 2. Downloading the NLTK packages"
   ],
   "metadata": {
    "collapsed": false
   },
   "id": "a0b8231bbee48d53"
  },
  {
   "cell_type": "code",
   "execution_count": 3,
   "outputs": [
    {
     "name": "stderr",
     "output_type": "stream",
     "text": [
      "[nltk_data] Downloading package wordnet to\n",
      "[nltk_data]     C:\\Users\\dagbo_b40tnyc\\AppData\\Roaming\\nltk_data...\n",
      "[nltk_data]   Package wordnet is already up-to-date!\n",
      "[nltk_data] Downloading package stopwords to\n",
      "[nltk_data]     C:\\Users\\dagbo_b40tnyc\\AppData\\Roaming\\nltk_data...\n",
      "[nltk_data]   Package stopwords is already up-to-date!\n",
      "[nltk_data] Downloading package punkt to\n",
      "[nltk_data]     C:\\Users\\dagbo_b40tnyc\\AppData\\Roaming\\nltk_data...\n",
      "[nltk_data]   Package punkt is already up-to-date!\n"
     ]
    },
    {
     "data": {
      "text/plain": "True"
     },
     "execution_count": 3,
     "metadata": {},
     "output_type": "execute_result"
    }
   ],
   "source": [
    "# download the wordnet and stopwords corpus\n",
    "nltk.download('wordnet') # wordnet is a lexical database for the English language\n",
    "nltk.download('stopwords') # stopwords means words like 'the', 'a', 'an', 'is', 'are', etc.\n",
    "nltk.download('punkt') # punkt means punctuations"
   ],
   "metadata": {
    "collapsed": false,
    "ExecuteTime": {
     "end_time": "2023-12-15T17:03:45.183405800Z",
     "start_time": "2023-12-15T17:03:44.515062400Z"
    }
   },
   "id": "4527ea109c19738d"
  },
  {
   "cell_type": "markdown",
   "source": [
    "# 3. Importing the intents.json file"
   ],
   "metadata": {
    "collapsed": false
   },
   "id": "2df36a839a3b36fc"
  },
  {
   "cell_type": "code",
   "execution_count": 10,
   "outputs": [],
   "source": [
    "# import intents file\n",
    "import json\n",
    "\n",
    "def load_intents():\n",
    "    with open('intents.json') as file:\n",
    "        intents = json.load(file)\n",
    "    return intents\n",
    "\n",
    "intents = load_intents()\n",
    "    "
   ],
   "metadata": {
    "collapsed": false,
    "ExecuteTime": {
     "end_time": "2023-12-15T18:06:38.934589800Z",
     "start_time": "2023-12-15T18:06:38.910335Z"
    }
   },
   "id": "a0903109b6aef2ec"
  },
  {
   "cell_type": "markdown",
   "source": [
    "# 4. Preprocessing the intents.json file"
   ],
   "metadata": {
    "collapsed": false
   },
   "id": "d37c5c26f7298f46"
  },
  {
   "cell_type": "code",
   "execution_count": 11,
   "outputs": [
    {
     "ename": "KeyError",
     "evalue": "'intents'",
     "output_type": "error",
     "traceback": [
      "\u001B[1;31m---------------------------------------------------------------------------\u001B[0m",
      "\u001B[1;31mKeyError\u001B[0m                                  Traceback (most recent call last)",
      "Cell \u001B[1;32mIn[11], line 24\u001B[0m\n\u001B[0;32m     21\u001B[0m                 classes\u001B[38;5;241m.\u001B[39mappend(intent[\u001B[38;5;124m'\u001B[39m\u001B[38;5;124mtag\u001B[39m\u001B[38;5;124m'\u001B[39m])\n\u001B[0;32m     22\u001B[0m     \u001B[38;5;28;01mreturn\u001B[39;00m documents, classes, words\n\u001B[1;32m---> 24\u001B[0m documents, classes, words \u001B[38;5;241m=\u001B[39m \u001B[43mpreprocess_intents\u001B[49m\u001B[43m(\u001B[49m\u001B[43mintents\u001B[49m\u001B[43m)\u001B[49m\n",
      "Cell \u001B[1;32mIn[11], line 11\u001B[0m, in \u001B[0;36mpreprocess_intents\u001B[1;34m(intents)\u001B[0m\n\u001B[0;32m     10\u001B[0m \u001B[38;5;28;01mdef\u001B[39;00m \u001B[38;5;21mpreprocess_intents\u001B[39m(intents):\n\u001B[1;32m---> 11\u001B[0m     \u001B[38;5;28;01mfor\u001B[39;00m intent \u001B[38;5;129;01min\u001B[39;00m \u001B[43mintents\u001B[49m\u001B[43m[\u001B[49m\u001B[38;5;124;43m'\u001B[39;49m\u001B[38;5;124;43mintents\u001B[39;49m\u001B[38;5;124;43m'\u001B[39;49m\u001B[43m]\u001B[49m:\n\u001B[0;32m     12\u001B[0m         \u001B[38;5;28;01mfor\u001B[39;00m pattern \u001B[38;5;129;01min\u001B[39;00m intent[\u001B[38;5;124m'\u001B[39m\u001B[38;5;124mpatterns\u001B[39m\u001B[38;5;124m'\u001B[39m]:\n\u001B[0;32m     13\u001B[0m             \u001B[38;5;66;03m# tokenize each and every word in the sentence\u001B[39;00m\n\u001B[0;32m     14\u001B[0m             word \u001B[38;5;241m=\u001B[39m nltk\u001B[38;5;241m.\u001B[39mword_tokenize(pattern)\n",
      "\u001B[1;31mKeyError\u001B[0m: 'intents'"
     ]
    }
   ],
   "source": [
    "# initialize lemmatizer to get stem of words\n",
    "lemmatizer = WordNetLemmatizer() # lemma is the root form of the word and it is very accurate than stemming\n",
    "\n",
    "# create empty lists for documents, classes and words\n",
    "documents = [] # documents means patterns\n",
    "classes = [] # classes means tags\n",
    "words = [] # words means vocabulary\n",
    "\n",
    "# loop through each sentence in the intent's patterns\n",
    "def preprocess_intents(intents):\n",
    "    for intent in intents['intents']:\n",
    "        for pattern in intent['patterns']:\n",
    "            # tokenize each and every word in the sentence\n",
    "            word = nltk.word_tokenize(pattern)\n",
    "            # add word to the words list\n",
    "            words.extend(word)\n",
    "            # add word(s) to documents\n",
    "            documents.append((word, intent['tag']))\n",
    "            # add tags to our classes list\n",
    "            if intent['tag'] not in classes:\n",
    "                classes.append(intent['tag'])\n",
    "    return documents, classes, words\n",
    "\n",
    "documents, classes, words = preprocess_intents(intents)"
   ],
   "metadata": {
    "collapsed": false,
    "ExecuteTime": {
     "end_time": "2023-12-15T18:06:45.390922900Z",
     "start_time": "2023-12-15T18:06:45.345278Z"
    }
   },
   "id": "b8545efe3805e21d"
  },
  {
   "cell_type": "code",
   "execution_count": null,
   "outputs": [],
   "source": [],
   "metadata": {
    "collapsed": false
   },
   "id": "f9403a18f3ccf496"
  }
 ],
 "metadata": {
  "kernelspec": {
   "display_name": "Python 3",
   "language": "python",
   "name": "python3"
  },
  "language_info": {
   "codemirror_mode": {
    "name": "ipython",
    "version": 2
   },
   "file_extension": ".py",
   "mimetype": "text/x-python",
   "name": "python",
   "nbconvert_exporter": "python",
   "pygments_lexer": "ipython2",
   "version": "2.7.6"
  }
 },
 "nbformat": 4,
 "nbformat_minor": 5
}
