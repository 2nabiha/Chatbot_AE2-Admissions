{
 "cells": [
  {
   "cell_type": "markdown",
   "source": [
    "# Main Chabot File "
   ],
   "metadata": {
    "collapsed": false
   },
   "id": "e27380e148900cdd"
  },
  {
   "cell_type": "code",
   "execution_count": 19,
   "id": "initial_id",
   "metadata": {
    "collapsed": true,
    "ExecuteTime": {
     "end_time": "2024-01-05T01:27:00.333956200Z",
     "start_time": "2024-01-05T01:26:59.738421700Z"
    }
   },
   "outputs": [],
   "source": [
    "import numpy as np\n",
    "from keras.models import load_model\n",
    "from keras.preprocessing.sequence import pad_sequences\n",
    "# Add any other required imports here (e.g., tokenizer, label encoder)\n",
    "\n",
    "# Load the model and other necessary utilities\n",
    "model = load_model('chatbot_model.keras')\n",
    "\n"
   ]
  },
  {
   "cell_type": "code",
   "execution_count": 21,
   "outputs": [],
   "source": [
    "# Load the tokenizer and encoder from pickle files\n",
    "import pickle\n",
    "with open('tokenizer.pickle', 'rb') as handle:\n",
    "    tokenizer = pickle.load(handle)\n",
    "    \n",
    "with open('encoder.pickle', 'rb') as enc:\n",
    "    encoder = pickle.load(enc)\n",
    "    "
   ],
   "metadata": {
    "collapsed": false,
    "ExecuteTime": {
     "end_time": "2024-01-05T01:27:12.965769800Z",
     "start_time": "2024-01-05T01:27:12.948911600Z"
    }
   },
   "id": "ea5b67e5c439cb51"
  },
  {
   "cell_type": "code",
   "execution_count": 22,
   "outputs": [
    {
     "ename": "ValueError",
     "evalue": "in user code:\n\n    File \"D:\\Users\\dagbo\\OneDrive\\ChatbotAE2\\.venv\\lib\\site-packages\\keras\\src\\engine\\training.py\", line 2440, in predict_function  *\n        return step_function(self, iterator)\n    File \"D:\\Users\\dagbo\\OneDrive\\ChatbotAE2\\.venv\\lib\\site-packages\\keras\\src\\engine\\training.py\", line 2425, in step_function  **\n        outputs = model.distribute_strategy.run(run_step, args=(data,))\n    File \"D:\\Users\\dagbo\\OneDrive\\ChatbotAE2\\.venv\\lib\\site-packages\\keras\\src\\engine\\training.py\", line 2413, in run_step  **\n        outputs = model.predict_step(data)\n    File \"D:\\Users\\dagbo\\OneDrive\\ChatbotAE2\\.venv\\lib\\site-packages\\keras\\src\\engine\\training.py\", line 2381, in predict_step\n        return self(x, training=False)\n    File \"D:\\Users\\dagbo\\OneDrive\\ChatbotAE2\\.venv\\lib\\site-packages\\keras\\src\\utils\\traceback_utils.py\", line 70, in error_handler\n        raise e.with_traceback(filtered_tb) from None\n    File \"D:\\Users\\dagbo\\OneDrive\\ChatbotAE2\\.venv\\lib\\site-packages\\keras\\src\\engine\\input_spec.py\", line 298, in assert_input_compatibility\n        raise ValueError(\n\n    ValueError: Input 0 of layer \"sequential_16\" is incompatible with the layer: expected shape=(None, 6), found shape=(None, 20)\n",
     "output_type": "error",
     "traceback": [
      "\u001B[1;31m---------------------------------------------------------------------------\u001B[0m",
      "\u001B[1;31mValueError\u001B[0m                                Traceback (most recent call last)",
      "Cell \u001B[1;32mIn[22], line 32\u001B[0m\n\u001B[0;32m     30\u001B[0m \u001B[38;5;28;01mif\u001B[39;00m user_input\u001B[38;5;241m.\u001B[39mlower() \u001B[38;5;241m==\u001B[39m \u001B[38;5;124m'\u001B[39m\u001B[38;5;124mquit\u001B[39m\u001B[38;5;124m'\u001B[39m:\n\u001B[0;32m     31\u001B[0m     \u001B[38;5;28;01mbreak\u001B[39;00m\n\u001B[1;32m---> 32\u001B[0m \u001B[38;5;28mprint\u001B[39m(\u001B[38;5;124m\"\u001B[39m\u001B[38;5;124mBot:\u001B[39m\u001B[38;5;124m\"\u001B[39m, \u001B[43mchatbot_response\u001B[49m\u001B[43m(\u001B[49m\u001B[43muser_input\u001B[49m\u001B[43m)\u001B[49m)\n",
      "Cell \u001B[1;32mIn[22], line 9\u001B[0m, in \u001B[0;36mchatbot_response\u001B[1;34m(text)\u001B[0m\n\u001B[0;32m      6\u001B[0m padded_sequence \u001B[38;5;241m=\u001B[39m pad_sequences(sequence, maxlen\u001B[38;5;241m=\u001B[39mmax_sequence_len, padding\u001B[38;5;241m=\u001B[39m\u001B[38;5;124m'\u001B[39m\u001B[38;5;124mpost\u001B[39m\u001B[38;5;124m'\u001B[39m)\n\u001B[0;32m      8\u001B[0m \u001B[38;5;66;03m# Predict the intent\u001B[39;00m\n\u001B[1;32m----> 9\u001B[0m prediction \u001B[38;5;241m=\u001B[39m \u001B[43mmodel\u001B[49m\u001B[38;5;241;43m.\u001B[39;49m\u001B[43mpredict\u001B[49m\u001B[43m(\u001B[49m\u001B[43mpadded_sequence\u001B[49m\u001B[43m)\u001B[49m\n\u001B[0;32m     10\u001B[0m intent_index \u001B[38;5;241m=\u001B[39m np\u001B[38;5;241m.\u001B[39margmax(prediction, axis\u001B[38;5;241m=\u001B[39m\u001B[38;5;241m1\u001B[39m)[\u001B[38;5;241m0\u001B[39m]\n\u001B[0;32m     11\u001B[0m intent \u001B[38;5;241m=\u001B[39m encoder\u001B[38;5;241m.\u001B[39minverse_transform([intent_index])[\u001B[38;5;241m0\u001B[39m]\n",
      "File \u001B[1;32mD:\\Users\\dagbo\\OneDrive\\ChatbotAE2\\.venv\\lib\\site-packages\\keras\\src\\utils\\traceback_utils.py:70\u001B[0m, in \u001B[0;36mfilter_traceback.<locals>.error_handler\u001B[1;34m(*args, **kwargs)\u001B[0m\n\u001B[0;32m     67\u001B[0m     filtered_tb \u001B[38;5;241m=\u001B[39m _process_traceback_frames(e\u001B[38;5;241m.\u001B[39m__traceback__)\n\u001B[0;32m     68\u001B[0m     \u001B[38;5;66;03m# To get the full stack trace, call:\u001B[39;00m\n\u001B[0;32m     69\u001B[0m     \u001B[38;5;66;03m# `tf.debugging.disable_traceback_filtering()`\u001B[39;00m\n\u001B[1;32m---> 70\u001B[0m     \u001B[38;5;28;01mraise\u001B[39;00m e\u001B[38;5;241m.\u001B[39mwith_traceback(filtered_tb) \u001B[38;5;28;01mfrom\u001B[39;00m \u001B[38;5;28;01mNone\u001B[39;00m\n\u001B[0;32m     71\u001B[0m \u001B[38;5;28;01mfinally\u001B[39;00m:\n\u001B[0;32m     72\u001B[0m     \u001B[38;5;28;01mdel\u001B[39;00m filtered_tb\n",
      "File \u001B[1;32mC:\\Users\\DAGBO_~1\\AppData\\Local\\Temp\\__autograph_generated_fileka406tr1.py:15\u001B[0m, in \u001B[0;36mouter_factory.<locals>.inner_factory.<locals>.tf__predict_function\u001B[1;34m(iterator)\u001B[0m\n\u001B[0;32m     13\u001B[0m \u001B[38;5;28;01mtry\u001B[39;00m:\n\u001B[0;32m     14\u001B[0m     do_return \u001B[38;5;241m=\u001B[39m \u001B[38;5;28;01mTrue\u001B[39;00m\n\u001B[1;32m---> 15\u001B[0m     retval_ \u001B[38;5;241m=\u001B[39m ag__\u001B[38;5;241m.\u001B[39mconverted_call(ag__\u001B[38;5;241m.\u001B[39mld(step_function), (ag__\u001B[38;5;241m.\u001B[39mld(\u001B[38;5;28mself\u001B[39m), ag__\u001B[38;5;241m.\u001B[39mld(iterator)), \u001B[38;5;28;01mNone\u001B[39;00m, fscope)\n\u001B[0;32m     16\u001B[0m \u001B[38;5;28;01mexcept\u001B[39;00m:\n\u001B[0;32m     17\u001B[0m     do_return \u001B[38;5;241m=\u001B[39m \u001B[38;5;28;01mFalse\u001B[39;00m\n",
      "\u001B[1;31mValueError\u001B[0m: in user code:\n\n    File \"D:\\Users\\dagbo\\OneDrive\\ChatbotAE2\\.venv\\lib\\site-packages\\keras\\src\\engine\\training.py\", line 2440, in predict_function  *\n        return step_function(self, iterator)\n    File \"D:\\Users\\dagbo\\OneDrive\\ChatbotAE2\\.venv\\lib\\site-packages\\keras\\src\\engine\\training.py\", line 2425, in step_function  **\n        outputs = model.distribute_strategy.run(run_step, args=(data,))\n    File \"D:\\Users\\dagbo\\OneDrive\\ChatbotAE2\\.venv\\lib\\site-packages\\keras\\src\\engine\\training.py\", line 2413, in run_step  **\n        outputs = model.predict_step(data)\n    File \"D:\\Users\\dagbo\\OneDrive\\ChatbotAE2\\.venv\\lib\\site-packages\\keras\\src\\engine\\training.py\", line 2381, in predict_step\n        return self(x, training=False)\n    File \"D:\\Users\\dagbo\\OneDrive\\ChatbotAE2\\.venv\\lib\\site-packages\\keras\\src\\utils\\traceback_utils.py\", line 70, in error_handler\n        raise e.with_traceback(filtered_tb) from None\n    File \"D:\\Users\\dagbo\\OneDrive\\ChatbotAE2\\.venv\\lib\\site-packages\\keras\\src\\engine\\input_spec.py\", line 298, in assert_input_compatibility\n        raise ValueError(\n\n    ValueError: Input 0 of layer \"sequential_16\" is incompatible with the layer: expected shape=(None, 6), found shape=(None, 20)\n"
     ]
    }
   ],
   "source": [
    "max_sequence_len = max([len(x) for x in X])\n",
    "\n",
    "def chatbot_response(text):\n",
    "    # Tokenize and pad the user input\n",
    "    sequence = tokenizer.texts_to_sequences([text])\n",
    "    padded_sequence = pad_sequences(sequence, maxlen=max_sequence_len, padding='post')\n",
    "    \n",
    "    # Predict the intent\n",
    "    prediction = model.predict(padded_sequence)\n",
    "    intent_index = np.argmax(prediction, axis=1)[0]\n",
    "    intent = encoder.inverse_transform([intent_index])[0]\n",
    "\n",
    "    # Generate a response (You'll need to create a mechanism to map intents to responses)\n",
    "    response = generate_response(intent)\n",
    "    \n",
    "    return response\n",
    "\n",
    "def generate_response(intent):\n",
    "    # Dummy response generator - replace with your own logic\n",
    "    responses = {\n",
    "        \"greeting\": \"Hello! How can I help you?\",\n",
    "        \"goodbye\": \"Goodbye! Have a great day!\",\n",
    "        # Add more intents and responses here\n",
    "    }\n",
    "    return responses.get(intent, \"Sorry, I didn't understand that.\")\n",
    "\n",
    "# Main chat loop\n",
    "while True:\n",
    "    user_input = input(\"You: \")\n",
    "    if user_input.lower() == 'quit':\n",
    "        break\n",
    "    print(\"Bot:\", chatbot_response(user_input))"
   ],
   "metadata": {
    "collapsed": false,
    "ExecuteTime": {
     "end_time": "2024-01-05T01:27:16.611995200Z",
     "start_time": "2024-01-05T01:27:13.913155900Z"
    }
   },
   "id": "dfc91b522988a13"
  },
  {
   "cell_type": "code",
   "execution_count": null,
   "outputs": [],
   "source": [],
   "metadata": {
    "collapsed": false,
    "ExecuteTime": {
     "start_time": "2024-01-05T01:23:07.584442800Z"
    }
   },
   "id": "2e831e700660b999"
  }
 ],
 "metadata": {
  "kernelspec": {
   "display_name": "Python 3",
   "language": "python",
   "name": "python3"
  },
  "language_info": {
   "codemirror_mode": {
    "name": "ipython",
    "version": 2
   },
   "file_extension": ".py",
   "mimetype": "text/x-python",
   "name": "python",
   "nbconvert_exporter": "python",
   "pygments_lexer": "ipython2",
   "version": "2.7.6"
  }
 },
 "nbformat": 4,
 "nbformat_minor": 5
}
