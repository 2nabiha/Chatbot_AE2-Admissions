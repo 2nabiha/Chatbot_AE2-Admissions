{
 "cells": [
  {
   "cell_type": "markdown",
   "id": "e27380e148900cdd",
   "metadata": {
    "collapsed": false,
    "jupyter": {
     "outputs_hidden": false
    }
   },
   "source": [
    "# Main Chabot File "
   ]
  },
  {
   "cell_type": "code",
   "execution_count": 1,
   "id": "initial_id",
   "metadata": {
    "ExecuteTime": {
     "end_time": "2024-01-05T01:58:15.320366800Z",
     "start_time": "2024-01-05T01:58:15.191650400Z"
    }
   },
   "outputs": [
    {
     "name": "stdout",
     "output_type": "stream",
     "text": [
      "WARNING:tensorflow:From D:\\Users\\dagbo\\OneDrive\\ChatbotAE2\\.venv\\lib\\site-packages\\keras\\src\\losses.py:2976: The name tf.losses.sparse_softmax_cross_entropy is deprecated. Please use tf.compat.v1.losses.sparse_softmax_cross_entropy instead.\n",
      "\n",
      "WARNING:tensorflow:From D:\\Users\\dagbo\\OneDrive\\ChatbotAE2\\.venv\\lib\\site-packages\\keras\\src\\backend.py:1398: The name tf.executing_eagerly_outside_functions is deprecated. Please use tf.compat.v1.executing_eagerly_outside_functions instead.\n",
      "\n"
     ]
    }
   ],
   "source": [
    "import numpy as np\n",
    "from keras.models import load_model\n",
    "from keras.preprocessing.sequence import pad_sequences\n",
    "# Add any other required imports here (e.g., tokenizer, label encoder)\n",
    "\n",
    "# Load the model and other necessary utilities\n",
    "model = load_model('solentBot_model.keras')\n",
    "\n"
   ]
  },
  {
   "cell_type": "code",
   "execution_count": 2,
   "id": "ea5b67e5c439cb51",
   "metadata": {
    "ExecuteTime": {
     "end_time": "2024-01-05T01:27:12.965769800Z",
     "start_time": "2024-01-05T01:27:12.948911600Z"
    },
    "collapsed": false,
    "jupyter": {
     "outputs_hidden": false
    }
   },
   "outputs": [],
   "source": [
    "# Load the tokenizer and encoder from pickle files\n",
    "import pickle\n",
    "with open('tokenizer.pickle', 'rb') as handle:\n",
    "    tokenizer = pickle.load(handle)\n",
    "    \n",
    "with open('encoder.pickle', 'rb') as enc:\n",
    "    encoder = pickle.load(enc)\n",
    "    "
   ]
  },
  {
   "cell_type": "code",
   "execution_count": null,
   "id": "dfc91b522988a13",
   "metadata": {
    "ExecuteTime": {
     "end_time": "2024-01-05T01:27:16.611995200Z",
     "start_time": "2024-01-05T01:27:13.913155900Z"
    },
    "collapsed": false,
    "jupyter": {
     "outputs_hidden": false
    }
   },
   "outputs": [
    {
     "name": "stdout",
     "output_type": "stream",
     "text": [
      "Solentbot started.......\n"
     ]
    },
    {
     "name": "stdin",
     "output_type": "stream",
     "text": [
      " hi\n"
     ]
    },
    {
     "name": "stdout",
     "output_type": "stream",
     "text": [
      "1/1 [==============================] - 0s 84ms/step\n",
      "My name is SolentBot. I am here to help you with the admissions and enrollment process.\n"
     ]
    },
    {
     "name": "stdin",
     "output_type": "stream",
     "text": [
      " what is the admission process like\n"
     ]
    },
    {
     "name": "stdout",
     "output_type": "stream",
     "text": [
      "1/1 [==============================] - 0s 21ms/step\n",
      "The admission process involves submitting an online application, sending in your transcripts and other necessary documents, and waiting for an admission decision.\n"
     ]
    },
    {
     "name": "stdin",
     "output_type": "stream",
     "text": [
      " what are the required documents\n"
     ]
    },
    {
     "name": "stdout",
     "output_type": "stream",
     "text": [
      "1/1 [==============================] - 0s 21ms/step\n",
      "You will need to submit your transcripts, proof of identity, letters of recommendation, and any test scores (if applicable).\n"
     ]
    },
    {
     "name": "stdin",
     "output_type": "stream",
     "text": [
      " oh okay, when is the application deadline\n"
     ]
    },
    {
     "name": "stdout",
     "output_type": "stream",
     "text": [
      "1/1 [==============================] - 0s 22ms/step\n",
      "The application deadline for the Fall semester is June 30th, and for the Spring semester, it is November 30th.\n"
     ]
    },
    {
     "name": "stdin",
     "output_type": "stream",
     "text": [
      " what is the application fee\n"
     ]
    },
    {
     "name": "stdout",
     "output_type": "stream",
     "text": [
      "1/1 [==============================] - 0s 21ms/step\n",
      "The application fee for undergraduate programs is Â£25 for UK students and Â£50 for international students. For postgraduate programs, the fee is Â£50 for UK students and Â£100 for international students.\n"
     ]
    },
    {
     "name": "stdin",
     "output_type": "stream",
     "text": [
      " how do i enroll\n"
     ]
    },
    {
     "name": "stdout",
     "output_type": "stream",
     "text": [
      "1/1 [==============================] - 0s 23ms/step\n",
      "During the year, for details of outstanding fees on your student account, please email income.team@solent.ac.uk.\n"
     ]
    },
    {
     "name": "stdin",
     "output_type": "stream",
     "text": [
      " how to enroll\n"
     ]
    },
    {
     "name": "stdout",
     "output_type": "stream",
     "text": [
      "1/1 [==============================] - 0s 24ms/step\n",
      "I'm SolentBot, your virtual assistant. I can help you with the admissions and enrollment process.\n"
     ]
    },
    {
     "name": "stdin",
     "output_type": "stream",
     "text": [
      " enrollment\n"
     ]
    },
    {
     "name": "stdout",
     "output_type": "stream",
     "text": [
      "1/1 [==============================] - 0s 21ms/step\n",
      "After receiving your admission offer, you can enroll online through the student portal. You will need to choose your courses and pay the enrollment fee.\n"
     ]
    },
    {
     "name": "stdin",
     "output_type": "stream",
     "text": [
      " is there any grants or financial aid\n"
     ]
    },
    {
     "name": "stdout",
     "output_type": "stream",
     "text": [
      "1/1 [==============================] - 0s 26ms/step\n",
      "We offer a variety of scholarships and financial aid options. You can apply for financial aid through the student portal after completing your application.\n"
     ]
    },
    {
     "name": "stdin",
     "output_type": "stream",
     "text": [
      " can student work part time\n"
     ]
    },
    {
     "name": "stdout",
     "output_type": "stream",
     "text": [
      "1/1 [==============================] - 0s 22ms/step\n",
      "International students will need to apply for a Tier 4 Student Visa. You can find more information and assistance on the UK government's official website or contact our International Office.\n"
     ]
    },
    {
     "name": "stdin",
     "output_type": "stream",
     "text": [
      " okay bye\n"
     ]
    },
    {
     "name": "stdout",
     "output_type": "stream",
     "text": [
      "1/1 [==============================] - 0s 25ms/step\n",
      "Goodbye! Feel free to return anytime you have more questions. Have a great day!\n"
     ]
    },
    {
     "name": "stdin",
     "output_type": "stream",
     "text": [
      " thank you\n"
     ]
    },
    {
     "name": "stdout",
     "output_type": "stream",
     "text": [
      "1/1 [==============================] - 0s 23ms/step\n",
      "I'm SolentBot, your virtual assistant. I can help you with the admissions and enrollment process.\n"
     ]
    }
   ],
   "source": [
    "import random\n",
    "import pickle\n",
    "import numpy as np\n",
    "import json\n",
    "\n",
    "import nltk\n",
    "from nltk.stem import WordNetLemmatizer\n",
    "\n",
    "\n",
    "from tensorflow.keras.models import load_model\n",
    "\n",
    "\n",
    "lemmatizer = WordNetLemmatizer()\n",
    "\n",
    "intents = json.loads(open('intents.json').read())\n",
    "\n",
    "words = pickle.load(open('words.pkl', 'rb'))\n",
    "classes = pickle.load(open('classes.pkl', 'rb'))\n",
    "\n",
    "\n",
    "def clean_sentence(sentence):\n",
    "    words_sentence = nltk.word_tokenize(sentence)\n",
    "    words_sentence = [lemmatizer.lemmatize(word) for word in words_sentence]\n",
    "    return words_sentence\n",
    "\n",
    "def words_box(sentence, show_details=True):\n",
    "     # tokenize the pattern\n",
    "    words_sentence = clean_sentence(sentence)\n",
    "    box = [0] * len(words)\n",
    "    for j in words_sentence:\n",
    "        for i, word in enumerate(words):\n",
    "            if word == j:\n",
    "                # assign 1 if current word is in the vocabulary position\n",
    "                box[i] = 1\n",
    "                if show_details:\n",
    "                    print (\"found in bag: %s\" % word)\n",
    "    return np.array(box) \n",
    "\n",
    "def prediction(sentence):\n",
    "    # filter out predictions below a threshold\n",
    "    bd = words_box(sentence,show_details = False)\n",
    "    res = model.predict(np.array([bd]))[0]\n",
    "    ERROR_THRESHOLD = 0.25\n",
    "    results = [[i, r] for i, r in enumerate(res) if r > ERROR_THRESHOLD]\n",
    "    \n",
    "    results.sort(key = lambda x: x[1], reverse = True)\n",
    "    get_back_list = []\n",
    "    for r in results:\n",
    "        get_back_list.append({'intent': classes[r[0]], 'probability': str(r[1])})\n",
    "    return get_back_list\n",
    "\n",
    "def get_reply(intents_list, intents_json):\n",
    "    tag = intents_list[0]['intent']\n",
    "    all_intents = intents_json['intents']\n",
    "    for i in all_intents:\n",
    "        if i['tag'] == tag:\n",
    "            result = random.choice(i['responses'])\n",
    "            break\n",
    "            \n",
    "            \n",
    "    return result\n",
    "\n",
    "print(\"Solentbot started.......\")\n",
    "\n",
    "while True:\n",
    "    message = input(\"\")\n",
    "    pred = prediction(message)\n",
    "    res = get_reply(pred, intents)\n",
    "    print(res)\n",
    "    \n",
    "    if message == 'close':\n",
    "        break"
   ]
  },
  {
   "cell_type": "code",
   "execution_count": null,
   "id": "2e831e700660b999",
   "metadata": {
    "ExecuteTime": {
     "start_time": "2024-01-05T01:23:07.584442800Z"
    },
    "collapsed": false,
    "jupyter": {
     "outputs_hidden": false
    }
   },
   "outputs": [],
   "source": []
  }
 ],
 "metadata": {
  "kernelspec": {
   "display_name": "Python 3 (ipykernel)",
   "language": "python",
   "name": "python3"
  },
  "language_info": {
   "codemirror_mode": {
    "name": "ipython",
    "version": 3
   },
   "file_extension": ".py",
   "mimetype": "text/x-python",
   "name": "python",
   "nbconvert_exporter": "python",
   "pygments_lexer": "ipython3",
   "version": "3.10.11"
  }
 },
 "nbformat": 4,
 "nbformat_minor": 5
}
