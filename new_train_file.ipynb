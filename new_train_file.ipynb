{
 "cells": [
  {
   "cell_type": "markdown",
   "source": [
    "# TRAINING A CHATBOT INTENT CLASSIFIER\n"
   ],
   "metadata": {
    "collapsed": false
   },
   "id": "99094a427d54c713"
  },
  {
   "cell_type": "markdown",
   "source": [
    "## Importing the libraries"
   ],
   "metadata": {
    "collapsed": false
   },
   "id": "134da7d190ed59c7"
  },
  {
   "cell_type": "code",
   "execution_count": 1,
   "id": "initial_id",
   "metadata": {
    "collapsed": true,
    "ExecuteTime": {
     "end_time": "2024-01-14T22:43:42.208230300Z",
     "start_time": "2024-01-14T22:43:41.075467700Z"
    }
   },
   "outputs": [],
   "source": [
    "import nltk\n",
    "import numpy as np\n",
    "import random\n",
    "\n",
    "from nltk.stem import WordNetLemmatizer\n",
    "from nltk.tokenize import word_tokenize\n",
    "from nltk.corpus import stopwords"
   ]
  },
  {
   "cell_type": "markdown",
   "source": [],
   "metadata": {
    "collapsed": false
   },
   "id": "e57caff36d793732"
  },
  {
   "cell_type": "code",
   "execution_count": 2,
   "outputs": [
    {
     "name": "stderr",
     "output_type": "stream",
     "text": [
      "[nltk_data] Downloading package wordnet to\n",
      "[nltk_data]     C:\\Users\\dagbo_b40tnyc\\AppData\\Roaming\\nltk_data...\n",
      "[nltk_data]   Package wordnet is already up-to-date!\n",
      "[nltk_data] Downloading package stopwords to\n",
      "[nltk_data]     C:\\Users\\dagbo_b40tnyc\\AppData\\Roaming\\nltk_data...\n",
      "[nltk_data]   Package stopwords is already up-to-date!\n",
      "[nltk_data] Downloading package punkt to\n",
      "[nltk_data]     C:\\Users\\dagbo_b40tnyc\\AppData\\Roaming\\nltk_data...\n",
      "[nltk_data]   Package punkt is already up-to-date!\n"
     ]
    },
    {
     "data": {
      "text/plain": "True"
     },
     "execution_count": 2,
     "metadata": {},
     "output_type": "execute_result"
    }
   ],
   "source": [
    "# download the wordnet and stopwords corpus\n",
    "nltk.download('wordnet') # wordnet is a lexical database for the English language\n",
    "nltk.download('stopwords') # stopwords means words like 'the', 'a', 'an', 'is', 'are', etc.\n",
    "nltk.download('punkt') # punkt means punctuations"
   ],
   "metadata": {
    "collapsed": false,
    "ExecuteTime": {
     "end_time": "2024-01-14T22:43:42.336928500Z",
     "start_time": "2024-01-14T22:43:42.208230300Z"
    }
   },
   "id": "b7d8a74774003d99"
  },
  {
   "cell_type": "markdown",
   "source": [
    "## Importing the json file"
   ],
   "metadata": {
    "collapsed": false
   },
   "id": "6a97228fcbc64bf8"
  },
  {
   "cell_type": "code",
   "execution_count": 3,
   "outputs": [],
   "source": [
    "# import intents file\n",
    "import json\n",
    "\n",
    "def load_intents():\n",
    "    with open('intents.json') as file:\n",
    "        intents = json.load(file)\n",
    "    return intents\n",
    "\n",
    "intents = load_intents()"
   ],
   "metadata": {
    "collapsed": false,
    "ExecuteTime": {
     "end_time": "2024-01-14T22:43:42.345980500Z",
     "start_time": "2024-01-14T22:43:42.332633600Z"
    }
   },
   "id": "fd60388bcd7d0514"
  },
  {
   "cell_type": "markdown",
   "source": [
    "## Preprocessing the data"
   ],
   "metadata": {
    "collapsed": false
   },
   "id": "aa1e1a71f5a3e8f4"
  },
  {
   "cell_type": "code",
   "execution_count": 4,
   "outputs": [],
   "source": [
    "# initialize lemmatizer to get stem of words\n",
    "lemmatizer = WordNetLemmatizer() # lemma is the root form of the word and it is very accurate than stemming\n",
    "\n",
    "\n",
    "# loop through each sentence in the intent's patterns\n",
    "def preprocess_intents(intents):\n",
    "    # create empty lists for documents, classes and words\n",
    "    documents = [] # documents means patterns\n",
    "    classes = [] # classes means tags\n",
    "    words = [] # words means vocabulary\n",
    "    ignore_letters = ['!', '?', ',', '.'] # ignore these letters\n",
    "    stop_words = set(stopwords.words('english')) # stop words are words like 'the', 'a', 'an', 'is', 'are', etc.\n",
    "\n",
    "\n",
    "    for intent in intents['intents']:\n",
    "        \n",
    "        # debug for keyerror @ 'patterns'\n",
    "        # print(intent['patterns'])\n",
    "        for pattern in intent['patterns']:\n",
    "            # tokenize each and every word in the sentence\n",
    "            word = nltk.word_tokenize(pattern) \n",
    "            # lemmatize each word and convert into lowercase\n",
    "            word = [lemmatizer.lemmatize(w.lower()) for w in word if w not in stop_words and w not in ignore_letters]\n",
    "            # add word to the word list\n",
    "            words.extend(word) # extend means add to the list and append means add to the end of the list\n",
    "            # add word(s) to documents\n",
    "            documents.append((word, intent['tag'])) #\n",
    "            # add tags to our classes list\n",
    "            if intent['tag'] not in classes: # if tag is not in classes list\n",
    "                classes.append(intent['tag']) # then add it to the classes list\n",
    "                \n",
    "    # sort words and remove duplicates\n",
    "    words = sorted(list(set(words)))\n",
    "    # sort classes\n",
    "    classes = sorted(list(set(classes)))\n",
    "    return documents, classes, words\n",
    "\n",
    "documents, classes, words = preprocess_intents(intents)\n"
   ],
   "metadata": {
    "collapsed": false,
    "ExecuteTime": {
     "end_time": "2024-01-14T22:43:43.395496300Z",
     "start_time": "2024-01-14T22:43:42.352493400Z"
    }
   },
   "id": "ec96ddaa4d2cd674"
  },
  {
   "cell_type": "markdown",
   "source": [
    "## save the preprocessed data"
   ],
   "metadata": {
    "collapsed": false
   },
   "id": "1361248a261d307b"
  },
  {
   "cell_type": "code",
   "execution_count": 5,
   "outputs": [],
   "source": [
    "import pickle\n",
    "\n",
    "#save to file using pickle to dump\n",
    "pickle.dump(words, open ('words.pkl', 'wb'))#wb means writing into binariries\n",
    "pickle.dump(classes, open ('classes.pkl', 'wb'))\n"
   ],
   "metadata": {
    "collapsed": false,
    "ExecuteTime": {
     "end_time": "2024-01-14T22:43:43.411289800Z",
     "start_time": "2024-01-14T22:43:43.400529100Z"
    }
   },
   "id": "3c99826bd5b37a6"
  },
  {
   "cell_type": "markdown",
   "source": [
    "## Create training and testing data"
   ],
   "metadata": {
    "collapsed": false
   },
   "id": "7df4fb694b944680"
  },
  {
   "cell_type": "code",
   "execution_count": 6,
   "outputs": [],
   "source": [
    "\n",
    "#represents the words as numerical values using bag_of_words\n",
    "train = []\n",
    "empty_output = [0] * len(classes)\n",
    "\n",
    "for doc in documents:\n",
    "    #create an empty list of bag of words\n",
    "    bag = []\n",
    "    word_patterns = doc[0]\n",
    "    word_patterns = [lemmatizer.lemmatize(word.lower()) for word in word_patterns]\n",
    "    for word in words:\n",
    "        bag.append(1) if word in word_patterns  else bag.append(0)\n",
    "    \n",
    "    output = list(empty_output)\n",
    "    output[classes.index(doc[1])] = 1\n",
    "    # Ensure the 'bag' has the same length as 'words'\n",
    "    assert len(bag) == len(words), f\"Bag length: {len(bag)}, expected: {len(words)}\"\n",
    "    \n",
    "    # Ensure the 'output' has the same length as 'classes'\n",
    "    assert len(output) == len(classes), f\"Output length: {len(output)}, expected: {len(classes)}\"\n",
    "    train.append([bag, output])"
   ],
   "metadata": {
    "collapsed": false,
    "ExecuteTime": {
     "end_time": "2024-01-14T22:43:43.450765300Z",
     "start_time": "2024-01-14T22:43:43.415425500Z"
    }
   },
   "id": "7452a7b953f89515"
  },
  {
   "cell_type": "code",
   "execution_count": 7,
   "outputs": [],
   "source": [
    "# shuffle the features and make numpy array\n",
    "random.shuffle(train)\n",
    "# Before converting to a NumPy array, ensure all elements in 'train' have the same length\n",
    "#assert all(len(item) == len(train[0]) for item in train), \"Not all lists in 'train' have the same length.\"\n",
    "train = np.array(train, dtype=object)\n",
    "\n",
    "# create train and test lists. X - patterns, Y - intents\n",
    "train_x = list(train[:,0])\n",
    "train_y = list(train[:,1])\n",
    "\n"
   ],
   "metadata": {
    "collapsed": false,
    "ExecuteTime": {
     "end_time": "2024-01-14T22:43:43.458853300Z",
     "start_time": "2024-01-14T22:43:43.445618200Z"
    }
   },
   "id": "61519d1a972130b0"
  },
  {
   "cell_type": "markdown",
   "source": [
    "## Building the model using long short term memory (LSTM)"
   ],
   "metadata": {
    "collapsed": false
   },
   "id": "9466fc7cc7a044fa"
  },
  {
   "cell_type": "code",
   "execution_count": 8,
   "outputs": [
    {
     "name": "stdout",
     "output_type": "stream",
     "text": [
      "WARNING:tensorflow:From D:\\Users\\dagbo\\OneDrive\\ChatbotAE2\\.venv\\lib\\site-packages\\keras\\src\\losses.py:2976: The name tf.losses.sparse_softmax_cross_entropy is deprecated. Please use tf.compat.v1.losses.sparse_softmax_cross_entropy instead.\n",
      "WARNING:tensorflow:From D:\\Users\\dagbo\\OneDrive\\ChatbotAE2\\.venv\\lib\\site-packages\\keras\\src\\backend.py:873: The name tf.get_default_graph is deprecated. Please use tf.compat.v1.get_default_graph instead.\n"
     ]
    }
   ],
   "source": [
    "# import tensorflow libraries\n",
    "import tensorflow as tf\n",
    "from tensorflow.keras.models import Sequential\n",
    "from tensorflow.keras.layers import Dense, Activation, Dropout\n",
    "from tensorflow.keras.optimizers import SGD\n",
    "from tensorflow.keras.optimizers.schedules import ExponentialDecay # learning rate decay over each update\n",
    "\n",
    "# Create a learning rate schedule\n",
    "lr_schedule = ExponentialDecay(\n",
    "    initial_learning_rate=0.01,\n",
    "    decay_steps=100000,\n",
    "    decay_rate=0.96,\n",
    "    staircase=True)\n",
    "\n",
    "# Build the model\n",
    "model = Sequential()\n",
    "model.add(Dense(128, input_shape=(len(train_x[0]),), activation='relu')) # input layer\n",
    "model.add(Dropout(0.5))\n",
    "model.add(Dense(64, activation='relu')) # hidden layer\n",
    "model.add(Dropout(0.5))\n",
    "model.add(Dense(len(train_y[0]), activation='softmax')) # output layer\n",
    "\n",
    "# Compile the model\n",
    "sgd = SGD(learning_rate=lr_schedule, momentum=0.9, nesterov=True) # stochastic gradient descent\n",
    "model.compile(loss='categorical_crossentropy', optimizer=sgd, metrics=['accuracy'])\n",
    "\n"
   ],
   "metadata": {
    "collapsed": false,
    "ExecuteTime": {
     "end_time": "2024-01-14T22:43:49.845094900Z",
     "start_time": "2024-01-14T22:43:43.463850200Z"
    }
   },
   "id": "f12e6e3ee3b2b1ee"
  },
  {
   "cell_type": "markdown",
   "source": [
    "## Training and saving the model"
   ],
   "metadata": {
    "collapsed": false
   },
   "id": "f38cafa22d677c7a"
  },
  {
   "cell_type": "code",
   "execution_count": 9,
   "outputs": [
    {
     "name": "stdout",
     "output_type": "stream",
     "text": [
      "Epoch 1/200\n",
      "WARNING:tensorflow:From D:\\Users\\dagbo\\OneDrive\\ChatbotAE2\\.venv\\lib\\site-packages\\keras\\src\\utils\\tf_utils.py:492: The name tf.ragged.RaggedTensorValue is deprecated. Please use tf.compat.v1.ragged.RaggedTensorValue instead.\n",
      "WARNING:tensorflow:From D:\\Users\\dagbo\\OneDrive\\ChatbotAE2\\.venv\\lib\\site-packages\\keras\\src\\engine\\base_layer_utils.py:384: The name tf.executing_eagerly_outside_functions is deprecated. Please use tf.compat.v1.executing_eagerly_outside_functions instead.\n",
      "57/57 [==============================] - 1s 2ms/step - loss: 4.3971 - accuracy: 0.0035\n",
      "Epoch 2/200\n",
      "57/57 [==============================] - 0s 2ms/step - loss: 4.3715 - accuracy: 0.0318\n",
      "Epoch 3/200\n",
      "57/57 [==============================] - 0s 2ms/step - loss: 4.3381 - accuracy: 0.0495\n",
      "Epoch 4/200\n",
      "57/57 [==============================] - 0s 2ms/step - loss: 4.3170 - accuracy: 0.0318\n",
      "Epoch 5/200\n",
      "57/57 [==============================] - 0s 2ms/step - loss: 4.2743 - accuracy: 0.0424\n",
      "Epoch 6/200\n",
      "57/57 [==============================] - 0s 2ms/step - loss: 4.2193 - accuracy: 0.0459\n",
      "Epoch 7/200\n",
      "57/57 [==============================] - 0s 2ms/step - loss: 4.2016 - accuracy: 0.0707\n",
      "Epoch 8/200\n",
      "57/57 [==============================] - 0s 2ms/step - loss: 4.1115 - accuracy: 0.0636\n",
      "Epoch 9/200\n",
      "57/57 [==============================] - 0s 2ms/step - loss: 4.0338 - accuracy: 0.0813\n",
      "Epoch 10/200\n",
      "57/57 [==============================] - 0s 2ms/step - loss: 3.9716 - accuracy: 0.1166\n",
      "Epoch 11/200\n",
      "57/57 [==============================] - 0s 2ms/step - loss: 3.8770 - accuracy: 0.1095\n",
      "Epoch 12/200\n",
      "57/57 [==============================] - 0s 2ms/step - loss: 3.7248 - accuracy: 0.1449\n",
      "Epoch 13/200\n",
      "57/57 [==============================] - 0s 2ms/step - loss: 3.6136 - accuracy: 0.1484\n",
      "Epoch 14/200\n",
      "57/57 [==============================] - 0s 2ms/step - loss: 3.5162 - accuracy: 0.1343\n",
      "Epoch 15/200\n",
      "57/57 [==============================] - 0s 2ms/step - loss: 3.3375 - accuracy: 0.1943\n",
      "Epoch 16/200\n",
      "57/57 [==============================] - 0s 2ms/step - loss: 3.2117 - accuracy: 0.1837\n",
      "Epoch 17/200\n",
      "57/57 [==============================] - 0s 2ms/step - loss: 3.0230 - accuracy: 0.2403\n",
      "Epoch 18/200\n",
      "57/57 [==============================] - 0s 2ms/step - loss: 2.9084 - accuracy: 0.2438\n",
      "Epoch 19/200\n",
      "57/57 [==============================] - 0s 2ms/step - loss: 2.9005 - accuracy: 0.2509\n",
      "Epoch 20/200\n",
      "57/57 [==============================] - 0s 2ms/step - loss: 2.7423 - accuracy: 0.2862\n",
      "Epoch 21/200\n",
      "57/57 [==============================] - 0s 2ms/step - loss: 2.6117 - accuracy: 0.3004\n",
      "Epoch 22/200\n",
      "57/57 [==============================] - 0s 2ms/step - loss: 2.6396 - accuracy: 0.3039\n",
      "Epoch 23/200\n",
      "57/57 [==============================] - 0s 2ms/step - loss: 2.4339 - accuracy: 0.3498\n",
      "Epoch 24/200\n",
      "57/57 [==============================] - 0s 2ms/step - loss: 2.2887 - accuracy: 0.3958\n",
      "Epoch 25/200\n",
      "57/57 [==============================] - 0s 2ms/step - loss: 2.2525 - accuracy: 0.3710\n",
      "Epoch 26/200\n",
      "57/57 [==============================] - 0s 2ms/step - loss: 2.1125 - accuracy: 0.4240\n",
      "Epoch 27/200\n",
      "57/57 [==============================] - 0s 2ms/step - loss: 2.1210 - accuracy: 0.3887\n",
      "Epoch 28/200\n",
      "57/57 [==============================] - 0s 2ms/step - loss: 2.1007 - accuracy: 0.3993\n",
      "Epoch 29/200\n",
      "57/57 [==============================] - 0s 2ms/step - loss: 1.8818 - accuracy: 0.4629\n",
      "Epoch 30/200\n",
      "57/57 [==============================] - 0s 2ms/step - loss: 2.0761 - accuracy: 0.3922\n",
      "Epoch 31/200\n",
      "57/57 [==============================] - 0s 2ms/step - loss: 1.7349 - accuracy: 0.4806\n",
      "Epoch 32/200\n",
      "57/57 [==============================] - 0s 2ms/step - loss: 1.7680 - accuracy: 0.4629\n",
      "Epoch 33/200\n",
      "57/57 [==============================] - 0s 2ms/step - loss: 1.6999 - accuracy: 0.4912\n",
      "Epoch 34/200\n",
      "57/57 [==============================] - 0s 2ms/step - loss: 1.6930 - accuracy: 0.5053\n",
      "Epoch 35/200\n",
      "57/57 [==============================] - 0s 2ms/step - loss: 1.6279 - accuracy: 0.5088\n",
      "Epoch 36/200\n",
      "57/57 [==============================] - 0s 2ms/step - loss: 1.6495 - accuracy: 0.4982\n",
      "Epoch 37/200\n",
      "57/57 [==============================] - 0s 2ms/step - loss: 1.5061 - accuracy: 0.5371\n",
      "Epoch 38/200\n",
      "57/57 [==============================] - 0s 2ms/step - loss: 1.4470 - accuracy: 0.5512\n",
      "Epoch 39/200\n",
      "57/57 [==============================] - 0s 2ms/step - loss: 1.5500 - accuracy: 0.5053\n",
      "Epoch 40/200\n",
      "57/57 [==============================] - 0s 2ms/step - loss: 1.4373 - accuracy: 0.5654\n",
      "Epoch 41/200\n",
      "57/57 [==============================] - 0s 2ms/step - loss: 1.4224 - accuracy: 0.5406\n",
      "Epoch 42/200\n",
      "57/57 [==============================] - 0s 2ms/step - loss: 1.3699 - accuracy: 0.6078\n",
      "Epoch 43/200\n",
      "57/57 [==============================] - 0s 2ms/step - loss: 1.3563 - accuracy: 0.5866\n",
      "Epoch 44/200\n",
      "57/57 [==============================] - 0s 2ms/step - loss: 1.2733 - accuracy: 0.5936\n",
      "Epoch 45/200\n",
      "57/57 [==============================] - 0s 2ms/step - loss: 1.3211 - accuracy: 0.5760\n",
      "Epoch 46/200\n",
      "57/57 [==============================] - 0s 2ms/step - loss: 1.1338 - accuracy: 0.6714\n",
      "Epoch 47/200\n",
      "57/57 [==============================] - 0s 2ms/step - loss: 1.1103 - accuracy: 0.6608\n",
      "Epoch 48/200\n",
      "57/57 [==============================] - 0s 2ms/step - loss: 1.3153 - accuracy: 0.6360\n",
      "Epoch 49/200\n",
      "57/57 [==============================] - 0s 2ms/step - loss: 1.2140 - accuracy: 0.6113\n",
      "Epoch 50/200\n",
      "57/57 [==============================] - 0s 2ms/step - loss: 1.1340 - accuracy: 0.6466\n",
      "Epoch 51/200\n",
      "57/57 [==============================] - 0s 2ms/step - loss: 1.2276 - accuracy: 0.6148\n",
      "Epoch 52/200\n",
      "57/57 [==============================] - 0s 2ms/step - loss: 1.0660 - accuracy: 0.6643\n",
      "Epoch 53/200\n",
      "57/57 [==============================] - 0s 2ms/step - loss: 1.2452 - accuracy: 0.6290\n",
      "Epoch 54/200\n",
      "57/57 [==============================] - 0s 2ms/step - loss: 1.0515 - accuracy: 0.6784\n",
      "Epoch 55/200\n",
      "57/57 [==============================] - 0s 2ms/step - loss: 1.0328 - accuracy: 0.6608\n",
      "Epoch 56/200\n",
      "57/57 [==============================] - 0s 2ms/step - loss: 1.0889 - accuracy: 0.6360\n",
      "Epoch 57/200\n",
      "57/57 [==============================] - 0s 2ms/step - loss: 0.9937 - accuracy: 0.6855\n",
      "Epoch 58/200\n",
      "57/57 [==============================] - 0s 2ms/step - loss: 1.0204 - accuracy: 0.6961\n",
      "Epoch 59/200\n",
      "57/57 [==============================] - 0s 2ms/step - loss: 1.0561 - accuracy: 0.6855\n",
      "Epoch 60/200\n",
      "57/57 [==============================] - 0s 2ms/step - loss: 0.9638 - accuracy: 0.6784\n",
      "Epoch 61/200\n",
      "57/57 [==============================] - 0s 2ms/step - loss: 0.9570 - accuracy: 0.6749\n",
      "Epoch 62/200\n",
      "57/57 [==============================] - 0s 2ms/step - loss: 0.8717 - accuracy: 0.7350\n",
      "Epoch 63/200\n",
      "57/57 [==============================] - 0s 2ms/step - loss: 0.8796 - accuracy: 0.7208\n",
      "Epoch 64/200\n",
      "57/57 [==============================] - 0s 2ms/step - loss: 0.9547 - accuracy: 0.6608\n",
      "Epoch 65/200\n",
      "57/57 [==============================] - 0s 2ms/step - loss: 0.8974 - accuracy: 0.7350\n",
      "Epoch 66/200\n",
      "57/57 [==============================] - 0s 2ms/step - loss: 0.9081 - accuracy: 0.7208\n",
      "Epoch 67/200\n",
      "57/57 [==============================] - 0s 2ms/step - loss: 0.9560 - accuracy: 0.6961\n",
      "Epoch 68/200\n",
      "57/57 [==============================] - 0s 2ms/step - loss: 0.9858 - accuracy: 0.6784\n",
      "Epoch 69/200\n",
      "57/57 [==============================] - 0s 2ms/step - loss: 1.0048 - accuracy: 0.6678\n",
      "Epoch 70/200\n",
      "57/57 [==============================] - 0s 2ms/step - loss: 0.9083 - accuracy: 0.7138\n",
      "Epoch 71/200\n",
      "57/57 [==============================] - 0s 2ms/step - loss: 0.7978 - accuracy: 0.7244\n",
      "Epoch 72/200\n",
      "57/57 [==============================] - 0s 2ms/step - loss: 0.8900 - accuracy: 0.7067\n",
      "Epoch 73/200\n",
      "57/57 [==============================] - 0s 2ms/step - loss: 0.8340 - accuracy: 0.7032\n",
      "Epoch 74/200\n",
      "57/57 [==============================] - 0s 2ms/step - loss: 0.8489 - accuracy: 0.7314\n",
      "Epoch 75/200\n",
      "57/57 [==============================] - 0s 2ms/step - loss: 0.7859 - accuracy: 0.7385\n",
      "Epoch 76/200\n",
      "57/57 [==============================] - 0s 2ms/step - loss: 0.7834 - accuracy: 0.7279\n",
      "Epoch 77/200\n",
      "57/57 [==============================] - 0s 2ms/step - loss: 0.8151 - accuracy: 0.7173\n",
      "Epoch 78/200\n",
      "57/57 [==============================] - 0s 2ms/step - loss: 0.8464 - accuracy: 0.7173\n",
      "Epoch 79/200\n",
      "57/57 [==============================] - 0s 2ms/step - loss: 0.8613 - accuracy: 0.7067\n",
      "Epoch 80/200\n",
      "57/57 [==============================] - 0s 2ms/step - loss: 0.8063 - accuracy: 0.7208\n",
      "Epoch 81/200\n",
      "57/57 [==============================] - 0s 2ms/step - loss: 0.8551 - accuracy: 0.6926\n",
      "Epoch 82/200\n",
      "57/57 [==============================] - 0s 2ms/step - loss: 0.7238 - accuracy: 0.7527\n",
      "Epoch 83/200\n",
      "57/57 [==============================] - 0s 2ms/step - loss: 0.8154 - accuracy: 0.7032\n",
      "Epoch 84/200\n",
      "57/57 [==============================] - 0s 2ms/step - loss: 0.7957 - accuracy: 0.7138\n",
      "Epoch 85/200\n",
      "57/57 [==============================] - 0s 2ms/step - loss: 0.7376 - accuracy: 0.7633\n",
      "Epoch 86/200\n",
      "57/57 [==============================] - 0s 2ms/step - loss: 0.9039 - accuracy: 0.7067\n",
      "Epoch 87/200\n",
      "57/57 [==============================] - 0s 2ms/step - loss: 0.7835 - accuracy: 0.7208\n",
      "Epoch 88/200\n",
      "57/57 [==============================] - 0s 2ms/step - loss: 0.8007 - accuracy: 0.7244\n",
      "Epoch 89/200\n",
      "57/57 [==============================] - 0s 2ms/step - loss: 0.6735 - accuracy: 0.7703\n",
      "Epoch 90/200\n",
      "57/57 [==============================] - 0s 2ms/step - loss: 0.7827 - accuracy: 0.7385\n",
      "Epoch 91/200\n",
      "57/57 [==============================] - 0s 2ms/step - loss: 0.8343 - accuracy: 0.7350\n",
      "Epoch 92/200\n",
      "57/57 [==============================] - 0s 2ms/step - loss: 0.9062 - accuracy: 0.7032\n",
      "Epoch 93/200\n",
      "57/57 [==============================] - 0s 2ms/step - loss: 0.6767 - accuracy: 0.7739\n",
      "Epoch 94/200\n",
      "57/57 [==============================] - 0s 2ms/step - loss: 0.7513 - accuracy: 0.7420\n",
      "Epoch 95/200\n",
      "57/57 [==============================] - 0s 2ms/step - loss: 0.6658 - accuracy: 0.7739\n",
      "Epoch 96/200\n",
      "57/57 [==============================] - 0s 2ms/step - loss: 0.8605 - accuracy: 0.7173\n",
      "Epoch 97/200\n",
      "57/57 [==============================] - 0s 2ms/step - loss: 0.6813 - accuracy: 0.7456\n",
      "Epoch 98/200\n",
      "57/57 [==============================] - 0s 2ms/step - loss: 0.8134 - accuracy: 0.7173\n",
      "Epoch 99/200\n",
      "57/57 [==============================] - 0s 2ms/step - loss: 0.7831 - accuracy: 0.7173\n",
      "Epoch 100/200\n",
      "57/57 [==============================] - 0s 2ms/step - loss: 0.7300 - accuracy: 0.7420\n",
      "Epoch 101/200\n",
      "57/57 [==============================] - 0s 2ms/step - loss: 0.6639 - accuracy: 0.7597\n",
      "Epoch 102/200\n",
      "57/57 [==============================] - 0s 2ms/step - loss: 0.8215 - accuracy: 0.7102\n",
      "Epoch 103/200\n",
      "57/57 [==============================] - 0s 2ms/step - loss: 0.7127 - accuracy: 0.7491\n",
      "Epoch 104/200\n",
      "57/57 [==============================] - 0s 2ms/step - loss: 0.7273 - accuracy: 0.7314\n",
      "Epoch 105/200\n",
      "57/57 [==============================] - 0s 2ms/step - loss: 0.8097 - accuracy: 0.7314\n",
      "Epoch 106/200\n",
      "57/57 [==============================] - 0s 2ms/step - loss: 0.7138 - accuracy: 0.7633\n",
      "Epoch 107/200\n",
      "57/57 [==============================] - 0s 2ms/step - loss: 0.6446 - accuracy: 0.7597\n",
      "Epoch 108/200\n",
      "57/57 [==============================] - 0s 2ms/step - loss: 0.7121 - accuracy: 0.7420\n",
      "Epoch 109/200\n",
      "57/57 [==============================] - 0s 2ms/step - loss: 0.6390 - accuracy: 0.7350\n",
      "Epoch 110/200\n",
      "57/57 [==============================] - 0s 2ms/step - loss: 0.6621 - accuracy: 0.7597\n",
      "Epoch 111/200\n",
      "57/57 [==============================] - 0s 2ms/step - loss: 0.5947 - accuracy: 0.7809\n",
      "Epoch 112/200\n",
      "57/57 [==============================] - 0s 2ms/step - loss: 0.6494 - accuracy: 0.7491\n",
      "Epoch 113/200\n",
      "57/57 [==============================] - 0s 2ms/step - loss: 0.7878 - accuracy: 0.7350\n",
      "Epoch 114/200\n",
      "57/57 [==============================] - 0s 2ms/step - loss: 0.7327 - accuracy: 0.7420\n",
      "Epoch 115/200\n",
      "57/57 [==============================] - 0s 2ms/step - loss: 0.6986 - accuracy: 0.7703\n",
      "Epoch 116/200\n",
      "57/57 [==============================] - 0s 2ms/step - loss: 0.7365 - accuracy: 0.7244\n",
      "Epoch 117/200\n",
      "57/57 [==============================] - 0s 2ms/step - loss: 0.7340 - accuracy: 0.7420\n",
      "Epoch 118/200\n",
      "57/57 [==============================] - 0s 2ms/step - loss: 0.7153 - accuracy: 0.7597\n",
      "Epoch 119/200\n",
      "57/57 [==============================] - 0s 2ms/step - loss: 0.6503 - accuracy: 0.7703\n",
      "Epoch 120/200\n",
      "57/57 [==============================] - 0s 2ms/step - loss: 0.7165 - accuracy: 0.7456\n",
      "Epoch 121/200\n",
      "57/57 [==============================] - 0s 2ms/step - loss: 0.6373 - accuracy: 0.7703\n",
      "Epoch 122/200\n",
      "57/57 [==============================] - 0s 2ms/step - loss: 0.6622 - accuracy: 0.7633\n",
      "Epoch 123/200\n",
      "57/57 [==============================] - 0s 2ms/step - loss: 0.6748 - accuracy: 0.7527\n",
      "Epoch 124/200\n",
      "57/57 [==============================] - 0s 2ms/step - loss: 0.6606 - accuracy: 0.7703\n",
      "Epoch 125/200\n",
      "57/57 [==============================] - 0s 2ms/step - loss: 0.6274 - accuracy: 0.7774\n",
      "Epoch 126/200\n",
      "57/57 [==============================] - 0s 2ms/step - loss: 0.5998 - accuracy: 0.7951\n",
      "Epoch 127/200\n",
      "57/57 [==============================] - 0s 2ms/step - loss: 0.6474 - accuracy: 0.7668\n",
      "Epoch 128/200\n",
      "57/57 [==============================] - 0s 2ms/step - loss: 0.6095 - accuracy: 0.7774\n",
      "Epoch 129/200\n",
      "57/57 [==============================] - 0s 2ms/step - loss: 0.6596 - accuracy: 0.7809\n",
      "Epoch 130/200\n",
      "57/57 [==============================] - 0s 2ms/step - loss: 0.4995 - accuracy: 0.8233\n",
      "Epoch 131/200\n",
      "57/57 [==============================] - 0s 2ms/step - loss: 0.6503 - accuracy: 0.7809\n",
      "Epoch 132/200\n",
      "57/57 [==============================] - 0s 2ms/step - loss: 0.6241 - accuracy: 0.7809\n",
      "Epoch 133/200\n",
      "57/57 [==============================] - 0s 2ms/step - loss: 0.5817 - accuracy: 0.7774\n",
      "Epoch 134/200\n",
      "57/57 [==============================] - 0s 2ms/step - loss: 0.6910 - accuracy: 0.7703\n",
      "Epoch 135/200\n",
      "57/57 [==============================] - 0s 2ms/step - loss: 0.6271 - accuracy: 0.7774\n",
      "Epoch 136/200\n",
      "57/57 [==============================] - 0s 2ms/step - loss: 0.7450 - accuracy: 0.7456\n",
      "Epoch 137/200\n",
      "57/57 [==============================] - 0s 2ms/step - loss: 0.6095 - accuracy: 0.7845\n",
      "Epoch 138/200\n",
      "57/57 [==============================] - 0s 2ms/step - loss: 0.7007 - accuracy: 0.7562\n",
      "Epoch 139/200\n",
      "57/57 [==============================] - 0s 2ms/step - loss: 0.5902 - accuracy: 0.7809\n",
      "Epoch 140/200\n",
      "57/57 [==============================] - 0s 2ms/step - loss: 0.5696 - accuracy: 0.7951\n",
      "Epoch 141/200\n",
      "57/57 [==============================] - 0s 2ms/step - loss: 0.5742 - accuracy: 0.7915\n",
      "Epoch 142/200\n",
      "57/57 [==============================] - 0s 2ms/step - loss: 0.6874 - accuracy: 0.7527\n",
      "Epoch 143/200\n",
      "57/57 [==============================] - 0s 2ms/step - loss: 0.6749 - accuracy: 0.7703\n",
      "Epoch 144/200\n",
      "57/57 [==============================] - 0s 2ms/step - loss: 0.6352 - accuracy: 0.7703\n",
      "Epoch 145/200\n",
      "57/57 [==============================] - 0s 2ms/step - loss: 0.6029 - accuracy: 0.7986\n",
      "Epoch 146/200\n",
      "57/57 [==============================] - 0s 2ms/step - loss: 0.6394 - accuracy: 0.7633\n",
      "Epoch 147/200\n",
      "57/57 [==============================] - 0s 2ms/step - loss: 0.6018 - accuracy: 0.7774\n",
      "Epoch 148/200\n",
      "57/57 [==============================] - 0s 2ms/step - loss: 0.5967 - accuracy: 0.7774\n",
      "Epoch 149/200\n",
      "57/57 [==============================] - 0s 2ms/step - loss: 0.6298 - accuracy: 0.7809\n",
      "Epoch 150/200\n",
      "57/57 [==============================] - 0s 2ms/step - loss: 0.5395 - accuracy: 0.7915\n",
      "Epoch 151/200\n",
      "57/57 [==============================] - 0s 2ms/step - loss: 0.5731 - accuracy: 0.7739\n",
      "Epoch 152/200\n",
      "57/57 [==============================] - 0s 2ms/step - loss: 0.5606 - accuracy: 0.8021\n",
      "Epoch 153/200\n",
      "57/57 [==============================] - 0s 3ms/step - loss: 0.4963 - accuracy: 0.8021\n",
      "Epoch 154/200\n",
      "57/57 [==============================] - 0s 2ms/step - loss: 0.5202 - accuracy: 0.8198\n",
      "Epoch 155/200\n",
      "57/57 [==============================] - 0s 2ms/step - loss: 0.6659 - accuracy: 0.7456\n",
      "Epoch 156/200\n",
      "57/57 [==============================] - 0s 2ms/step - loss: 0.5860 - accuracy: 0.7703\n",
      "Epoch 157/200\n",
      "57/57 [==============================] - 0s 2ms/step - loss: 0.5375 - accuracy: 0.8163\n",
      "Epoch 158/200\n",
      "57/57 [==============================] - 0s 2ms/step - loss: 0.5703 - accuracy: 0.7739\n",
      "Epoch 159/200\n",
      "57/57 [==============================] - 0s 2ms/step - loss: 0.5065 - accuracy: 0.8269\n",
      "Epoch 160/200\n",
      "57/57 [==============================] - 0s 2ms/step - loss: 0.6593 - accuracy: 0.7668\n",
      "Epoch 161/200\n",
      "57/57 [==============================] - 0s 2ms/step - loss: 0.5227 - accuracy: 0.8233\n",
      "Epoch 162/200\n",
      "57/57 [==============================] - 0s 2ms/step - loss: 0.6110 - accuracy: 0.7703\n",
      "Epoch 163/200\n",
      "57/57 [==============================] - 0s 2ms/step - loss: 0.6726 - accuracy: 0.7527\n",
      "Epoch 164/200\n",
      "57/57 [==============================] - 0s 2ms/step - loss: 0.5592 - accuracy: 0.8092\n",
      "Epoch 165/200\n",
      "57/57 [==============================] - 0s 2ms/step - loss: 0.4799 - accuracy: 0.8198\n",
      "Epoch 166/200\n",
      "57/57 [==============================] - 0s 2ms/step - loss: 0.5182 - accuracy: 0.7986\n",
      "Epoch 167/200\n",
      "57/57 [==============================] - 0s 2ms/step - loss: 0.5599 - accuracy: 0.7703\n",
      "Epoch 168/200\n",
      "57/57 [==============================] - 0s 2ms/step - loss: 0.5674 - accuracy: 0.7809\n",
      "Epoch 169/200\n",
      "57/57 [==============================] - 0s 2ms/step - loss: 0.5960 - accuracy: 0.7880\n",
      "Epoch 170/200\n",
      "57/57 [==============================] - 0s 2ms/step - loss: 0.5666 - accuracy: 0.7739\n",
      "Epoch 171/200\n",
      "57/57 [==============================] - 0s 2ms/step - loss: 0.5714 - accuracy: 0.7880\n",
      "Epoch 172/200\n",
      "57/57 [==============================] - 0s 2ms/step - loss: 0.5844 - accuracy: 0.7880\n",
      "Epoch 173/200\n",
      "57/57 [==============================] - 0s 2ms/step - loss: 0.5537 - accuracy: 0.7951\n",
      "Epoch 174/200\n",
      "57/57 [==============================] - 0s 2ms/step - loss: 0.5608 - accuracy: 0.7774\n",
      "Epoch 175/200\n",
      "57/57 [==============================] - 0s 2ms/step - loss: 0.6626 - accuracy: 0.7633\n",
      "Epoch 176/200\n",
      "57/57 [==============================] - 0s 2ms/step - loss: 0.5934 - accuracy: 0.7774\n",
      "Epoch 177/200\n",
      "57/57 [==============================] - 0s 2ms/step - loss: 0.5376 - accuracy: 0.7703\n",
      "Epoch 178/200\n",
      "57/57 [==============================] - 0s 2ms/step - loss: 0.5587 - accuracy: 0.7845\n",
      "Epoch 179/200\n",
      "57/57 [==============================] - 0s 2ms/step - loss: 0.5594 - accuracy: 0.7845\n",
      "Epoch 180/200\n",
      "57/57 [==============================] - 0s 2ms/step - loss: 0.5532 - accuracy: 0.8057\n",
      "Epoch 181/200\n",
      "57/57 [==============================] - 0s 2ms/step - loss: 0.5336 - accuracy: 0.7880\n",
      "Epoch 182/200\n",
      "57/57 [==============================] - 0s 2ms/step - loss: 0.4672 - accuracy: 0.8163\n",
      "Epoch 183/200\n",
      "57/57 [==============================] - 0s 2ms/step - loss: 0.5923 - accuracy: 0.7703\n",
      "Epoch 184/200\n",
      "57/57 [==============================] - 0s 2ms/step - loss: 0.6624 - accuracy: 0.7562\n",
      "Epoch 185/200\n",
      "57/57 [==============================] - 0s 2ms/step - loss: 0.4994 - accuracy: 0.8233\n",
      "Epoch 186/200\n",
      "57/57 [==============================] - 0s 2ms/step - loss: 0.6176 - accuracy: 0.7774\n",
      "Epoch 187/200\n",
      "57/57 [==============================] - 0s 2ms/step - loss: 0.6085 - accuracy: 0.7915\n",
      "Epoch 188/200\n",
      "57/57 [==============================] - 0s 2ms/step - loss: 0.5687 - accuracy: 0.8021\n",
      "Epoch 189/200\n",
      "57/57 [==============================] - 0s 2ms/step - loss: 0.5450 - accuracy: 0.7951\n",
      "Epoch 190/200\n",
      "57/57 [==============================] - 0s 2ms/step - loss: 0.5847 - accuracy: 0.7951\n",
      "Epoch 191/200\n",
      "57/57 [==============================] - 0s 2ms/step - loss: 0.5346 - accuracy: 0.7986\n",
      "Epoch 192/200\n",
      "57/57 [==============================] - 0s 2ms/step - loss: 0.4523 - accuracy: 0.8304\n",
      "Epoch 193/200\n",
      "57/57 [==============================] - 0s 2ms/step - loss: 0.4966 - accuracy: 0.8233\n",
      "Epoch 194/200\n",
      "57/57 [==============================] - 0s 2ms/step - loss: 0.5412 - accuracy: 0.8021\n",
      "Epoch 195/200\n",
      "57/57 [==============================] - 0s 2ms/step - loss: 0.6818 - accuracy: 0.7774\n",
      "Epoch 196/200\n",
      "57/57 [==============================] - 0s 2ms/step - loss: 0.6071 - accuracy: 0.7774\n",
      "Epoch 197/200\n",
      "57/57 [==============================] - 0s 2ms/step - loss: 0.5412 - accuracy: 0.7951\n",
      "Epoch 198/200\n",
      "57/57 [==============================] - 0s 2ms/step - loss: 0.4498 - accuracy: 0.8163\n",
      "Epoch 199/200\n",
      "57/57 [==============================] - 0s 2ms/step - loss: 0.5586 - accuracy: 0.7951\n",
      "Epoch 200/200\n",
      "57/57 [==============================] - 0s 2ms/step - loss: 0.6237 - accuracy: 0.7633\n",
      "9/9 [==============================] - 0s 2ms/step - loss: 0.1584 - accuracy: 0.9117\n",
      "Loss: 0.15841709077358246, accuracy: 0.9116607904434204\n"
     ]
    }
   ],
   "source": [
    "# Training and saving the model\n",
    "solentBot = model.fit(np.array(train_x), np.array(train_y), epochs=200, batch_size=5, verbose=1)\n",
    "loss, accuracy = model.evaluate(np.array(train_x), np.array(train_y))\n",
    "print(f\"Loss: {loss}, accuracy: {accuracy}\")\n",
    "#model.save('solentBot_model.h5', solentBot)"
   ],
   "metadata": {
    "collapsed": false,
    "ExecuteTime": {
     "end_time": "2024-01-14T22:44:12.663860700Z",
     "start_time": "2024-01-14T22:43:49.847264800Z"
    }
   },
   "id": "bb88c814a747a8c8"
  },
  {
   "cell_type": "code",
   "execution_count": 10,
   "outputs": [
    {
     "name": "stdout",
     "output_type": "stream",
     "text": [
      "model created, saved and trained\n"
     ]
    },
    {
     "name": "stderr",
     "output_type": "stream",
     "text": [
      "D:\\Users\\dagbo\\OneDrive\\ChatbotAE2\\.venv\\lib\\site-packages\\keras\\src\\engine\\training.py:3103: UserWarning: You are saving your model as an HDF5 file via `model.save()`. This file format is considered legacy. We recommend using instead the native Keras format, e.g. `model.save('my_model.keras')`.\n",
      "  saving_api.save_model(\n"
     ]
    }
   ],
   "source": [
    "# save the model to disk\n",
    "model.save('solentBot_model.h5', solentBot)\n",
    "print(\"model created, saved and trained\")"
   ],
   "metadata": {
    "collapsed": false,
    "ExecuteTime": {
     "end_time": "2024-01-14T22:44:12.702840Z",
     "start_time": "2024-01-14T22:44:12.654195Z"
    }
   },
   "id": "b651e51c6321de7e"
  },
  {
   "cell_type": "code",
   "execution_count": 11,
   "outputs": [],
   "source": [
    "# evaluate the model to check for confidence score of the predictions\n",
    "def bag_of_words(s, words):\n",
    "    bag = [0 for _ in range(len(words))]\n",
    "    \n",
    "    s_words = nltk.word_tokenize(s)\n",
    "    s_words = [lemmatizer.lemmatize(word.lower()) for word in s_words]\n",
    "    \n",
    "    for se in s_words:\n",
    "        for i, w in enumerate(words):\n",
    "            if w == se:\n",
    "                bag[i] = 1\n",
    "                \n",
    "    return np.array(bag)\n",
    "\n",
    "def predict_class(s, model):\n",
    "    bow = bag_of_words(s, words)\n",
    "    res = model.predict(np.array([bow]))[0]\n",
    "    ERROR_THRESHOLD = 0.25\n",
    "    results = [[i, r] for i, r in enumerate(res) if r > ERROR_THRESHOLD]\n",
    "    \n",
    "    # sort by strength of probability\n",
    "    results.sort(key=lambda x: x[1], reverse=True)\n",
    "    return_list = []\n",
    "    for r in results:\n",
    "        return_list.append({'intent': classes[r[0]], 'probability': str(r[1])})\n",
    "        \n",
    "    return return_list\n",
    "\n",
    "def get_response(intents_list, intents_json):\n",
    "    tag = intents_list[0]['intent']\n",
    "    list_of_intents = intents_json['intents']\n",
    "    \n",
    "    for i in list_of_intents:\n",
    "        if i['tag'] == tag:\n",
    "            result = random.choice(i['responses'])\n",
    "            break\n",
    "            \n",
    "    return result\n",
    "\n"
   ],
   "metadata": {
    "collapsed": false,
    "ExecuteTime": {
     "end_time": "2024-01-14T22:44:12.704192500Z",
     "start_time": "2024-01-14T22:44:12.687581800Z"
    }
   },
   "id": "2a6e18d4198f1304"
  },
  {
   "cell_type": "code",
   "execution_count": 12,
   "outputs": [],
   "source": [
    "# chatbot response\n",
    "def chatbot_response(text):\n",
    "    ints = predict_class(text, model)\n",
    "    res = get_response(ints, intents)\n",
    "    return res\n",
    "\n"
   ],
   "metadata": {
    "collapsed": false,
    "ExecuteTime": {
     "end_time": "2024-01-14T22:44:12.745318400Z",
     "start_time": "2024-01-14T22:44:12.700841200Z"
    }
   },
   "id": "3971d4e293b9ddc3"
  },
  {
   "cell_type": "code",
   "execution_count": 13,
   "outputs": [
    {
     "name": "stdout",
     "output_type": "stream",
     "text": [
      "1/1 [==============================] - 0s 74ms/step\n",
      "1/1 [==============================] - 0s 22ms/step\n",
      "1/1 [==============================] - 0s 23ms/step\n",
      "1/1 [==============================] - 0s 20ms/step\n",
      "1/1 [==============================] - 0s 22ms/step\n",
      "1/1 [==============================] - 0s 21ms/step\n",
      "1/1 [==============================] - 0s 21ms/step\n",
      "1/1 [==============================] - 0s 22ms/step\n",
      "1/1 [==============================] - 0s 22ms/step\n"
     ]
    }
   ],
   "source": [
    "# create GUI\n",
    "import tkinter\n",
    "from tkinter import *\n",
    "\n",
    "def send():\n",
    "    msg = EntryBox.get(\"1.0\", 'end-1c').strip()\n",
    "    EntryBox.delete(\"0.0\", END)\n",
    "    \n",
    "    if msg != '':\n",
    "        ChatLog.config(state=NORMAL)\n",
    "        ChatLog.insert(END, \"You: \" + msg + '\\n\\n')\n",
    "        ChatLog.config(foreground=\"#442265\", font=(\"Verdana\", 12))\n",
    "        \n",
    "        res = chatbot_response(msg)\n",
    "        ChatLog.insert(END, \"SolentBot: \" + res + '\\n\\n')\n",
    "        \n",
    "        ChatLog.config(state=DISABLED)\n",
    "        ChatLog.yview(END)\n",
    "        \n",
    "base = Tk()\n",
    "base.title(\"SolentBot\")\n",
    "base.geometry(\"400x500\")\n",
    "base.resizable(width=FALSE, height=FALSE)\n",
    "\n",
    "# create chat window\n",
    "\n",
    "ChatLog = Text(base, bd=0, bg=\"white\", height=\"8\", width=\"50\", font=\"Arial\",)\n",
    "\n",
    "ChatLog.config(state=DISABLED)\n",
    "\n",
    "# bind scrollbar to chat window\n",
    "scrollbar = Scrollbar(base, command=ChatLog.yview, cursor=\"heart\")\n",
    "\n",
    "ChatLog['yscrollcommand'] = scrollbar.set\n",
    "\n",
    "# create button to send message\n",
    "SendButton = Button(base, font=(\"Verdana\", 12, 'bold'), text=\"Send\", width=\"12\", height=5,\n",
    "                    bd=0, bg=\"#32de97\", activebackground=\"#3c9d9b\", fg='#ffffff',\n",
    "                    command=send)\n",
    "\n",
    "# create the box to enter message\n",
    "EntryBox = Text(base, bd=0, bg=\"white\", width=\"29\", height=\"5\", font=\"Arial\")\n",
    "\n",
    "# place all components on the screen\n",
    "scrollbar.place(x=376, y=6, height=386)\n",
    "\n",
    "ChatLog.place(x=6, y=6, height=386, width=370)\n",
    "\n",
    "EntryBox.place(x=128, y=401, height=90, width=265)\n",
    "\n",
    "SendButton.place(x=6, y=401, height=90)\n",
    "    \n",
    "    \n",
    "base.mainloop()\n",
    "\n"
   ],
   "metadata": {
    "collapsed": false,
    "ExecuteTime": {
     "end_time": "2024-01-14T22:46:13.038169300Z",
     "start_time": "2024-01-14T22:44:12.718887200Z"
    }
   },
   "id": "f0f8be86c9856eaa"
  },
  {
   "cell_type": "code",
   "execution_count": 13,
   "outputs": [],
   "source": [],
   "metadata": {
    "collapsed": false,
    "ExecuteTime": {
     "end_time": "2024-01-14T22:46:13.039170400Z",
     "start_time": "2024-01-14T22:46:13.017655500Z"
    }
   },
   "id": "e8228ee95480981e"
  }
 ],
 "metadata": {
  "kernelspec": {
   "display_name": "Python 3",
   "language": "python",
   "name": "python3"
  },
  "language_info": {
   "codemirror_mode": {
    "name": "ipython",
    "version": 2
   },
   "file_extension": ".py",
   "mimetype": "text/x-python",
   "name": "python",
   "nbconvert_exporter": "python",
   "pygments_lexer": "ipython2",
   "version": "2.7.6"
  }
 },
 "nbformat": 4,
 "nbformat_minor": 5
}
