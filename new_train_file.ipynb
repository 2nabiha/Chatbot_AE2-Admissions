{
 "cells": [
  {
   "cell_type": "markdown",
   "source": [
    "# TRAINING A CHATBOT INTENT CLASSIFIER\n"
   ],
   "metadata": {
    "collapsed": false
   },
   "id": "99094a427d54c713"
  },
  {
   "cell_type": "markdown",
   "source": [
    "## Importing the libraries"
   ],
   "metadata": {
    "collapsed": false
   },
   "id": "134da7d190ed59c7"
  },
  {
   "cell_type": "code",
   "execution_count": 1,
   "id": "initial_id",
   "metadata": {
    "collapsed": true,
    "ExecuteTime": {
     "end_time": "2024-01-05T01:33:38.975787900Z",
     "start_time": "2024-01-05T01:33:37.908229700Z"
    }
   },
   "outputs": [],
   "source": [
    "import nltk\n",
    "import numpy as np\n",
    "import random\n",
    "\n",
    "from nltk.stem import WordNetLemmatizer\n",
    "from nltk.tokenize import word_tokenize\n",
    "from nltk.corpus import stopwords"
   ]
  },
  {
   "cell_type": "markdown",
   "source": [],
   "metadata": {
    "collapsed": false
   },
   "id": "e57caff36d793732"
  },
  {
   "cell_type": "code",
   "execution_count": 2,
   "outputs": [
    {
     "name": "stderr",
     "output_type": "stream",
     "text": [
      "[nltk_data] Downloading package wordnet to\n",
      "[nltk_data]     C:\\Users\\dagbo_b40tnyc\\AppData\\Roaming\\nltk_data...\n",
      "[nltk_data]   Package wordnet is already up-to-date!\n",
      "[nltk_data] Downloading package stopwords to\n",
      "[nltk_data]     C:\\Users\\dagbo_b40tnyc\\AppData\\Roaming\\nltk_data...\n",
      "[nltk_data]   Package stopwords is already up-to-date!\n",
      "[nltk_data] Downloading package punkt to\n",
      "[nltk_data]     C:\\Users\\dagbo_b40tnyc\\AppData\\Roaming\\nltk_data...\n",
      "[nltk_data]   Package punkt is already up-to-date!\n"
     ]
    },
    {
     "data": {
      "text/plain": "True"
     },
     "execution_count": 2,
     "metadata": {},
     "output_type": "execute_result"
    }
   ],
   "source": [
    "# download the wordnet and stopwords corpus\n",
    "nltk.download('wordnet') # wordnet is a lexical database for the English language\n",
    "nltk.download('stopwords') # stopwords means words like 'the', 'a', 'an', 'is', 'are', etc.\n",
    "nltk.download('punkt') # punkt means punctuations"
   ],
   "metadata": {
    "collapsed": false,
    "ExecuteTime": {
     "end_time": "2024-01-05T01:33:55.036556600Z",
     "start_time": "2024-01-05T01:33:54.910156200Z"
    }
   },
   "id": "b7d8a74774003d99"
  },
  {
   "cell_type": "markdown",
   "source": [
    "## Importing the json file"
   ],
   "metadata": {
    "collapsed": false
   },
   "id": "6a97228fcbc64bf8"
  },
  {
   "cell_type": "code",
   "execution_count": 3,
   "outputs": [],
   "source": [
    "# import intents file\n",
    "import json\n",
    "\n",
    "def load_intents():\n",
    "    with open('intents.json') as file:\n",
    "        intents = json.load(file)\n",
    "    return intents\n",
    "\n",
    "intents = load_intents()"
   ],
   "metadata": {
    "collapsed": false,
    "ExecuteTime": {
     "end_time": "2024-01-05T01:34:19.046434900Z",
     "start_time": "2024-01-05T01:34:19.020903800Z"
    }
   },
   "id": "fd60388bcd7d0514"
  },
  {
   "cell_type": "markdown",
   "source": [
    "## Preprocessing the data"
   ],
   "metadata": {
    "collapsed": false
   },
   "id": "aa1e1a71f5a3e8f4"
  },
  {
   "cell_type": "code",
   "execution_count": 4,
   "outputs": [],
   "source": [
    "# initialize lemmatizer to get stem of words\n",
    "lemmatizer = WordNetLemmatizer() # lemma is the root form of the word and it is very accurate than stemming\n",
    "\n",
    "\n",
    "# loop through each sentence in the intent's patterns\n",
    "def preprocess_intents(intents):\n",
    "    # create empty lists for documents, classes and words\n",
    "    documents = [] # documents means patterns\n",
    "    classes = [] # classes means tags\n",
    "    words = [] # words means vocabulary\n",
    "    ignore_letters = ['!', '?', ',', '.'] # ignore these letters\n",
    "    stop_words = set(stopwords.words('english')) # stop words are words like 'the', 'a', 'an', 'is', 'are', etc.\n",
    "\n",
    "\n",
    "    for intent in intents['intents']:\n",
    "        \n",
    "        # debug for keyerror @ 'patterns'\n",
    "        # print(intent['patterns'])\n",
    "        for pattern in intent['patterns']:\n",
    "            # tokenize each and every word in the sentence\n",
    "            word = nltk.word_tokenize(pattern) \n",
    "            # lemmatize each word and convert into lowercase\n",
    "            word = [lemmatizer.lemmatize(w.lower()) for w in word if w not in stop_words and w not in ignore_letters]\n",
    "            # add word to the word list\n",
    "            words.extend(word) # extend means add to the list and append means add to the end of the list\n",
    "            # add word(s) to documents\n",
    "            documents.append((word, intent['tag'])) #\n",
    "            # add tags to our classes list\n",
    "            if intent['tag'] not in classes: # if tag is not in classes list\n",
    "                classes.append(intent['tag']) # then add it to the classes list\n",
    "                \n",
    "    # sort words and remove duplicates\n",
    "    words = sorted(list(set(words)))\n",
    "    # sort classes\n",
    "    classes = sorted(list(set(classes)))\n",
    "    return documents, classes, words\n",
    "\n",
    "documents, classes, words = preprocess_intents(intents)\n"
   ],
   "metadata": {
    "collapsed": false,
    "ExecuteTime": {
     "end_time": "2024-01-05T01:34:37.637136800Z",
     "start_time": "2024-01-05T01:34:36.449988800Z"
    }
   },
   "id": "ec96ddaa4d2cd674"
  },
  {
   "cell_type": "markdown",
   "source": [
    "## save the preprocessed data"
   ],
   "metadata": {
    "collapsed": false
   },
   "id": "1361248a261d307b"
  },
  {
   "cell_type": "code",
   "execution_count": 5,
   "outputs": [],
   "source": [
    "import pickle\n",
    "\n",
    "#save to file using pickle to dump\n",
    "pickle.dump(words, open ('words.pkl', 'wb'))#wb means writing into binariries\n",
    "pickle.dump(classes, open ('classes.pkl', 'wb'))\n"
   ],
   "metadata": {
    "collapsed": false,
    "ExecuteTime": {
     "end_time": "2024-01-05T01:35:24.829681700Z",
     "start_time": "2024-01-05T01:35:24.807547900Z"
    }
   },
   "id": "3c99826bd5b37a6"
  },
  {
   "cell_type": "markdown",
   "source": [
    "## Create training and testing data"
   ],
   "metadata": {
    "collapsed": false
   },
   "id": "7df4fb694b944680"
  },
  {
   "cell_type": "code",
   "execution_count": 9,
   "outputs": [],
   "source": [
    "\n",
    "#represents the words as numerical values using bag_of_words\n",
    "train = []\n",
    "empty_output = [0] * len(classes)\n",
    "\n",
    "for doc in documents:\n",
    "    #create an empty list of bag of words\n",
    "    bag = []\n",
    "    word_patterns = doc[0]\n",
    "    word_patterns = [lemmatizer.lemmatize(word.lower()) for word in word_patterns]\n",
    "    for word in words:\n",
    "        bag.append(1) if word in word_patterns  else bag.append(0)\n",
    "    \n",
    "    output = list(empty_output)\n",
    "    output[classes.index(doc[1])] = 1\n",
    "    # Ensure the 'bag' has the same length as 'words'\n",
    "    assert len(bag) == len(words), f\"Bag length: {len(bag)}, expected: {len(words)}\"\n",
    "    \n",
    "    # Ensure the 'output' has the same length as 'classes'\n",
    "    assert len(output) == len(classes), f\"Output length: {len(output)}, expected: {len(classes)}\"\n",
    "    train.append([bag, output])"
   ],
   "metadata": {
    "collapsed": false,
    "ExecuteTime": {
     "end_time": "2024-01-05T01:40:41.047638200Z",
     "start_time": "2024-01-05T01:40:41.026992100Z"
    }
   },
   "id": "7452a7b953f89515"
  },
  {
   "cell_type": "code",
   "execution_count": 11,
   "outputs": [],
   "source": [
    "# shuffle the features and make numpy array\n",
    "random.shuffle(train)\n",
    "# Before converting to a NumPy array, ensure all elements in 'train' have the same length\n",
    "#assert all(len(item) == len(train[0]) for item in train), \"Not all lists in 'train' have the same length.\"\n",
    "train = np.array(train, dtype=object)\n",
    "\n",
    "# create train and test lists. X - patterns, Y - intents\n",
    "train_x = list(train[:,0])\n",
    "train_y = list(train[:,1])\n",
    "\n"
   ],
   "metadata": {
    "collapsed": false,
    "ExecuteTime": {
     "end_time": "2024-01-05T01:40:56.422630Z",
     "start_time": "2024-01-05T01:40:56.403297800Z"
    }
   },
   "id": "61519d1a972130b0"
  },
  {
   "cell_type": "markdown",
   "source": [
    "## Building the model using long short term memory (LSTM)"
   ],
   "metadata": {
    "collapsed": false
   },
   "id": "9466fc7cc7a044fa"
  },
  {
   "cell_type": "code",
   "execution_count": 13,
   "outputs": [],
   "source": [
    "# import tensorflow libraries\n",
    "import tensorflow as tf\n",
    "from tensorflow.keras.models import Sequential\n",
    "from tensorflow.keras.layers import Dense, Activation, Dropout\n",
    "from tensorflow.keras.optimizers import SGD\n",
    "from tensorflow.keras.optimizers.schedules import ExponentialDecay # learning rate decay over each update\n",
    "\n",
    "# Create a learning rate schedule\n",
    "lr_schedule = ExponentialDecay(\n",
    "    initial_learning_rate=0.01,\n",
    "    decay_steps=100000,\n",
    "    decay_rate=0.96,\n",
    "    staircase=True)\n",
    "\n",
    "# Build the model\n",
    "model = Sequential()\n",
    "model.add(Dense(128, input_shape=(len(train_x[0]),), activation='relu')) # input layer\n",
    "model.add(Dropout(0.5))\n",
    "model.add(Dense(64, activation='relu')) # hidden layer\n",
    "model.add(Dropout(0.5))\n",
    "model.add(Dense(len(train_y[0]), activation='softmax')) # output layer\n",
    "\n",
    "# Compile the model\n",
    "sgd = SGD(learning_rate=lr_schedule, momentum=0.9, nesterov=True) # stochastic gradient descent\n",
    "model.compile(loss='categorical_crossentropy', optimizer=sgd, metrics=['accuracy'])\n",
    "\n"
   ],
   "metadata": {
    "collapsed": false,
    "ExecuteTime": {
     "end_time": "2024-01-05T01:46:28.358027600Z",
     "start_time": "2024-01-05T01:46:28.256650800Z"
    }
   },
   "id": "f12e6e3ee3b2b1ee"
  },
  {
   "cell_type": "markdown",
   "source": [
    "## Training and saving the model"
   ],
   "metadata": {
    "collapsed": false
   },
   "id": "f38cafa22d677c7a"
  },
  {
   "cell_type": "code",
   "execution_count": 16,
   "outputs": [
    {
     "name": "stdout",
     "output_type": "stream",
     "text": [
      "Epoch 1/200\n",
      "53/53 [==============================] - 0s 2ms/step - loss: 0.1772 - accuracy: 0.9468\n",
      "Epoch 2/200\n",
      "53/53 [==============================] - 0s 2ms/step - loss: 0.3688 - accuracy: 0.8935\n",
      "Epoch 3/200\n",
      "53/53 [==============================] - 0s 2ms/step - loss: 0.2171 - accuracy: 0.9392\n",
      "Epoch 4/200\n",
      "53/53 [==============================] - 0s 2ms/step - loss: 0.2029 - accuracy: 0.9278\n",
      "Epoch 5/200\n",
      "53/53 [==============================] - 0s 2ms/step - loss: 0.1841 - accuracy: 0.9392\n",
      "Epoch 6/200\n",
      "53/53 [==============================] - 0s 2ms/step - loss: 0.2127 - accuracy: 0.9316\n",
      "Epoch 7/200\n",
      "53/53 [==============================] - 0s 2ms/step - loss: 0.2366 - accuracy: 0.9240\n",
      "Epoch 8/200\n",
      "53/53 [==============================] - 0s 2ms/step - loss: 0.2891 - accuracy: 0.9049\n",
      "Epoch 9/200\n",
      "53/53 [==============================] - 0s 2ms/step - loss: 0.2062 - accuracy: 0.9316\n",
      "Epoch 10/200\n",
      "53/53 [==============================] - 0s 2ms/step - loss: 0.2531 - accuracy: 0.9202\n",
      "Epoch 11/200\n",
      "53/53 [==============================] - 0s 2ms/step - loss: 0.2690 - accuracy: 0.9316\n",
      "Epoch 12/200\n",
      "53/53 [==============================] - 0s 2ms/step - loss: 0.2288 - accuracy: 0.9240\n",
      "Epoch 13/200\n",
      "53/53 [==============================] - 0s 2ms/step - loss: 0.3510 - accuracy: 0.8935\n",
      "Epoch 14/200\n",
      "53/53 [==============================] - 0s 2ms/step - loss: 0.2373 - accuracy: 0.9316\n",
      "Epoch 15/200\n",
      "53/53 [==============================] - 0s 2ms/step - loss: 0.1476 - accuracy: 0.9506\n",
      "Epoch 16/200\n",
      "53/53 [==============================] - 0s 2ms/step - loss: 0.1881 - accuracy: 0.9392\n",
      "Epoch 17/200\n",
      "53/53 [==============================] - 0s 2ms/step - loss: 0.2183 - accuracy: 0.9354\n",
      "Epoch 18/200\n",
      "53/53 [==============================] - 0s 2ms/step - loss: 0.2515 - accuracy: 0.9240\n",
      "Epoch 19/200\n",
      "53/53 [==============================] - 0s 2ms/step - loss: 0.2972 - accuracy: 0.8973\n",
      "Epoch 20/200\n",
      "53/53 [==============================] - 0s 2ms/step - loss: 0.1713 - accuracy: 0.9430\n",
      "Epoch 21/200\n",
      "53/53 [==============================] - 0s 2ms/step - loss: 0.1989 - accuracy: 0.9354\n",
      "Epoch 22/200\n",
      "53/53 [==============================] - 0s 2ms/step - loss: 0.1523 - accuracy: 0.9468\n",
      "Epoch 23/200\n",
      "53/53 [==============================] - 0s 2ms/step - loss: 0.1891 - accuracy: 0.9392\n",
      "Epoch 24/200\n",
      "53/53 [==============================] - 0s 2ms/step - loss: 0.2490 - accuracy: 0.9163\n",
      "Epoch 25/200\n",
      "53/53 [==============================] - 0s 2ms/step - loss: 0.1836 - accuracy: 0.9354\n",
      "Epoch 26/200\n",
      "53/53 [==============================] - 0s 2ms/step - loss: 0.3427 - accuracy: 0.9087\n",
      "Epoch 27/200\n",
      "53/53 [==============================] - 0s 2ms/step - loss: 0.2172 - accuracy: 0.9354\n",
      "Epoch 28/200\n",
      "53/53 [==============================] - 0s 2ms/step - loss: 0.2312 - accuracy: 0.9240\n",
      "Epoch 29/200\n",
      "53/53 [==============================] - 0s 2ms/step - loss: 0.2170 - accuracy: 0.9202\n",
      "Epoch 30/200\n",
      "53/53 [==============================] - 0s 2ms/step - loss: 0.1682 - accuracy: 0.9392\n",
      "Epoch 31/200\n",
      "53/53 [==============================] - 0s 2ms/step - loss: 0.2900 - accuracy: 0.9163\n",
      "Epoch 32/200\n",
      "53/53 [==============================] - 0s 2ms/step - loss: 0.2020 - accuracy: 0.9278\n",
      "Epoch 33/200\n",
      "53/53 [==============================] - 0s 2ms/step - loss: 0.1806 - accuracy: 0.9392\n",
      "Epoch 34/200\n",
      "53/53 [==============================] - 0s 2ms/step - loss: 0.2126 - accuracy: 0.9468\n",
      "Epoch 35/200\n",
      "53/53 [==============================] - 0s 2ms/step - loss: 0.1750 - accuracy: 0.9430\n",
      "Epoch 36/200\n",
      "53/53 [==============================] - 0s 2ms/step - loss: 0.1436 - accuracy: 0.9392\n",
      "Epoch 37/200\n",
      "53/53 [==============================] - 0s 2ms/step - loss: 0.2119 - accuracy: 0.9392\n",
      "Epoch 38/200\n",
      "53/53 [==============================] - 0s 2ms/step - loss: 0.1747 - accuracy: 0.9392\n",
      "Epoch 39/200\n",
      "53/53 [==============================] - 0s 2ms/step - loss: 0.1579 - accuracy: 0.9506\n",
      "Epoch 40/200\n",
      "53/53 [==============================] - 0s 2ms/step - loss: 0.1907 - accuracy: 0.9278\n",
      "Epoch 41/200\n",
      "53/53 [==============================] - 0s 2ms/step - loss: 0.2030 - accuracy: 0.9163\n",
      "Epoch 42/200\n",
      "53/53 [==============================] - 0s 2ms/step - loss: 0.1764 - accuracy: 0.9392\n",
      "Epoch 43/200\n",
      "53/53 [==============================] - 0s 2ms/step - loss: 0.3254 - accuracy: 0.9087\n",
      "Epoch 44/200\n",
      "53/53 [==============================] - 0s 2ms/step - loss: 0.3194 - accuracy: 0.9049\n",
      "Epoch 45/200\n",
      "53/53 [==============================] - 0s 2ms/step - loss: 0.3246 - accuracy: 0.9011\n",
      "Epoch 46/200\n",
      "53/53 [==============================] - 0s 2ms/step - loss: 0.1827 - accuracy: 0.9430\n",
      "Epoch 47/200\n",
      "53/53 [==============================] - 0s 2ms/step - loss: 0.2259 - accuracy: 0.9202\n",
      "Epoch 48/200\n",
      "53/53 [==============================] - 0s 2ms/step - loss: 0.2272 - accuracy: 0.9278\n",
      "Epoch 49/200\n",
      "53/53 [==============================] - 0s 2ms/step - loss: 0.2424 - accuracy: 0.9087\n",
      "Epoch 50/200\n",
      "53/53 [==============================] - 0s 2ms/step - loss: 0.1637 - accuracy: 0.9468\n",
      "Epoch 51/200\n",
      "53/53 [==============================] - 0s 2ms/step - loss: 0.2658 - accuracy: 0.9278\n",
      "Epoch 52/200\n",
      "53/53 [==============================] - 0s 2ms/step - loss: 0.3331 - accuracy: 0.9011\n",
      "Epoch 53/200\n",
      "53/53 [==============================] - 0s 2ms/step - loss: 0.2233 - accuracy: 0.9240\n",
      "Epoch 54/200\n",
      "53/53 [==============================] - 0s 2ms/step - loss: 0.2542 - accuracy: 0.9163\n",
      "Epoch 55/200\n",
      "53/53 [==============================] - 0s 2ms/step - loss: 0.1444 - accuracy: 0.9430\n",
      "Epoch 56/200\n",
      "53/53 [==============================] - 0s 2ms/step - loss: 0.2435 - accuracy: 0.9240\n",
      "Epoch 57/200\n",
      "53/53 [==============================] - 0s 2ms/step - loss: 0.2734 - accuracy: 0.9087\n",
      "Epoch 58/200\n",
      "53/53 [==============================] - 0s 2ms/step - loss: 0.1877 - accuracy: 0.9202\n",
      "Epoch 59/200\n",
      "53/53 [==============================] - 0s 2ms/step - loss: 0.2325 - accuracy: 0.9316\n",
      "Epoch 60/200\n",
      "53/53 [==============================] - 0s 2ms/step - loss: 0.1981 - accuracy: 0.9354\n",
      "Epoch 61/200\n",
      "53/53 [==============================] - 0s 2ms/step - loss: 0.2793 - accuracy: 0.9278\n",
      "Epoch 62/200\n",
      "53/53 [==============================] - 0s 2ms/step - loss: 0.2260 - accuracy: 0.9278\n",
      "Epoch 63/200\n",
      "53/53 [==============================] - 0s 2ms/step - loss: 0.2585 - accuracy: 0.9240\n",
      "Epoch 64/200\n",
      "53/53 [==============================] - 0s 2ms/step - loss: 0.2336 - accuracy: 0.9240\n",
      "Epoch 65/200\n",
      "53/53 [==============================] - 0s 2ms/step - loss: 0.1924 - accuracy: 0.9354\n",
      "Epoch 66/200\n",
      "53/53 [==============================] - 0s 2ms/step - loss: 0.2771 - accuracy: 0.9240\n",
      "Epoch 67/200\n",
      "53/53 [==============================] - 0s 2ms/step - loss: 0.2363 - accuracy: 0.9125\n",
      "Epoch 68/200\n",
      "53/53 [==============================] - 0s 2ms/step - loss: 0.2634 - accuracy: 0.9278\n",
      "Epoch 69/200\n",
      "53/53 [==============================] - 0s 2ms/step - loss: 0.2347 - accuracy: 0.9278\n",
      "Epoch 70/200\n",
      "53/53 [==============================] - 0s 2ms/step - loss: 0.2196 - accuracy: 0.9316\n",
      "Epoch 71/200\n",
      "53/53 [==============================] - 0s 2ms/step - loss: 0.3061 - accuracy: 0.9087\n",
      "Epoch 72/200\n",
      "53/53 [==============================] - 0s 2ms/step - loss: 0.2362 - accuracy: 0.9316\n",
      "Epoch 73/200\n",
      "53/53 [==============================] - 0s 2ms/step - loss: 0.2434 - accuracy: 0.9392\n",
      "Epoch 74/200\n",
      "53/53 [==============================] - 0s 2ms/step - loss: 0.2037 - accuracy: 0.9278\n",
      "Epoch 75/200\n",
      "53/53 [==============================] - 0s 2ms/step - loss: 0.2283 - accuracy: 0.9240\n",
      "Epoch 76/200\n",
      "53/53 [==============================] - 0s 2ms/step - loss: 0.3319 - accuracy: 0.9087\n",
      "Epoch 77/200\n",
      "53/53 [==============================] - 0s 2ms/step - loss: 0.2424 - accuracy: 0.9278\n",
      "Epoch 78/200\n",
      "53/53 [==============================] - 0s 2ms/step - loss: 0.2562 - accuracy: 0.9049\n",
      "Epoch 79/200\n",
      "53/53 [==============================] - 0s 2ms/step - loss: 0.1358 - accuracy: 0.9582\n",
      "Epoch 80/200\n",
      "53/53 [==============================] - 0s 2ms/step - loss: 0.3378 - accuracy: 0.9049\n",
      "Epoch 81/200\n",
      "53/53 [==============================] - 0s 2ms/step - loss: 0.2426 - accuracy: 0.9354\n",
      "Epoch 82/200\n",
      "53/53 [==============================] - 0s 2ms/step - loss: 0.2004 - accuracy: 0.9278\n",
      "Epoch 83/200\n",
      "53/53 [==============================] - 0s 2ms/step - loss: 0.1625 - accuracy: 0.9582\n",
      "Epoch 84/200\n",
      "53/53 [==============================] - 0s 2ms/step - loss: 0.2299 - accuracy: 0.9202\n",
      "Epoch 85/200\n",
      "53/53 [==============================] - 0s 2ms/step - loss: 0.1678 - accuracy: 0.9544\n",
      "Epoch 86/200\n",
      "53/53 [==============================] - 0s 2ms/step - loss: 0.2046 - accuracy: 0.9392\n",
      "Epoch 87/200\n",
      "53/53 [==============================] - 0s 2ms/step - loss: 0.2310 - accuracy: 0.9278\n",
      "Epoch 88/200\n",
      "53/53 [==============================] - 0s 2ms/step - loss: 0.2294 - accuracy: 0.9240\n",
      "Epoch 89/200\n",
      "53/53 [==============================] - 0s 2ms/step - loss: 0.1371 - accuracy: 0.9582\n",
      "Epoch 90/200\n",
      "53/53 [==============================] - 0s 2ms/step - loss: 0.1842 - accuracy: 0.9392\n",
      "Epoch 91/200\n",
      "53/53 [==============================] - 0s 2ms/step - loss: 0.2148 - accuracy: 0.9202\n",
      "Epoch 92/200\n",
      "53/53 [==============================] - 0s 2ms/step - loss: 0.1812 - accuracy: 0.9354\n",
      "Epoch 93/200\n",
      "53/53 [==============================] - 0s 2ms/step - loss: 0.2085 - accuracy: 0.9087\n",
      "Epoch 94/200\n",
      "53/53 [==============================] - 0s 2ms/step - loss: 0.1908 - accuracy: 0.9202\n",
      "Epoch 95/200\n",
      "53/53 [==============================] - 0s 2ms/step - loss: 0.2453 - accuracy: 0.9316\n",
      "Epoch 96/200\n",
      "53/53 [==============================] - 0s 2ms/step - loss: 0.1959 - accuracy: 0.9278\n",
      "Epoch 97/200\n",
      "53/53 [==============================] - 0s 2ms/step - loss: 0.2368 - accuracy: 0.9278\n",
      "Epoch 98/200\n",
      "53/53 [==============================] - 0s 2ms/step - loss: 0.1824 - accuracy: 0.9392\n",
      "Epoch 99/200\n",
      "53/53 [==============================] - 0s 2ms/step - loss: 0.2029 - accuracy: 0.9316\n",
      "Epoch 100/200\n",
      "53/53 [==============================] - 0s 2ms/step - loss: 0.3443 - accuracy: 0.8669\n",
      "Epoch 101/200\n",
      "53/53 [==============================] - 0s 2ms/step - loss: 0.2326 - accuracy: 0.9163\n",
      "Epoch 102/200\n",
      "53/53 [==============================] - 0s 2ms/step - loss: 0.2311 - accuracy: 0.9163\n",
      "Epoch 103/200\n",
      "53/53 [==============================] - 0s 2ms/step - loss: 0.2034 - accuracy: 0.9316\n",
      "Epoch 104/200\n",
      "53/53 [==============================] - 0s 2ms/step - loss: 0.2541 - accuracy: 0.9163\n",
      "Epoch 105/200\n",
      "53/53 [==============================] - 0s 2ms/step - loss: 0.2391 - accuracy: 0.9316\n",
      "Epoch 106/200\n",
      "53/53 [==============================] - 0s 2ms/step - loss: 0.2283 - accuracy: 0.9430\n",
      "Epoch 107/200\n",
      "53/53 [==============================] - 0s 2ms/step - loss: 0.2303 - accuracy: 0.9430\n",
      "Epoch 108/200\n",
      "53/53 [==============================] - 0s 2ms/step - loss: 0.2171 - accuracy: 0.9316\n",
      "Epoch 109/200\n",
      "53/53 [==============================] - 0s 2ms/step - loss: 0.1919 - accuracy: 0.9240\n",
      "Epoch 110/200\n",
      "53/53 [==============================] - 0s 2ms/step - loss: 0.3364 - accuracy: 0.8973\n",
      "Epoch 111/200\n",
      "53/53 [==============================] - 0s 2ms/step - loss: 0.2208 - accuracy: 0.9354\n",
      "Epoch 112/200\n",
      "53/53 [==============================] - 0s 2ms/step - loss: 0.3016 - accuracy: 0.9163\n",
      "Epoch 113/200\n",
      "53/53 [==============================] - 0s 2ms/step - loss: 0.1850 - accuracy: 0.9240\n",
      "Epoch 114/200\n",
      "53/53 [==============================] - 0s 2ms/step - loss: 0.1667 - accuracy: 0.9506\n",
      "Epoch 115/200\n",
      "53/53 [==============================] - 0s 2ms/step - loss: 0.1887 - accuracy: 0.9392\n",
      "Epoch 116/200\n",
      "53/53 [==============================] - 0s 2ms/step - loss: 0.2094 - accuracy: 0.9278\n",
      "Epoch 117/200\n",
      "53/53 [==============================] - 0s 2ms/step - loss: 0.3303 - accuracy: 0.9125\n",
      "Epoch 118/200\n",
      "53/53 [==============================] - 0s 2ms/step - loss: 0.3072 - accuracy: 0.9011\n",
      "Epoch 119/200\n",
      "53/53 [==============================] - 0s 2ms/step - loss: 0.1378 - accuracy: 0.9354\n",
      "Epoch 120/200\n",
      "53/53 [==============================] - 0s 2ms/step - loss: 0.2761 - accuracy: 0.9278\n",
      "Epoch 121/200\n",
      "53/53 [==============================] - 0s 2ms/step - loss: 0.3026 - accuracy: 0.9011\n",
      "Epoch 122/200\n",
      "53/53 [==============================] - 0s 2ms/step - loss: 0.2559 - accuracy: 0.9316\n",
      "Epoch 123/200\n",
      "53/53 [==============================] - 0s 2ms/step - loss: 0.2296 - accuracy: 0.9354\n",
      "Epoch 124/200\n",
      "53/53 [==============================] - 0s 2ms/step - loss: 0.2473 - accuracy: 0.9430\n",
      "Epoch 125/200\n",
      "53/53 [==============================] - 0s 2ms/step - loss: 0.1646 - accuracy: 0.9354\n",
      "Epoch 126/200\n",
      "53/53 [==============================] - 0s 2ms/step - loss: 0.2838 - accuracy: 0.9202\n",
      "Epoch 127/200\n",
      "53/53 [==============================] - 0s 2ms/step - loss: 0.2511 - accuracy: 0.9202\n",
      "Epoch 128/200\n",
      "53/53 [==============================] - 0s 2ms/step - loss: 0.2524 - accuracy: 0.9202\n",
      "Epoch 129/200\n",
      "53/53 [==============================] - 0s 2ms/step - loss: 0.2380 - accuracy: 0.9278\n",
      "Epoch 130/200\n",
      "53/53 [==============================] - 0s 2ms/step - loss: 0.2124 - accuracy: 0.9392\n",
      "Epoch 131/200\n",
      "53/53 [==============================] - 0s 2ms/step - loss: 0.2878 - accuracy: 0.9125\n",
      "Epoch 132/200\n",
      "53/53 [==============================] - 0s 2ms/step - loss: 0.1573 - accuracy: 0.9392\n",
      "Epoch 133/200\n",
      "53/53 [==============================] - 0s 2ms/step - loss: 0.1620 - accuracy: 0.9430\n",
      "Epoch 134/200\n",
      "53/53 [==============================] - 0s 2ms/step - loss: 0.2095 - accuracy: 0.9392\n",
      "Epoch 135/200\n",
      "53/53 [==============================] - 0s 2ms/step - loss: 0.1647 - accuracy: 0.9468\n",
      "Epoch 136/200\n",
      "53/53 [==============================] - 0s 2ms/step - loss: 0.2875 - accuracy: 0.9087\n",
      "Epoch 137/200\n",
      "53/53 [==============================] - 0s 2ms/step - loss: 0.2073 - accuracy: 0.9278\n",
      "Epoch 138/200\n",
      "53/53 [==============================] - 0s 2ms/step - loss: 0.1651 - accuracy: 0.9544\n",
      "Epoch 139/200\n",
      "53/53 [==============================] - 0s 2ms/step - loss: 0.1335 - accuracy: 0.9620\n",
      "Epoch 140/200\n",
      "53/53 [==============================] - 0s 2ms/step - loss: 0.1593 - accuracy: 0.9240\n",
      "Epoch 141/200\n",
      "53/53 [==============================] - 0s 2ms/step - loss: 0.2543 - accuracy: 0.9354\n",
      "Epoch 142/200\n",
      "53/53 [==============================] - 0s 2ms/step - loss: 0.1818 - accuracy: 0.9202\n",
      "Epoch 143/200\n",
      "53/53 [==============================] - 0s 2ms/step - loss: 0.2909 - accuracy: 0.9278\n",
      "Epoch 144/200\n",
      "53/53 [==============================] - 0s 2ms/step - loss: 0.2908 - accuracy: 0.9202\n",
      "Epoch 145/200\n",
      "53/53 [==============================] - 0s 2ms/step - loss: 0.1972 - accuracy: 0.9430\n",
      "Epoch 146/200\n",
      "53/53 [==============================] - 0s 2ms/step - loss: 0.2048 - accuracy: 0.9278\n",
      "Epoch 147/200\n",
      "53/53 [==============================] - 0s 2ms/step - loss: 0.2501 - accuracy: 0.9163\n",
      "Epoch 148/200\n",
      "53/53 [==============================] - 0s 2ms/step - loss: 0.2141 - accuracy: 0.9125\n",
      "Epoch 149/200\n",
      "53/53 [==============================] - 0s 2ms/step - loss: 0.2186 - accuracy: 0.9163\n",
      "Epoch 150/200\n",
      "53/53 [==============================] - 0s 2ms/step - loss: 0.2591 - accuracy: 0.9202\n",
      "Epoch 151/200\n",
      "53/53 [==============================] - 0s 2ms/step - loss: 0.2711 - accuracy: 0.9278\n",
      "Epoch 152/200\n",
      "53/53 [==============================] - 0s 2ms/step - loss: 0.2190 - accuracy: 0.9240\n",
      "Epoch 153/200\n",
      "53/53 [==============================] - 0s 2ms/step - loss: 0.1955 - accuracy: 0.9278\n",
      "Epoch 154/200\n",
      "53/53 [==============================] - 0s 2ms/step - loss: 0.1395 - accuracy: 0.9544\n",
      "Epoch 155/200\n",
      "53/53 [==============================] - 0s 2ms/step - loss: 0.2511 - accuracy: 0.9316\n",
      "Epoch 156/200\n",
      "53/53 [==============================] - 0s 2ms/step - loss: 0.1860 - accuracy: 0.9240\n",
      "Epoch 157/200\n",
      "53/53 [==============================] - 0s 2ms/step - loss: 0.2530 - accuracy: 0.9354\n",
      "Epoch 158/200\n",
      "53/53 [==============================] - 0s 2ms/step - loss: 0.2259 - accuracy: 0.9278\n",
      "Epoch 159/200\n",
      "53/53 [==============================] - 0s 2ms/step - loss: 0.1476 - accuracy: 0.9506\n",
      "Epoch 160/200\n",
      "53/53 [==============================] - 0s 2ms/step - loss: 0.1591 - accuracy: 0.9582\n",
      "Epoch 161/200\n",
      "53/53 [==============================] - 0s 2ms/step - loss: 0.3362 - accuracy: 0.8973\n",
      "Epoch 162/200\n",
      "53/53 [==============================] - 0s 2ms/step - loss: 0.3177 - accuracy: 0.8935\n",
      "Epoch 163/200\n",
      "53/53 [==============================] - 0s 2ms/step - loss: 0.2128 - accuracy: 0.9278\n",
      "Epoch 164/200\n",
      "53/53 [==============================] - 0s 2ms/step - loss: 0.2000 - accuracy: 0.9240\n",
      "Epoch 165/200\n",
      "53/53 [==============================] - 0s 2ms/step - loss: 0.2407 - accuracy: 0.9316\n",
      "Epoch 166/200\n",
      "53/53 [==============================] - 0s 2ms/step - loss: 0.1813 - accuracy: 0.9392\n",
      "Epoch 167/200\n",
      "53/53 [==============================] - 0s 2ms/step - loss: 0.2256 - accuracy: 0.9240\n",
      "Epoch 168/200\n",
      "53/53 [==============================] - 0s 2ms/step - loss: 0.1978 - accuracy: 0.9582\n",
      "Epoch 169/200\n",
      "53/53 [==============================] - 0s 2ms/step - loss: 0.2015 - accuracy: 0.9430\n",
      "Epoch 170/200\n",
      "53/53 [==============================] - 0s 2ms/step - loss: 0.2216 - accuracy: 0.9468\n",
      "Epoch 171/200\n",
      "53/53 [==============================] - 0s 2ms/step - loss: 0.2015 - accuracy: 0.9354\n",
      "Epoch 172/200\n",
      "53/53 [==============================] - 0s 2ms/step - loss: 0.2133 - accuracy: 0.9468\n",
      "Epoch 173/200\n",
      "53/53 [==============================] - 0s 2ms/step - loss: 0.2671 - accuracy: 0.9240\n",
      "Epoch 174/200\n",
      "53/53 [==============================] - 0s 2ms/step - loss: 0.2234 - accuracy: 0.9430\n",
      "Epoch 175/200\n",
      "53/53 [==============================] - 0s 2ms/step - loss: 0.3026 - accuracy: 0.9011\n",
      "Epoch 176/200\n",
      "53/53 [==============================] - 0s 2ms/step - loss: 0.3074 - accuracy: 0.9011\n",
      "Epoch 177/200\n",
      "53/53 [==============================] - 0s 2ms/step - loss: 0.2583 - accuracy: 0.9163\n",
      "Epoch 178/200\n",
      "53/53 [==============================] - 0s 2ms/step - loss: 0.2129 - accuracy: 0.9582\n",
      "Epoch 179/200\n",
      "53/53 [==============================] - 0s 2ms/step - loss: 0.1726 - accuracy: 0.9278\n",
      "Epoch 180/200\n",
      "53/53 [==============================] - 0s 2ms/step - loss: 0.2254 - accuracy: 0.9202\n",
      "Epoch 181/200\n",
      "53/53 [==============================] - 0s 2ms/step - loss: 0.1972 - accuracy: 0.9354\n",
      "Epoch 182/200\n",
      "53/53 [==============================] - 0s 2ms/step - loss: 0.2761 - accuracy: 0.9278\n",
      "Epoch 183/200\n",
      "53/53 [==============================] - 0s 2ms/step - loss: 0.2995 - accuracy: 0.9011\n",
      "Epoch 184/200\n",
      "53/53 [==============================] - 0s 2ms/step - loss: 0.3412 - accuracy: 0.8859\n",
      "Epoch 185/200\n",
      "53/53 [==============================] - 0s 2ms/step - loss: 0.1888 - accuracy: 0.9316\n",
      "Epoch 186/200\n",
      "53/53 [==============================] - 0s 2ms/step - loss: 0.1410 - accuracy: 0.9544\n",
      "Epoch 187/200\n",
      "53/53 [==============================] - 0s 2ms/step - loss: 0.1517 - accuracy: 0.9506\n",
      "Epoch 188/200\n",
      "53/53 [==============================] - 0s 2ms/step - loss: 0.2995 - accuracy: 0.9049\n",
      "Epoch 189/200\n",
      "53/53 [==============================] - 0s 2ms/step - loss: 0.2091 - accuracy: 0.9468\n",
      "Epoch 190/200\n",
      "53/53 [==============================] - 0s 2ms/step - loss: 0.1967 - accuracy: 0.9544\n",
      "Epoch 191/200\n",
      "53/53 [==============================] - 0s 2ms/step - loss: 0.2595 - accuracy: 0.9354\n",
      "Epoch 192/200\n",
      "53/53 [==============================] - 0s 2ms/step - loss: 0.2227 - accuracy: 0.9430\n",
      "Epoch 193/200\n",
      "53/53 [==============================] - 0s 2ms/step - loss: 0.2371 - accuracy: 0.9163\n",
      "Epoch 194/200\n",
      "53/53 [==============================] - 0s 2ms/step - loss: 0.2329 - accuracy: 0.9468\n",
      "Epoch 195/200\n",
      "53/53 [==============================] - 0s 2ms/step - loss: 0.3613 - accuracy: 0.9163\n",
      "Epoch 196/200\n",
      "53/53 [==============================] - 0s 2ms/step - loss: 0.1711 - accuracy: 0.9354\n",
      "Epoch 197/200\n",
      "53/53 [==============================] - 0s 2ms/step - loss: 0.2834 - accuracy: 0.9087\n",
      "Epoch 198/200\n",
      "53/53 [==============================] - 0s 2ms/step - loss: 0.3317 - accuracy: 0.9011\n",
      "Epoch 199/200\n",
      "53/53 [==============================] - 0s 2ms/step - loss: 0.2290 - accuracy: 0.9316\n",
      "Epoch 200/200\n",
      "53/53 [==============================] - 0s 2ms/step - loss: 0.2786 - accuracy: 0.9125\n",
      "9/9 [==============================] - 0s 2ms/step - loss: 0.0167 - accuracy: 0.9924\n",
      "Loss: 0.016731008887290955, accuracy: 0.9923954606056213\n"
     ]
    }
   ],
   "source": [
    "# Training and saving the model\n",
    "solentBot = model.fit(np.array(train_x), np.array(train_y), epochs=200, batch_size=5, verbose=1)\n",
    "loss, accuracy = model.evaluate(np.array(train_x), np.array(train_y))\n",
    "print(f\"Loss: {loss}, accuracy: {accuracy}\")\n",
    "#model.save('solentBot_model.h5', solentBot)"
   ],
   "metadata": {
    "collapsed": false,
    "ExecuteTime": {
     "end_time": "2024-01-05T01:48:51.714883100Z",
     "start_time": "2024-01-05T01:48:32.325645900Z"
    }
   },
   "id": "bb88c814a747a8c8"
  },
  {
   "cell_type": "code",
   "execution_count": 19,
   "outputs": [
    {
     "name": "stdout",
     "output_type": "stream",
     "text": [
      "model created, saved and trained\n"
     ]
    }
   ],
   "source": [
    "# save the model to disk\n",
    "model.save('solentBot_model.keras', solentBot)\n",
    "print(\"model created, saved and trained\")"
   ],
   "metadata": {
    "collapsed": false,
    "ExecuteTime": {
     "end_time": "2024-01-05T01:52:53.252519500Z",
     "start_time": "2024-01-05T01:52:53.203876800Z"
    }
   },
   "id": "b651e51c6321de7e"
  },
  {
   "cell_type": "code",
   "execution_count": null,
   "outputs": [],
   "source": [],
   "metadata": {
    "collapsed": false
   },
   "id": "2a6e18d4198f1304"
  }
 ],
 "metadata": {
  "kernelspec": {
   "display_name": "Python 3",
   "language": "python",
   "name": "python3"
  },
  "language_info": {
   "codemirror_mode": {
    "name": "ipython",
    "version": 2
   },
   "file_extension": ".py",
   "mimetype": "text/x-python",
   "name": "python",
   "nbconvert_exporter": "python",
   "pygments_lexer": "ipython2",
   "version": "2.7.6"
  }
 },
 "nbformat": 4,
 "nbformat_minor": 5
}
