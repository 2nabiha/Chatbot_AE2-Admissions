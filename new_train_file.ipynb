{
 "cells": [
  {
   "cell_type": "markdown",
   "source": [
    "# TRAINING A CHATBOT INTENT CLASSIFIER\n"
   ],
   "metadata": {
    "collapsed": false
   },
   "id": "99094a427d54c713"
  },
  {
   "cell_type": "markdown",
   "source": [
    "## Importing the libraries"
   ],
   "metadata": {
    "collapsed": false
   },
   "id": "134da7d190ed59c7"
  },
  {
   "cell_type": "code",
   "execution_count": 1,
   "id": "initial_id",
   "metadata": {
    "collapsed": true,
    "ExecuteTime": {
     "end_time": "2024-01-07T22:01:38.943487600Z",
     "start_time": "2024-01-07T22:01:37.701202500Z"
    }
   },
   "outputs": [],
   "source": [
    "import nltk\n",
    "import numpy as np\n",
    "import random\n",
    "\n",
    "from nltk.stem import WordNetLemmatizer\n",
    "from nltk.tokenize import word_tokenize\n",
    "from nltk.corpus import stopwords"
   ]
  },
  {
   "cell_type": "markdown",
   "source": [],
   "metadata": {
    "collapsed": false
   },
   "id": "e57caff36d793732"
  },
  {
   "cell_type": "code",
   "execution_count": 2,
   "outputs": [
    {
     "name": "stderr",
     "output_type": "stream",
     "text": [
      "[nltk_data] Downloading package wordnet to\n",
      "[nltk_data]     C:\\Users\\dagbo_b40tnyc\\AppData\\Roaming\\nltk_data...\n",
      "[nltk_data]   Package wordnet is already up-to-date!\n",
      "[nltk_data] Downloading package stopwords to\n",
      "[nltk_data]     C:\\Users\\dagbo_b40tnyc\\AppData\\Roaming\\nltk_data...\n",
      "[nltk_data]   Package stopwords is already up-to-date!\n",
      "[nltk_data] Downloading package punkt to\n",
      "[nltk_data]     C:\\Users\\dagbo_b40tnyc\\AppData\\Roaming\\nltk_data...\n",
      "[nltk_data]   Package punkt is already up-to-date!\n"
     ]
    },
    {
     "data": {
      "text/plain": "True"
     },
     "execution_count": 2,
     "metadata": {},
     "output_type": "execute_result"
    }
   ],
   "source": [
    "# download the wordnet and stopwords corpus\n",
    "nltk.download('wordnet') # wordnet is a lexical database for the English language\n",
    "nltk.download('stopwords') # stopwords means words like 'the', 'a', 'an', 'is', 'are', etc.\n",
    "nltk.download('punkt') # punkt means punctuations"
   ],
   "metadata": {
    "collapsed": false,
    "ExecuteTime": {
     "end_time": "2024-01-07T22:01:39.064254800Z",
     "start_time": "2024-01-07T22:01:38.944463300Z"
    }
   },
   "id": "b7d8a74774003d99"
  },
  {
   "cell_type": "markdown",
   "source": [
    "## Importing the json file"
   ],
   "metadata": {
    "collapsed": false
   },
   "id": "6a97228fcbc64bf8"
  },
  {
   "cell_type": "code",
   "execution_count": 3,
   "outputs": [],
   "source": [
    "# import intents file\n",
    "import json\n",
    "\n",
    "def load_intents():\n",
    "    with open('intents.json') as file:\n",
    "        intents = json.load(file)\n",
    "    return intents\n",
    "\n",
    "intents = load_intents()"
   ],
   "metadata": {
    "collapsed": false,
    "ExecuteTime": {
     "end_time": "2024-01-07T22:01:39.065470Z",
     "start_time": "2024-01-07T22:01:39.058311Z"
    }
   },
   "id": "fd60388bcd7d0514"
  },
  {
   "cell_type": "markdown",
   "source": [
    "## Preprocessing the data"
   ],
   "metadata": {
    "collapsed": false
   },
   "id": "aa1e1a71f5a3e8f4"
  },
  {
   "cell_type": "code",
   "execution_count": 4,
   "outputs": [],
   "source": [
    "# initialize lemmatizer to get stem of words\n",
    "lemmatizer = WordNetLemmatizer() # lemma is the root form of the word and it is very accurate than stemming\n",
    "\n",
    "\n",
    "# loop through each sentence in the intent's patterns\n",
    "def preprocess_intents(intents):\n",
    "    # create empty lists for documents, classes and words\n",
    "    documents = [] # documents means patterns\n",
    "    classes = [] # classes means tags\n",
    "    words = [] # words means vocabulary\n",
    "    ignore_letters = ['!', '?', ',', '.'] # ignore these letters\n",
    "    stop_words = set(stopwords.words('english')) # stop words are words like 'the', 'a', 'an', 'is', 'are', etc.\n",
    "\n",
    "\n",
    "    for intent in intents['intents']:\n",
    "        \n",
    "        # debug for keyerror @ 'patterns'\n",
    "        # print(intent['patterns'])\n",
    "        for pattern in intent['patterns']:\n",
    "            # tokenize each and every word in the sentence\n",
    "            word = nltk.word_tokenize(pattern) \n",
    "            # lemmatize each word and convert into lowercase\n",
    "            word = [lemmatizer.lemmatize(w.lower()) for w in word if w not in stop_words and w not in ignore_letters]\n",
    "            # add word to the word list\n",
    "            words.extend(word) # extend means add to the list and append means add to the end of the list\n",
    "            # add word(s) to documents\n",
    "            documents.append((word, intent['tag'])) #\n",
    "            # add tags to our classes list\n",
    "            if intent['tag'] not in classes: # if tag is not in classes list\n",
    "                classes.append(intent['tag']) # then add it to the classes list\n",
    "                \n",
    "    # sort words and remove duplicates\n",
    "    words = sorted(list(set(words)))\n",
    "    # sort classes\n",
    "    classes = sorted(list(set(classes)))\n",
    "    return documents, classes, words\n",
    "\n",
    "documents, classes, words = preprocess_intents(intents)\n"
   ],
   "metadata": {
    "collapsed": false,
    "ExecuteTime": {
     "end_time": "2024-01-07T22:01:40.254365200Z",
     "start_time": "2024-01-07T22:01:39.068928900Z"
    }
   },
   "id": "ec96ddaa4d2cd674"
  },
  {
   "cell_type": "markdown",
   "source": [
    "## save the preprocessed data"
   ],
   "metadata": {
    "collapsed": false
   },
   "id": "1361248a261d307b"
  },
  {
   "cell_type": "code",
   "execution_count": 5,
   "outputs": [],
   "source": [
    "import pickle\n",
    "\n",
    "#save to file using pickle to dump\n",
    "pickle.dump(words, open ('words.pkl', 'wb'))#wb means writing into binariries\n",
    "pickle.dump(classes, open ('classes.pkl', 'wb'))\n"
   ],
   "metadata": {
    "collapsed": false,
    "ExecuteTime": {
     "end_time": "2024-01-07T22:01:40.264741200Z",
     "start_time": "2024-01-07T22:01:40.255354Z"
    }
   },
   "id": "3c99826bd5b37a6"
  },
  {
   "cell_type": "markdown",
   "source": [
    "## Create training and testing data"
   ],
   "metadata": {
    "collapsed": false
   },
   "id": "7df4fb694b944680"
  },
  {
   "cell_type": "code",
   "execution_count": 6,
   "outputs": [],
   "source": [
    "\n",
    "#represents the words as numerical values using bag_of_words\n",
    "train = []\n",
    "empty_output = [0] * len(classes)\n",
    "\n",
    "for doc in documents:\n",
    "    #create an empty list of bag of words\n",
    "    bag = []\n",
    "    word_patterns = doc[0]\n",
    "    word_patterns = [lemmatizer.lemmatize(word.lower()) for word in word_patterns]\n",
    "    for word in words:\n",
    "        bag.append(1) if word in word_patterns  else bag.append(0)\n",
    "    \n",
    "    output = list(empty_output)\n",
    "    output[classes.index(doc[1])] = 1\n",
    "    # Ensure the 'bag' has the same length as 'words'\n",
    "    assert len(bag) == len(words), f\"Bag length: {len(bag)}, expected: {len(words)}\"\n",
    "    \n",
    "    # Ensure the 'output' has the same length as 'classes'\n",
    "    assert len(output) == len(classes), f\"Output length: {len(output)}, expected: {len(classes)}\"\n",
    "    train.append([bag, output])"
   ],
   "metadata": {
    "collapsed": false,
    "ExecuteTime": {
     "end_time": "2024-01-07T22:01:40.296017600Z",
     "start_time": "2024-01-07T22:01:40.268699800Z"
    }
   },
   "id": "7452a7b953f89515"
  },
  {
   "cell_type": "code",
   "execution_count": 7,
   "outputs": [],
   "source": [
    "# shuffle the features and make numpy array\n",
    "random.shuffle(train)\n",
    "# Before converting to a NumPy array, ensure all elements in 'train' have the same length\n",
    "#assert all(len(item) == len(train[0]) for item in train), \"Not all lists in 'train' have the same length.\"\n",
    "train = np.array(train, dtype=object)\n",
    "\n",
    "# create train and test lists. X - patterns, Y - intents\n",
    "train_x = list(train[:,0])\n",
    "train_y = list(train[:,1])\n",
    "\n"
   ],
   "metadata": {
    "collapsed": false,
    "ExecuteTime": {
     "end_time": "2024-01-07T22:01:40.313182300Z",
     "start_time": "2024-01-07T22:01:40.293914100Z"
    }
   },
   "id": "61519d1a972130b0"
  },
  {
   "cell_type": "markdown",
   "source": [
    "## Building the model using long short term memory (LSTM)"
   ],
   "metadata": {
    "collapsed": false
   },
   "id": "9466fc7cc7a044fa"
  },
  {
   "cell_type": "code",
   "execution_count": 8,
   "outputs": [
    {
     "name": "stdout",
     "output_type": "stream",
     "text": [
      "WARNING:tensorflow:From D:\\Users\\dagbo\\OneDrive\\ChatbotAE2\\.venv\\lib\\site-packages\\keras\\src\\losses.py:2976: The name tf.losses.sparse_softmax_cross_entropy is deprecated. Please use tf.compat.v1.losses.sparse_softmax_cross_entropy instead.\n",
      "WARNING:tensorflow:From D:\\Users\\dagbo\\OneDrive\\ChatbotAE2\\.venv\\lib\\site-packages\\keras\\src\\backend.py:873: The name tf.get_default_graph is deprecated. Please use tf.compat.v1.get_default_graph instead.\n"
     ]
    }
   ],
   "source": [
    "# import tensorflow libraries\n",
    "import tensorflow as tf\n",
    "from tensorflow.keras.models import Sequential\n",
    "from tensorflow.keras.layers import Dense, Activation, Dropout\n",
    "from tensorflow.keras.optimizers import SGD\n",
    "from tensorflow.keras.optimizers.schedules import ExponentialDecay # learning rate decay over each update\n",
    "\n",
    "# Create a learning rate schedule\n",
    "lr_schedule = ExponentialDecay(\n",
    "    initial_learning_rate=0.01,\n",
    "    decay_steps=100000,\n",
    "    decay_rate=0.96,\n",
    "    staircase=True)\n",
    "\n",
    "# Build the model\n",
    "model = Sequential()\n",
    "model.add(Dense(128, input_shape=(len(train_x[0]),), activation='relu')) # input layer\n",
    "model.add(Dropout(0.5))\n",
    "model.add(Dense(64, activation='relu')) # hidden layer\n",
    "model.add(Dropout(0.5))\n",
    "model.add(Dense(len(train_y[0]), activation='softmax')) # output layer\n",
    "\n",
    "# Compile the model\n",
    "sgd = SGD(learning_rate=lr_schedule, momentum=0.9, nesterov=True) # stochastic gradient descent\n",
    "model.compile(loss='categorical_crossentropy', optimizer=sgd, metrics=['accuracy'])\n",
    "\n"
   ],
   "metadata": {
    "collapsed": false,
    "ExecuteTime": {
     "end_time": "2024-01-07T22:01:47.764639Z",
     "start_time": "2024-01-07T22:01:40.307822100Z"
    }
   },
   "id": "f12e6e3ee3b2b1ee"
  },
  {
   "cell_type": "markdown",
   "source": [
    "## Training and saving the model"
   ],
   "metadata": {
    "collapsed": false
   },
   "id": "f38cafa22d677c7a"
  },
  {
   "cell_type": "code",
   "execution_count": 9,
   "outputs": [
    {
     "name": "stdout",
     "output_type": "stream",
     "text": [
      "Epoch 1/200\n",
      "WARNING:tensorflow:From D:\\Users\\dagbo\\OneDrive\\ChatbotAE2\\.venv\\lib\\site-packages\\keras\\src\\utils\\tf_utils.py:492: The name tf.ragged.RaggedTensorValue is deprecated. Please use tf.compat.v1.ragged.RaggedTensorValue instead.\n",
      "WARNING:tensorflow:From D:\\Users\\dagbo\\OneDrive\\ChatbotAE2\\.venv\\lib\\site-packages\\keras\\src\\engine\\base_layer_utils.py:384: The name tf.executing_eagerly_outside_functions is deprecated. Please use tf.compat.v1.executing_eagerly_outside_functions instead.\n",
      "56/56 [==============================] - 1s 3ms/step - loss: 4.3806 - accuracy: 0.0107\n",
      "Epoch 2/200\n",
      "56/56 [==============================] - 0s 2ms/step - loss: 4.3358 - accuracy: 0.0179\n",
      "Epoch 3/200\n",
      "56/56 [==============================] - 0s 2ms/step - loss: 4.3128 - accuracy: 0.0357\n",
      "Epoch 4/200\n",
      "56/56 [==============================] - 0s 2ms/step - loss: 4.2683 - accuracy: 0.0643\n",
      "Epoch 5/200\n",
      "56/56 [==============================] - 0s 2ms/step - loss: 4.2353 - accuracy: 0.0536\n",
      "Epoch 6/200\n",
      "56/56 [==============================] - 0s 2ms/step - loss: 4.2109 - accuracy: 0.0571\n",
      "Epoch 7/200\n",
      "56/56 [==============================] - 0s 2ms/step - loss: 4.1237 - accuracy: 0.0679\n",
      "Epoch 8/200\n",
      "56/56 [==============================] - 0s 2ms/step - loss: 4.0711 - accuracy: 0.0714\n",
      "Epoch 9/200\n",
      "56/56 [==============================] - 0s 2ms/step - loss: 3.9825 - accuracy: 0.0929\n",
      "Epoch 10/200\n",
      "56/56 [==============================] - 0s 2ms/step - loss: 3.8401 - accuracy: 0.1036\n",
      "Epoch 11/200\n",
      "56/56 [==============================] - 0s 2ms/step - loss: 3.8139 - accuracy: 0.1107\n",
      "Epoch 12/200\n",
      "56/56 [==============================] - 0s 2ms/step - loss: 3.6099 - accuracy: 0.1393\n",
      "Epoch 13/200\n",
      "56/56 [==============================] - 0s 2ms/step - loss: 3.4912 - accuracy: 0.1429\n",
      "Epoch 14/200\n",
      "56/56 [==============================] - 0s 2ms/step - loss: 3.3526 - accuracy: 0.2000\n",
      "Epoch 15/200\n",
      "56/56 [==============================] - 0s 2ms/step - loss: 3.2242 - accuracy: 0.1964\n",
      "Epoch 16/200\n",
      "56/56 [==============================] - 0s 3ms/step - loss: 3.0538 - accuracy: 0.2036\n",
      "Epoch 17/200\n",
      "56/56 [==============================] - 0s 3ms/step - loss: 3.0291 - accuracy: 0.2464\n",
      "Epoch 18/200\n",
      "56/56 [==============================] - 0s 4ms/step - loss: 2.9239 - accuracy: 0.2857\n",
      "Epoch 19/200\n",
      "56/56 [==============================] - 0s 3ms/step - loss: 2.7707 - accuracy: 0.2500\n",
      "Epoch 20/200\n",
      "56/56 [==============================] - 0s 2ms/step - loss: 2.5541 - accuracy: 0.3393\n",
      "Epoch 21/200\n",
      "56/56 [==============================] - 0s 2ms/step - loss: 2.3989 - accuracy: 0.3607\n",
      "Epoch 22/200\n",
      "56/56 [==============================] - 0s 2ms/step - loss: 2.5022 - accuracy: 0.3536\n",
      "Epoch 23/200\n",
      "56/56 [==============================] - 0s 2ms/step - loss: 2.3025 - accuracy: 0.3714\n",
      "Epoch 24/200\n",
      "56/56 [==============================] - 0s 2ms/step - loss: 2.2394 - accuracy: 0.3964\n",
      "Epoch 25/200\n",
      "56/56 [==============================] - 0s 2ms/step - loss: 2.1192 - accuracy: 0.4143\n",
      "Epoch 26/200\n",
      "56/56 [==============================] - 0s 2ms/step - loss: 2.1016 - accuracy: 0.4179\n",
      "Epoch 27/200\n",
      "56/56 [==============================] - 0s 2ms/step - loss: 2.0989 - accuracy: 0.4179\n",
      "Epoch 28/200\n",
      "56/56 [==============================] - 0s 2ms/step - loss: 1.8970 - accuracy: 0.5036\n",
      "Epoch 29/200\n",
      "56/56 [==============================] - 0s 2ms/step - loss: 1.7653 - accuracy: 0.4821\n",
      "Epoch 30/200\n",
      "56/56 [==============================] - 0s 2ms/step - loss: 1.7552 - accuracy: 0.4857\n",
      "Epoch 31/200\n",
      "56/56 [==============================] - 0s 3ms/step - loss: 1.8188 - accuracy: 0.4750\n",
      "Epoch 32/200\n",
      "56/56 [==============================] - 0s 3ms/step - loss: 1.6818 - accuracy: 0.5143\n",
      "Epoch 33/200\n",
      "56/56 [==============================] - 0s 3ms/step - loss: 1.6532 - accuracy: 0.5536\n",
      "Epoch 34/200\n",
      "56/56 [==============================] - 0s 2ms/step - loss: 1.6300 - accuracy: 0.5286\n",
      "Epoch 35/200\n",
      "56/56 [==============================] - 0s 2ms/step - loss: 1.4943 - accuracy: 0.5607\n",
      "Epoch 36/200\n",
      "56/56 [==============================] - 0s 2ms/step - loss: 1.4901 - accuracy: 0.5429\n",
      "Epoch 37/200\n",
      "56/56 [==============================] - 0s 2ms/step - loss: 1.4828 - accuracy: 0.5143\n",
      "Epoch 38/200\n",
      "56/56 [==============================] - 0s 2ms/step - loss: 1.3267 - accuracy: 0.6107\n",
      "Epoch 39/200\n",
      "56/56 [==============================] - 0s 2ms/step - loss: 1.3752 - accuracy: 0.5714\n",
      "Epoch 40/200\n",
      "56/56 [==============================] - 0s 2ms/step - loss: 1.3021 - accuracy: 0.6000\n",
      "Epoch 41/200\n",
      "56/56 [==============================] - 0s 2ms/step - loss: 1.3515 - accuracy: 0.5893\n",
      "Epoch 42/200\n",
      "56/56 [==============================] - 0s 2ms/step - loss: 1.1144 - accuracy: 0.6500\n",
      "Epoch 43/200\n",
      "56/56 [==============================] - 0s 2ms/step - loss: 1.2019 - accuracy: 0.6286\n",
      "Epoch 44/200\n",
      "56/56 [==============================] - 0s 2ms/step - loss: 1.2380 - accuracy: 0.6107\n",
      "Epoch 45/200\n",
      "56/56 [==============================] - 0s 2ms/step - loss: 1.2581 - accuracy: 0.5821\n",
      "Epoch 46/200\n",
      "56/56 [==============================] - 0s 2ms/step - loss: 1.1571 - accuracy: 0.6464\n",
      "Epoch 47/200\n",
      "56/56 [==============================] - 0s 2ms/step - loss: 1.0788 - accuracy: 0.6786\n",
      "Epoch 48/200\n",
      "56/56 [==============================] - 0s 2ms/step - loss: 1.1859 - accuracy: 0.6393\n",
      "Epoch 49/200\n",
      "56/56 [==============================] - 0s 2ms/step - loss: 1.1016 - accuracy: 0.6857\n",
      "Epoch 50/200\n",
      "56/56 [==============================] - 0s 2ms/step - loss: 1.1731 - accuracy: 0.6286\n",
      "Epoch 51/200\n",
      "56/56 [==============================] - 0s 2ms/step - loss: 1.0114 - accuracy: 0.6857\n",
      "Epoch 52/200\n",
      "56/56 [==============================] - 0s 2ms/step - loss: 1.0760 - accuracy: 0.6643\n",
      "Epoch 53/200\n",
      "56/56 [==============================] - 0s 2ms/step - loss: 1.0795 - accuracy: 0.6821\n",
      "Epoch 54/200\n",
      "56/56 [==============================] - 0s 2ms/step - loss: 1.0583 - accuracy: 0.6821\n",
      "Epoch 55/200\n",
      "56/56 [==============================] - 0s 4ms/step - loss: 0.9119 - accuracy: 0.6893\n",
      "Epoch 56/200\n",
      "56/56 [==============================] - 0s 4ms/step - loss: 1.0274 - accuracy: 0.6643\n",
      "Epoch 57/200\n",
      "56/56 [==============================] - 0s 2ms/step - loss: 0.9193 - accuracy: 0.7036\n",
      "Epoch 58/200\n",
      "56/56 [==============================] - 0s 2ms/step - loss: 0.9674 - accuracy: 0.6964\n",
      "Epoch 59/200\n",
      "56/56 [==============================] - 0s 2ms/step - loss: 0.9926 - accuracy: 0.6821\n",
      "Epoch 60/200\n",
      "56/56 [==============================] - 0s 2ms/step - loss: 1.0342 - accuracy: 0.6821\n",
      "Epoch 61/200\n",
      "56/56 [==============================] - 0s 2ms/step - loss: 0.9182 - accuracy: 0.6857\n",
      "Epoch 62/200\n",
      "56/56 [==============================] - 0s 3ms/step - loss: 0.9533 - accuracy: 0.6857\n",
      "Epoch 63/200\n",
      "56/56 [==============================] - 0s 5ms/step - loss: 0.8408 - accuracy: 0.7286\n",
      "Epoch 64/200\n",
      "56/56 [==============================] - 0s 2ms/step - loss: 0.9325 - accuracy: 0.6964\n",
      "Epoch 65/200\n",
      "56/56 [==============================] - 0s 2ms/step - loss: 0.8873 - accuracy: 0.7286\n",
      "Epoch 66/200\n",
      "56/56 [==============================] - 0s 2ms/step - loss: 0.8458 - accuracy: 0.7429\n",
      "Epoch 67/200\n",
      "56/56 [==============================] - 0s 2ms/step - loss: 0.9405 - accuracy: 0.7143\n",
      "Epoch 68/200\n",
      "56/56 [==============================] - 0s 2ms/step - loss: 0.8345 - accuracy: 0.7214\n",
      "Epoch 69/200\n",
      "56/56 [==============================] - 0s 2ms/step - loss: 0.8041 - accuracy: 0.7321\n",
      "Epoch 70/200\n",
      "56/56 [==============================] - 0s 2ms/step - loss: 0.8756 - accuracy: 0.7107\n",
      "Epoch 71/200\n",
      "56/56 [==============================] - 0s 2ms/step - loss: 0.8474 - accuracy: 0.7071\n",
      "Epoch 72/200\n",
      "56/56 [==============================] - 0s 2ms/step - loss: 0.7497 - accuracy: 0.7536\n",
      "Epoch 73/200\n",
      "56/56 [==============================] - 0s 2ms/step - loss: 0.8494 - accuracy: 0.7143\n",
      "Epoch 74/200\n",
      "56/56 [==============================] - 0s 2ms/step - loss: 0.8273 - accuracy: 0.7143\n",
      "Epoch 75/200\n",
      "56/56 [==============================] - 0s 2ms/step - loss: 0.8187 - accuracy: 0.7357\n",
      "Epoch 76/200\n",
      "56/56 [==============================] - 0s 2ms/step - loss: 0.9231 - accuracy: 0.6929\n",
      "Epoch 77/200\n",
      "56/56 [==============================] - 0s 2ms/step - loss: 0.8082 - accuracy: 0.7286\n",
      "Epoch 78/200\n",
      "56/56 [==============================] - 0s 2ms/step - loss: 0.8131 - accuracy: 0.7214\n",
      "Epoch 79/200\n",
      "56/56 [==============================] - 0s 2ms/step - loss: 0.7409 - accuracy: 0.7321\n",
      "Epoch 80/200\n",
      "56/56 [==============================] - 0s 2ms/step - loss: 0.7679 - accuracy: 0.7643\n",
      "Epoch 81/200\n",
      "56/56 [==============================] - 0s 3ms/step - loss: 0.7403 - accuracy: 0.7357\n",
      "Epoch 82/200\n",
      "56/56 [==============================] - 0s 2ms/step - loss: 0.8031 - accuracy: 0.7321\n",
      "Epoch 83/200\n",
      "56/56 [==============================] - 0s 2ms/step - loss: 0.8059 - accuracy: 0.7143\n",
      "Epoch 84/200\n",
      "56/56 [==============================] - 0s 3ms/step - loss: 0.7739 - accuracy: 0.7393\n",
      "Epoch 85/200\n",
      "56/56 [==============================] - 0s 2ms/step - loss: 0.7572 - accuracy: 0.7357\n",
      "Epoch 86/200\n",
      "56/56 [==============================] - 0s 3ms/step - loss: 0.6483 - accuracy: 0.7679\n",
      "Epoch 87/200\n",
      "56/56 [==============================] - 0s 2ms/step - loss: 0.6940 - accuracy: 0.7429\n",
      "Epoch 88/200\n",
      "56/56 [==============================] - 0s 2ms/step - loss: 0.7475 - accuracy: 0.7321\n",
      "Epoch 89/200\n",
      "56/56 [==============================] - 0s 2ms/step - loss: 0.6533 - accuracy: 0.7750\n",
      "Epoch 90/200\n",
      "56/56 [==============================] - 0s 2ms/step - loss: 0.7373 - accuracy: 0.7679\n",
      "Epoch 91/200\n",
      "56/56 [==============================] - 0s 2ms/step - loss: 0.7050 - accuracy: 0.7536\n",
      "Epoch 92/200\n",
      "56/56 [==============================] - 0s 2ms/step - loss: 0.7276 - accuracy: 0.7643\n",
      "Epoch 93/200\n",
      "56/56 [==============================] - 0s 2ms/step - loss: 0.6719 - accuracy: 0.7750\n",
      "Epoch 94/200\n",
      "56/56 [==============================] - 0s 2ms/step - loss: 0.7534 - accuracy: 0.7500\n",
      "Epoch 95/200\n",
      "56/56 [==============================] - 0s 2ms/step - loss: 0.6216 - accuracy: 0.7750\n",
      "Epoch 96/200\n",
      "56/56 [==============================] - 0s 2ms/step - loss: 0.8118 - accuracy: 0.7179\n",
      "Epoch 97/200\n",
      "56/56 [==============================] - 0s 2ms/step - loss: 0.7364 - accuracy: 0.7286\n",
      "Epoch 98/200\n",
      "56/56 [==============================] - 0s 2ms/step - loss: 0.6114 - accuracy: 0.7786\n",
      "Epoch 99/200\n",
      "56/56 [==============================] - 0s 2ms/step - loss: 0.7162 - accuracy: 0.7393\n",
      "Epoch 100/200\n",
      "56/56 [==============================] - 0s 2ms/step - loss: 0.7141 - accuracy: 0.7393\n",
      "Epoch 101/200\n",
      "56/56 [==============================] - 0s 2ms/step - loss: 0.6531 - accuracy: 0.7750\n",
      "Epoch 102/200\n",
      "56/56 [==============================] - 0s 2ms/step - loss: 0.6461 - accuracy: 0.7750\n",
      "Epoch 103/200\n",
      "56/56 [==============================] - 0s 2ms/step - loss: 0.6784 - accuracy: 0.7429\n",
      "Epoch 104/200\n",
      "56/56 [==============================] - 0s 2ms/step - loss: 0.6572 - accuracy: 0.7964\n",
      "Epoch 105/200\n",
      "56/56 [==============================] - 0s 2ms/step - loss: 0.6668 - accuracy: 0.7643\n",
      "Epoch 106/200\n",
      "56/56 [==============================] - 0s 2ms/step - loss: 0.5925 - accuracy: 0.7821\n",
      "Epoch 107/200\n",
      "56/56 [==============================] - 0s 2ms/step - loss: 0.7453 - accuracy: 0.7500\n",
      "Epoch 108/200\n",
      "56/56 [==============================] - 0s 2ms/step - loss: 0.7656 - accuracy: 0.7179\n",
      "Epoch 109/200\n",
      "56/56 [==============================] - 0s 2ms/step - loss: 0.6106 - accuracy: 0.7964\n",
      "Epoch 110/200\n",
      "56/56 [==============================] - 0s 2ms/step - loss: 0.6058 - accuracy: 0.7821\n",
      "Epoch 111/200\n",
      "56/56 [==============================] - 0s 2ms/step - loss: 0.5955 - accuracy: 0.7893\n",
      "Epoch 112/200\n",
      "56/56 [==============================] - 0s 2ms/step - loss: 0.7223 - accuracy: 0.7893\n",
      "Epoch 113/200\n",
      "56/56 [==============================] - 0s 2ms/step - loss: 0.5476 - accuracy: 0.7929\n",
      "Epoch 114/200\n",
      "56/56 [==============================] - 0s 2ms/step - loss: 0.6405 - accuracy: 0.7750\n",
      "Epoch 115/200\n",
      "56/56 [==============================] - 0s 2ms/step - loss: 0.7405 - accuracy: 0.7357\n",
      "Epoch 116/200\n",
      "56/56 [==============================] - 0s 2ms/step - loss: 0.5797 - accuracy: 0.7964\n",
      "Epoch 117/200\n",
      "56/56 [==============================] - 0s 2ms/step - loss: 0.4892 - accuracy: 0.8286\n",
      "Epoch 118/200\n",
      "56/56 [==============================] - 0s 2ms/step - loss: 0.5277 - accuracy: 0.8143\n",
      "Epoch 119/200\n",
      "56/56 [==============================] - 0s 2ms/step - loss: 0.6179 - accuracy: 0.7714\n",
      "Epoch 120/200\n",
      "56/56 [==============================] - 0s 2ms/step - loss: 0.6609 - accuracy: 0.7679\n",
      "Epoch 121/200\n",
      "56/56 [==============================] - 0s 2ms/step - loss: 0.5569 - accuracy: 0.7786\n",
      "Epoch 122/200\n",
      "56/56 [==============================] - 0s 2ms/step - loss: 0.6655 - accuracy: 0.7464\n",
      "Epoch 123/200\n",
      "56/56 [==============================] - 0s 2ms/step - loss: 0.6589 - accuracy: 0.7821\n",
      "Epoch 124/200\n",
      "56/56 [==============================] - 0s 2ms/step - loss: 0.5761 - accuracy: 0.8036\n",
      "Epoch 125/200\n",
      "56/56 [==============================] - 0s 2ms/step - loss: 0.6557 - accuracy: 0.7571\n",
      "Epoch 126/200\n",
      "56/56 [==============================] - 0s 2ms/step - loss: 0.6290 - accuracy: 0.7786\n",
      "Epoch 127/200\n",
      "56/56 [==============================] - 0s 2ms/step - loss: 0.6717 - accuracy: 0.7679\n",
      "Epoch 128/200\n",
      "56/56 [==============================] - 0s 2ms/step - loss: 0.5839 - accuracy: 0.7893\n",
      "Epoch 129/200\n",
      "56/56 [==============================] - 0s 2ms/step - loss: 0.5806 - accuracy: 0.7750\n",
      "Epoch 130/200\n",
      "56/56 [==============================] - 0s 2ms/step - loss: 0.7718 - accuracy: 0.7500\n",
      "Epoch 131/200\n",
      "56/56 [==============================] - 0s 2ms/step - loss: 0.6772 - accuracy: 0.7821\n",
      "Epoch 132/200\n",
      "56/56 [==============================] - 0s 2ms/step - loss: 0.6616 - accuracy: 0.7750\n",
      "Epoch 133/200\n",
      "56/56 [==============================] - 0s 2ms/step - loss: 0.6660 - accuracy: 0.7857\n",
      "Epoch 134/200\n",
      "56/56 [==============================] - 0s 2ms/step - loss: 0.6595 - accuracy: 0.7286\n",
      "Epoch 135/200\n",
      "56/56 [==============================] - 0s 2ms/step - loss: 0.6554 - accuracy: 0.7571\n",
      "Epoch 136/200\n",
      "56/56 [==============================] - 0s 2ms/step - loss: 0.5529 - accuracy: 0.7964\n",
      "Epoch 137/200\n",
      "56/56 [==============================] - 0s 2ms/step - loss: 0.5441 - accuracy: 0.8000\n",
      "Epoch 138/200\n",
      "56/56 [==============================] - 0s 2ms/step - loss: 0.5688 - accuracy: 0.7714\n",
      "Epoch 139/200\n",
      "56/56 [==============================] - 0s 2ms/step - loss: 0.5818 - accuracy: 0.7857\n",
      "Epoch 140/200\n",
      "56/56 [==============================] - 0s 2ms/step - loss: 0.5835 - accuracy: 0.7893\n",
      "Epoch 141/200\n",
      "56/56 [==============================] - 0s 2ms/step - loss: 0.5810 - accuracy: 0.7893\n",
      "Epoch 142/200\n",
      "56/56 [==============================] - 0s 2ms/step - loss: 0.5276 - accuracy: 0.8107\n",
      "Epoch 143/200\n",
      "56/56 [==============================] - 0s 2ms/step - loss: 0.6032 - accuracy: 0.7750\n",
      "Epoch 144/200\n",
      "56/56 [==============================] - 0s 2ms/step - loss: 0.6154 - accuracy: 0.7536\n",
      "Epoch 145/200\n",
      "56/56 [==============================] - 0s 2ms/step - loss: 0.6592 - accuracy: 0.7679\n",
      "Epoch 146/200\n",
      "56/56 [==============================] - 0s 2ms/step - loss: 0.5787 - accuracy: 0.7821\n",
      "Epoch 147/200\n",
      "56/56 [==============================] - 0s 2ms/step - loss: 0.5692 - accuracy: 0.7893\n",
      "Epoch 148/200\n",
      "56/56 [==============================] - 0s 2ms/step - loss: 0.5898 - accuracy: 0.8143\n",
      "Epoch 149/200\n",
      "56/56 [==============================] - 0s 2ms/step - loss: 0.4828 - accuracy: 0.8321\n",
      "Epoch 150/200\n",
      "56/56 [==============================] - 0s 2ms/step - loss: 0.5757 - accuracy: 0.8179\n",
      "Epoch 151/200\n",
      "56/56 [==============================] - 0s 2ms/step - loss: 0.5479 - accuracy: 0.7893\n",
      "Epoch 152/200\n",
      "56/56 [==============================] - 0s 2ms/step - loss: 0.5409 - accuracy: 0.7679\n",
      "Epoch 153/200\n",
      "56/56 [==============================] - 0s 2ms/step - loss: 0.5586 - accuracy: 0.8107\n",
      "Epoch 154/200\n",
      "56/56 [==============================] - 0s 2ms/step - loss: 0.5774 - accuracy: 0.7964\n",
      "Epoch 155/200\n",
      "56/56 [==============================] - 0s 2ms/step - loss: 0.7710 - accuracy: 0.7464\n",
      "Epoch 156/200\n",
      "56/56 [==============================] - 0s 2ms/step - loss: 0.5803 - accuracy: 0.8036\n",
      "Epoch 157/200\n",
      "56/56 [==============================] - 0s 2ms/step - loss: 0.4915 - accuracy: 0.8107\n",
      "Epoch 158/200\n",
      "56/56 [==============================] - 0s 2ms/step - loss: 0.4719 - accuracy: 0.8321\n",
      "Epoch 159/200\n",
      "56/56 [==============================] - 0s 2ms/step - loss: 0.5624 - accuracy: 0.7893\n",
      "Epoch 160/200\n",
      "56/56 [==============================] - 0s 2ms/step - loss: 0.5658 - accuracy: 0.7786\n",
      "Epoch 161/200\n",
      "56/56 [==============================] - 0s 2ms/step - loss: 0.6340 - accuracy: 0.7786\n",
      "Epoch 162/200\n",
      "56/56 [==============================] - 0s 2ms/step - loss: 0.5469 - accuracy: 0.7929\n",
      "Epoch 163/200\n",
      "56/56 [==============================] - 0s 2ms/step - loss: 0.6063 - accuracy: 0.7679\n",
      "Epoch 164/200\n",
      "56/56 [==============================] - 0s 2ms/step - loss: 0.5014 - accuracy: 0.8321\n",
      "Epoch 165/200\n",
      "56/56 [==============================] - 0s 2ms/step - loss: 0.5353 - accuracy: 0.7893\n",
      "Epoch 166/200\n",
      "56/56 [==============================] - 0s 2ms/step - loss: 0.5874 - accuracy: 0.7964\n",
      "Epoch 167/200\n",
      "56/56 [==============================] - 0s 2ms/step - loss: 0.5277 - accuracy: 0.8071\n",
      "Epoch 168/200\n",
      "56/56 [==============================] - 0s 2ms/step - loss: 0.4584 - accuracy: 0.8321\n",
      "Epoch 169/200\n",
      "56/56 [==============================] - 0s 2ms/step - loss: 0.5665 - accuracy: 0.8000\n",
      "Epoch 170/200\n",
      "56/56 [==============================] - 0s 2ms/step - loss: 0.5701 - accuracy: 0.8000\n",
      "Epoch 171/200\n",
      "56/56 [==============================] - 0s 2ms/step - loss: 0.6191 - accuracy: 0.7714\n",
      "Epoch 172/200\n",
      "56/56 [==============================] - 0s 2ms/step - loss: 0.5849 - accuracy: 0.8179\n",
      "Epoch 173/200\n",
      "56/56 [==============================] - 0s 2ms/step - loss: 0.5448 - accuracy: 0.8179\n",
      "Epoch 174/200\n",
      "56/56 [==============================] - 0s 2ms/step - loss: 0.6069 - accuracy: 0.7964\n",
      "Epoch 175/200\n",
      "56/56 [==============================] - 0s 2ms/step - loss: 0.4855 - accuracy: 0.8250\n",
      "Epoch 176/200\n",
      "56/56 [==============================] - 0s 2ms/step - loss: 0.4753 - accuracy: 0.8250\n",
      "Epoch 177/200\n",
      "56/56 [==============================] - 0s 2ms/step - loss: 0.4799 - accuracy: 0.8286\n",
      "Epoch 178/200\n",
      "56/56 [==============================] - 0s 2ms/step - loss: 0.5474 - accuracy: 0.8000\n",
      "Epoch 179/200\n",
      "56/56 [==============================] - 0s 2ms/step - loss: 0.5530 - accuracy: 0.8000\n",
      "Epoch 180/200\n",
      "56/56 [==============================] - 0s 2ms/step - loss: 0.6106 - accuracy: 0.7714\n",
      "Epoch 181/200\n",
      "56/56 [==============================] - 0s 2ms/step - loss: 0.5876 - accuracy: 0.7786\n",
      "Epoch 182/200\n",
      "56/56 [==============================] - 0s 2ms/step - loss: 0.5019 - accuracy: 0.8071\n",
      "Epoch 183/200\n",
      "56/56 [==============================] - 0s 2ms/step - loss: 0.5765 - accuracy: 0.8000\n",
      "Epoch 184/200\n",
      "56/56 [==============================] - 0s 2ms/step - loss: 0.4534 - accuracy: 0.8321\n",
      "Epoch 185/200\n",
      "56/56 [==============================] - 0s 2ms/step - loss: 0.6082 - accuracy: 0.7857\n",
      "Epoch 186/200\n",
      "56/56 [==============================] - 0s 2ms/step - loss: 0.5715 - accuracy: 0.7750\n",
      "Epoch 187/200\n",
      "56/56 [==============================] - 0s 2ms/step - loss: 0.5578 - accuracy: 0.7643\n",
      "Epoch 188/200\n",
      "56/56 [==============================] - 0s 2ms/step - loss: 0.4625 - accuracy: 0.8250\n",
      "Epoch 189/200\n",
      "56/56 [==============================] - 0s 2ms/step - loss: 0.5411 - accuracy: 0.8179\n",
      "Epoch 190/200\n",
      "56/56 [==============================] - 0s 2ms/step - loss: 0.4705 - accuracy: 0.8036\n",
      "Epoch 191/200\n",
      "56/56 [==============================] - 0s 2ms/step - loss: 0.4984 - accuracy: 0.8250\n",
      "Epoch 192/200\n",
      "56/56 [==============================] - 0s 2ms/step - loss: 0.4841 - accuracy: 0.8000\n",
      "Epoch 193/200\n",
      "56/56 [==============================] - 0s 2ms/step - loss: 0.4794 - accuracy: 0.8214\n",
      "Epoch 194/200\n",
      "56/56 [==============================] - 0s 2ms/step - loss: 0.4777 - accuracy: 0.8071\n",
      "Epoch 195/200\n",
      "56/56 [==============================] - 0s 2ms/step - loss: 0.5383 - accuracy: 0.8250\n",
      "Epoch 196/200\n",
      "56/56 [==============================] - 0s 2ms/step - loss: 0.5014 - accuracy: 0.7964\n",
      "Epoch 197/200\n",
      "56/56 [==============================] - 0s 2ms/step - loss: 0.5126 - accuracy: 0.8250\n",
      "Epoch 198/200\n",
      "56/56 [==============================] - 0s 2ms/step - loss: 0.4586 - accuracy: 0.8286\n",
      "Epoch 199/200\n",
      "56/56 [==============================] - 0s 2ms/step - loss: 0.4051 - accuracy: 0.8500\n",
      "Epoch 200/200\n",
      "56/56 [==============================] - 0s 2ms/step - loss: 0.6985 - accuracy: 0.7464\n",
      "9/9 [==============================] - 0s 2ms/step - loss: 0.1427 - accuracy: 0.9179\n",
      "Loss: 0.1426902413368225, accuracy: 0.9178571701049805\n"
     ]
    }
   ],
   "source": [
    "# Training and saving the model\n",
    "solentBot = model.fit(np.array(train_x), np.array(train_y), epochs=200, batch_size=5, verbose=1)\n",
    "loss, accuracy = model.evaluate(np.array(train_x), np.array(train_y))\n",
    "print(f\"Loss: {loss}, accuracy: {accuracy}\")\n",
    "#model.save('solentBot_model.h5', solentBot)"
   ],
   "metadata": {
    "collapsed": false,
    "ExecuteTime": {
     "end_time": "2024-01-07T22:02:13.172203800Z",
     "start_time": "2024-01-07T22:01:47.775281700Z"
    }
   },
   "id": "bb88c814a747a8c8"
  },
  {
   "cell_type": "code",
   "execution_count": 15,
   "outputs": [
    {
     "name": "stdout",
     "output_type": "stream",
     "text": [
      "model created, saved and trained\n"
     ]
    },
    {
     "name": "stderr",
     "output_type": "stream",
     "text": [
      "D:\\Users\\dagbo\\OneDrive\\ChatbotAE2\\.venv\\lib\\site-packages\\keras\\src\\engine\\training.py:3103: UserWarning: You are saving your model as an HDF5 file via `model.save()`. This file format is considered legacy. We recommend using instead the native Keras format, e.g. `model.save('my_model.keras')`.\n",
      "  saving_api.save_model(\n"
     ]
    }
   ],
   "source": [
    "# save the model to disk\n",
    "model.save('solentBot_model.h5', solentBot)\n",
    "print(\"model created, saved and trained\")"
   ],
   "metadata": {
    "collapsed": false,
    "ExecuteTime": {
     "end_time": "2024-01-07T22:48:51.506621900Z",
     "start_time": "2024-01-07T22:48:51.351715200Z"
    }
   },
   "id": "b651e51c6321de7e"
  },
  {
   "cell_type": "code",
   "execution_count": 11,
   "outputs": [],
   "source": [
    "# evaluate the model to check for confidence score of the predictions\n",
    "def bag_of_words(s, words):\n",
    "    bag = [0 for _ in range(len(words))]\n",
    "    \n",
    "    s_words = nltk.word_tokenize(s)\n",
    "    s_words = [lemmatizer.lemmatize(word.lower()) for word in s_words]\n",
    "    \n",
    "    for se in s_words:\n",
    "        for i, w in enumerate(words):\n",
    "            if w == se:\n",
    "                bag[i] = 1\n",
    "                \n",
    "    return np.array(bag)\n",
    "\n",
    "def predict_class(s, model):\n",
    "    bow = bag_of_words(s, words)\n",
    "    res = model.predict(np.array([bow]))[0]\n",
    "    ERROR_THRESHOLD = 0.25\n",
    "    results = [[i, r] for i, r in enumerate(res) if r > ERROR_THRESHOLD]\n",
    "    \n",
    "    # sort by strength of probability\n",
    "    results.sort(key=lambda x: x[1], reverse=True)\n",
    "    return_list = []\n",
    "    for r in results:\n",
    "        return_list.append({'intent': classes[r[0]], 'probability': str(r[1])})\n",
    "        \n",
    "    return return_list\n",
    "\n",
    "def get_response(intents_list, intents_json):\n",
    "    tag = intents_list[0]['intent']\n",
    "    list_of_intents = intents_json['intents']\n",
    "    \n",
    "    for i in list_of_intents:\n",
    "        if i['tag'] == tag:\n",
    "            result = random.choice(i['responses'])\n",
    "            break\n",
    "            \n",
    "    return result\n",
    "\n"
   ],
   "metadata": {
    "collapsed": false,
    "ExecuteTime": {
     "end_time": "2024-01-07T22:02:13.236777Z",
     "start_time": "2024-01-07T22:02:13.227051100Z"
    }
   },
   "id": "2a6e18d4198f1304"
  },
  {
   "cell_type": "code",
   "execution_count": 12,
   "outputs": [],
   "source": [
    "# chatbot response\n",
    "def chatbot_response(text):\n",
    "    ints = predict_class(text, model)\n",
    "    res = get_response(ints, intents)\n",
    "    return res\n",
    "\n"
   ],
   "metadata": {
    "collapsed": false,
    "ExecuteTime": {
     "end_time": "2024-01-07T22:02:13.257770700Z",
     "start_time": "2024-01-07T22:02:13.233844600Z"
    }
   },
   "id": "3971d4e293b9ddc3"
  },
  {
   "cell_type": "code",
   "execution_count": 14,
   "outputs": [
    {
     "name": "stdout",
     "output_type": "stream",
     "text": [
      "1/1 [==============================] - 0s 25ms/step\n",
      "1/1 [==============================] - 0s 25ms/step\n",
      "1/1 [==============================] - 0s 22ms/step\n",
      "1/1 [==============================] - 0s 21ms/step\n",
      "1/1 [==============================] - 0s 21ms/step\n"
     ]
    }
   ],
   "source": [
    "# create GUI\n",
    "import tkinter\n",
    "from tkinter import *\n",
    "\n",
    "def send():\n",
    "    msg = EntryBox.get(\"1.0\", 'end-1c').strip()\n",
    "    EntryBox.delete(\"0.0\", END)\n",
    "    \n",
    "    if msg != '':\n",
    "        ChatLog.config(state=NORMAL)\n",
    "        ChatLog.insert(END, \"You: \" + msg + '\\n\\n')\n",
    "        ChatLog.config(foreground=\"#442265\", font=(\"Verdana\", 12))\n",
    "        \n",
    "        res = chatbot_response(msg)\n",
    "        ChatLog.insert(END, \"SolentBot: \" + res + '\\n\\n')\n",
    "        \n",
    "        ChatLog.config(state=DISABLED)\n",
    "        ChatLog.yview(END)\n",
    "        \n",
    "base = Tk()\n",
    "base.title(\"SolentBot\")\n",
    "base.geometry(\"400x500\")\n",
    "base.resizable(width=FALSE, height=FALSE)\n",
    "\n",
    "# create chat window\n",
    "\n",
    "ChatLog = Text(base, bd=0, bg=\"white\", height=\"8\", width=\"50\", font=\"Arial\",)\n",
    "\n",
    "ChatLog.config(state=DISABLED)\n",
    "\n",
    "# bind scrollbar to chat window\n",
    "scrollbar = Scrollbar(base, command=ChatLog.yview, cursor=\"heart\")\n",
    "\n",
    "ChatLog['yscrollcommand'] = scrollbar.set\n",
    "\n",
    "# create button to send message\n",
    "SendButton = Button(base, font=(\"Verdana\", 12, 'bold'), text=\"Send\", width=\"12\", height=5,\n",
    "                    bd=0, bg=\"#32de97\", activebackground=\"#3c9d9b\", fg='#ffffff',\n",
    "                    command=send)\n",
    "\n",
    "# create the box to enter message\n",
    "EntryBox = Text(base, bd=0, bg=\"white\", width=\"29\", height=\"5\", font=\"Arial\")\n",
    "\n",
    "# place all components on the screen\n",
    "scrollbar.place(x=376, y=6, height=386)\n",
    "\n",
    "ChatLog.place(x=6, y=6, height=386, width=370)\n",
    "\n",
    "EntryBox.place(x=128, y=401, height=90, width=265)\n",
    "\n",
    "SendButton.place(x=6, y=401, height=90)\n",
    "    \n",
    "    \n",
    "base.mainloop()\n",
    "\n"
   ],
   "metadata": {
    "collapsed": false,
    "ExecuteTime": {
     "end_time": "2024-01-07T22:06:38.293249300Z",
     "start_time": "2024-01-07T22:05:09.044113200Z"
    }
   },
   "id": "f0f8be86c9856eaa"
  },
  {
   "cell_type": "code",
   "execution_count": 13,
   "outputs": [],
   "source": [],
   "metadata": {
    "collapsed": false,
    "ExecuteTime": {
     "end_time": "2024-01-07T22:03:08.091536700Z",
     "start_time": "2024-01-07T22:03:08.038701200Z"
    }
   },
   "id": "e8228ee95480981e"
  }
 ],
 "metadata": {
  "kernelspec": {
   "display_name": "Python 3",
   "language": "python",
   "name": "python3"
  },
  "language_info": {
   "codemirror_mode": {
    "name": "ipython",
    "version": 2
   },
   "file_extension": ".py",
   "mimetype": "text/x-python",
   "name": "python",
   "nbconvert_exporter": "python",
   "pygments_lexer": "ipython2",
   "version": "2.7.6"
  }
 },
 "nbformat": 4,
 "nbformat_minor": 5
}
